{
  "nbformat": 4,
  "nbformat_minor": 0,
  "metadata": {
    "colab": {
      "name": "colab에서 KorQuad 학습하기2-TPU.ipynb",
      "provenance": [],
      "collapsed_sections": [],
      "include_colab_link": true
    },
    "kernelspec": {
      "name": "python3",
      "display_name": "Python 3"
    },
    "accelerator": "TPU"
  },
  "cells": [
    {
      "cell_type": "markdown",
      "metadata": {
        "id": "view-in-github",
        "colab_type": "text"
      },
      "source": [
        "<a href=\"https://colab.research.google.com/github/iskra3138/colab_seminar/blob/master/colab%EC%97%90%EC%84%9C_KorQuad_%ED%95%99%EC%8A%B5%ED%95%98%EA%B8%B02_TPU.ipynb\" target=\"_parent\"><img src=\"https://colab.research.google.com/assets/colab-badge.svg\" alt=\"Open In Colab\"/></a>"
      ]
    },
    {
      "cell_type": "markdown",
      "metadata": {
        "id": "CRHQFnPIdgmi",
        "colab_type": "text"
      },
      "source": [
        "# Colab에서 KorQuAD 학습하기 2\n",
        "- TPU instance와 Google Drive, Google Cloud 활용\n",
        "- Google Cloud 계정이 있어야만 작동하는 코드입니다.\n",
        "- TPU로 학습시 약 20-`30분 소요`"
      ]
    },
    {
      "cell_type": "code",
      "metadata": {
        "id": "AiUJehtjFRS5",
        "colab_type": "code",
        "colab": {}
      },
      "source": [
        "## timezone을 한국시간으로 변경하기\n",
        "!rm /etc/localtime\n",
        "!ln -s /usr/share/zoneinfo/Asia/Seoul /etc/localtime\n",
        "!date"
      ],
      "execution_count": 0,
      "outputs": []
    },
    {
      "cell_type": "markdown",
      "metadata": {
        "id": "c-kAsPzeeZl-",
        "colab_type": "text"
      },
      "source": [
        "## 구글 클라우드 마운트"
      ]
    },
    {
      "cell_type": "code",
      "metadata": {
        "id": "GDf6dxZ_xmhG",
        "colab_type": "code",
        "colab": {}
      },
      "source": [
        "# Google Cloud 계정 인증\n",
        "from google.colab import auth\n",
        "auth.authenticate_user()"
      ],
      "execution_count": 0,
      "outputs": []
    },
    {
      "cell_type": "code",
      "metadata": {
        "id": "y5MDiPpkKtYP",
        "colab_type": "code",
        "colab": {}
      },
      "source": [
        "# project ID 확인\n",
        "!gcloud projects list"
      ],
      "execution_count": 0,
      "outputs": []
    },
    {
      "cell_type": "markdown",
      "metadata": {
        "id": "vedO3apTeR57",
        "colab_type": "text"
      },
      "source": [
        "- PROJECT에는 위 셀 output을 참고해서 작성\n",
        "- PRE_BUCKET에는 pre_trained model 이 저장될 storage의 이름 \"gs://name\"\n",
        "- OUT_BUCKET에는 output을 저장할 storage의 이름 \"gs://name\""
      ]
    },
    {
      "cell_type": "code",
      "metadata": {
        "id": "dp9VhlBaKtbp",
        "colab_type": "code",
        "colab": {}
      },
      "source": [
        "PROJECT = \"\" #@param {type:\"string\"}\n",
        "PRE_BUCKET = \"gs://\" #@param {type:\"string\"}\n",
        "OUT_BUCKET = \"gs://\" #@param {type:\"string\"}"
      ],
      "execution_count": 0,
      "outputs": []
    },
    {
      "cell_type": "code",
      "metadata": {
        "id": "x3VfKRU27dHY",
        "colab_type": "code",
        "colab": {}
      },
      "source": [
        "# pretrained files이 저장될 공간(버킷)과 output이 저장될 공간(버킷) 생성\n",
        "\n",
        "!gsutil mb -p {PROJECT} {PRE_BUCKET}\n",
        "!gsutil mb -p {PROJECT} {OUT_BUCKET}"
      ],
      "execution_count": 0,
      "outputs": []
    },
    {
      "cell_type": "markdown",
      "metadata": {
        "id": "BVbOZru4sU43",
        "colab_type": "text"
      },
      "source": [
        "## 구글 드라이브 마운트"
      ]
    },
    {
      "cell_type": "code",
      "metadata": {
        "id": "XLIfMjIWWwR1",
        "colab_type": "code",
        "colab": {}
      },
      "source": [
        "from google.colab import drive\n",
        "drive.mount('/gdrive') # 'gdrive'라는 이름으로 Google Drive를 Mount하겠다!"
      ],
      "execution_count": 0,
      "outputs": []
    },
    {
      "cell_type": "markdown",
      "metadata": {
        "id": "KIxKtDh4endB",
        "colab_type": "text"
      },
      "source": [
        "- Google Drive의 최상위 Directory는 '위에서 선언한 이름/My Drive'가 됨"
      ]
    },
    {
      "cell_type": "markdown",
      "metadata": {
        "id": "MSss6xtjer9w",
        "colab_type": "text"
      },
      "source": [
        "### 실험 공간 생성"
      ]
    },
    {
      "cell_type": "code",
      "metadata": {
        "id": "D_SlYRQOhVNY",
        "colab_type": "code",
        "colab": {}
      },
      "source": [
        "## 실험 공간 선언\n",
        "path='/gdrive/My Drive/KorQuAD'"
      ],
      "execution_count": 0,
      "outputs": []
    },
    {
      "cell_type": "code",
      "metadata": {
        "id": "7AKORtnufD5b",
        "colab_type": "code",
        "colab": {}
      },
      "source": [
        "# 실험을 위한 Directory 생성\n",
        "import os\n",
        "if not os.path.exists(path):\n",
        "  os.makedirs(path)"
      ],
      "execution_count": 0,
      "outputs": []
    },
    {
      "cell_type": "code",
      "metadata": {
        "id": "nokvV7RUfPyU",
        "colab_type": "code",
        "colab": {}
      },
      "source": [
        "# 실험 Directory로 이동 및 확인\n",
        "os.chdir(path)\n",
        "os.getcwd()"
      ],
      "execution_count": 0,
      "outputs": []
    },
    {
      "cell_type": "markdown",
      "metadata": {
        "id": "5PO6Oqu5gubg",
        "colab_type": "text"
      },
      "source": [
        "### 필요한 파일 다운 받기\n",
        "KorQuAD 학습하기1-GPU에서 파일들을 이미 받았다면 생략"
      ]
    },
    {
      "cell_type": "code",
      "metadata": {
        "id": "09fdZ0yKfEBx",
        "colab_type": "code",
        "colab": {}
      },
      "source": [
        "# pre-train된 모델 다운받기\n",
        "!wget https://storage.googleapis.com/bert_models/2018_11_23/multi_cased_L-12_H-768_A-12.zip"
      ],
      "execution_count": 0,
      "outputs": []
    },
    {
      "cell_type": "code",
      "metadata": {
        "id": "ZNIkQ9cofEI3",
        "colab_type": "code",
        "colab": {}
      },
      "source": [
        "# 압축 풀고 압축파일 삭제\n",
        "!unzip multi_cased_L-12_H-768_A-12.zip -d pretrained_files\n",
        "!rm multi_cased_L-12_H-768_A-12.zip"
      ],
      "execution_count": 0,
      "outputs": []
    },
    {
      "cell_type": "code",
      "metadata": {
        "id": "V-KJ-2vHfEFf",
        "colab_type": "code",
        "colab": {}
      },
      "source": [
        "# KorQuAD Data 다운받기\n",
        "\n",
        "!wget https://korquad.github.io/dataset/KorQuAD_v1.0_train.json\n",
        "!wget https://korquad.github.io/dataset/KorQuAD_v1.0_dev.json\n",
        "!wget https://korquad.github.io/dataset/evaluate-v1.0.py"
      ],
      "execution_count": 0,
      "outputs": []
    },
    {
      "cell_type": "code",
      "metadata": {
        "id": "LvJpIk0gfD-w",
        "colab_type": "code",
        "colab": {}
      },
      "source": [
        "# 학습에 필요한 코드 다운받기\n",
        "!git clone https://github.com/google-research/bert.git ./bert_files"
      ],
      "execution_count": 0,
      "outputs": []
    },
    {
      "cell_type": "markdown",
      "metadata": {
        "id": "OIus6r6wfdXm",
        "colab_type": "text"
      },
      "source": [
        "### TPU학습을 위해 필요한 파일들을 구글드라이브에서 구글클라우드로 옮기기"
      ]
    },
    {
      "cell_type": "code",
      "metadata": {
        "id": "fxEgKtY5g9XX",
        "colab_type": "code",
        "colab": {}
      },
      "source": [
        "## 코드 실행 위치 확인\n",
        "import os\n",
        "if not os.getcwd()==path:\n",
        "  os.chdir(path)\n",
        "  os.getcwd()"
      ],
      "execution_count": 0,
      "outputs": []
    },
    {
      "cell_type": "code",
      "metadata": {
        "id": "etCGVoqdiI1u",
        "colab_type": "code",
        "colab": {}
      },
      "source": [
        "pre_drive='{}/pretrained_files'.format(path)\n",
        "print (pre_drive)"
      ],
      "execution_count": 0,
      "outputs": []
    },
    {
      "cell_type": "code",
      "metadata": {
        "id": "Zf0slYuV7B2x",
        "colab_type": "code",
        "colab": {}
      },
      "source": [
        "## 로컬 -> 버킷으로 파일 복사(=업로드)\n",
        "!gsutil cp -r '{pre_drive}' '{PRE_BUCKET}'"
      ],
      "execution_count": 0,
      "outputs": []
    },
    {
      "cell_type": "markdown",
      "metadata": {
        "id": "JGhq5RwyfzNu",
        "colab_type": "text"
      },
      "source": [
        "### TPU 주소 확인하고 학습 실행\n",
        "- 재실행시 TPU 주소가 변경됨"
      ]
    },
    {
      "cell_type": "code",
      "metadata": {
        "id": "FIwQplLE7CB0",
        "colab_type": "code",
        "colab": {}
      },
      "source": [
        "import tensorflow as tf\n",
        "import numpy as np\n",
        "import os\n",
        "\n",
        "try:\n",
        "  device_name = os.environ['COLAB_TPU_ADDR']\n",
        "  TPU_ADDRESS = 'grpc://' + device_name\n",
        "  print('Found TPU at: {}'.format(TPU_ADDRESS))\n",
        "\n",
        "except KeyError:\n",
        "  print('TPU not found')"
      ],
      "execution_count": 0,
      "outputs": []
    },
    {
      "cell_type": "code",
      "metadata": {
        "id": "If5oQltV79MG",
        "colab_type": "code",
        "colab": {}
      },
      "source": [
        "## 각 파일들의 경로 잡아주고 TPU 학습\n",
        "!nohup python ./bert_files/run_squad.py \\\n",
        "  --vocab_file={PRE_BUCKET}/pretrained_files/multi_cased_L-12_H-768_A-12/vocab.txt \\\n",
        "  --bert_config_file={PRE_BUCKET}/pretrained_files/multi_cased_L-12_H-768_A-12/bert_config.json \\\n",
        "  --init_checkpoint={PRE_BUCKET}/pretrained_files/multi_cased_L-12_H-768_A-12/bert_model.ckpt \\\n",
        "  --do_train=True \\\n",
        "  --train_file=./KorQuAD_v1.0_train.json \\\n",
        "  --do_predict=True \\\n",
        "  --predict_file=./KorQuAD_v1.0_dev.json \\\n",
        "  --train_batch_size=16 \\\n",
        "  --learning_rate=3e-5 \\\n",
        "  --num_train_epochs=2.0 \\\n",
        "  --max_seq_length=256 \\\n",
        "  --doc_stride=128 \\\n",
        "  --output_dir={OUT_BUCKET} \\\n",
        "  --use_tpu=True \\\n",
        "  --tpu_name=$TPU_ADDRESS \\\n",
        "  --do_lower_case=False \\\n",
        "  > log_tpu.txt &"
      ],
      "execution_count": 0,
      "outputs": []
    },
    {
      "cell_type": "code",
      "metadata": {
        "id": "AeXnhQlj8dWZ",
        "colab_type": "code",
        "colab": {}
      },
      "source": [
        "### process 확인\n",
        "##### python2 ./bert_files/run_squad.py 로 시작하는 process가 있으면 background에서 실행 중\n",
        "!ps -ef | grep bert_files"
      ],
      "execution_count": 0,
      "outputs": []
    },
    {
      "cell_type": "code",
      "metadata": {
        "id": "F2V-I_SeJGhq",
        "colab_type": "code",
        "colab": {}
      },
      "source": [
        "### 학습을 강제로 죽이고 싶으면 위에서 찾은 process ID 입력\n",
        "#!kill -9 PID"
      ],
      "execution_count": 0,
      "outputs": []
    },
    {
      "cell_type": "markdown",
      "metadata": {
        "id": "QVg_MYj4U4WC",
        "colab_type": "text"
      },
      "source": [
        "### log monitoring"
      ]
    },
    {
      "cell_type": "code",
      "metadata": {
        "id": "fd7nna1QFz0n",
        "colab_type": "code",
        "colab": {}
      },
      "source": [
        "!tail -f log_tpu.txt"
      ],
      "execution_count": 0,
      "outputs": []
    },
    {
      "cell_type": "code",
      "metadata": {
        "id": "WOIL1BrU8IuY",
        "colab_type": "code",
        "colab": {}
      },
      "source": [
        "## predictions.json 파일이 있으면 학습/평가가 완료된 것임\n",
        "!!gsutil ls {OUT_BUCKET}"
      ],
      "execution_count": 0,
      "outputs": []
    },
    {
      "cell_type": "markdown",
      "metadata": {
        "id": "oJO4Vx_FUs5b",
        "colab_type": "text"
      },
      "source": [
        "### Tensorboard 실행 \n",
        "- 학습 중에 실행하다 보면 학습이 죽는 현상 발생. 학습이 완료되면 실행할 것을 추천"
      ]
    },
    {
      "cell_type": "code",
      "metadata": {
        "id": "NBATxGcyUD9K",
        "colab_type": "code",
        "colab": {}
      },
      "source": [
        "if not os.path.isfile('ngrok-stable-linux-amd64.zip'):\n",
        "  !wget https://bin.equinox.io/c/4VmDzA7iaHb/ngrok-stable-linux-amd64.zip\n",
        "  !unzip ngrok-stable-linux-amd64.zip\n",
        "elif os.path.exists('ngrok') :\n",
        "  !rm ./ngrok"
      ],
      "execution_count": 0,
      "outputs": []
    },
    {
      "cell_type": "code",
      "metadata": {
        "id": "NBoNACCwUJuz",
        "colab_type": "code",
        "colab": {}
      },
      "source": [
        "LOG_DIR = {OUT_BUCKET}\n",
        "get_ipython().system_raw(\n",
        "    'tensorboard --logdir {} --host 0.0.0.0 --port 6006 &'\n",
        "    .format(LOG_DIR)\n",
        ")"
      ],
      "execution_count": 0,
      "outputs": []
    },
    {
      "cell_type": "code",
      "metadata": {
        "id": "LCPlgQ4TUX1g",
        "colab_type": "code",
        "colab": {}
      },
      "source": [
        "get_ipython().system_raw('./ngrok http 6006 &')"
      ],
      "execution_count": 0,
      "outputs": []
    },
    {
      "cell_type": "code",
      "metadata": {
        "id": "gLBGnCTrUaTg",
        "colab_type": "code",
        "colab": {}
      },
      "source": [
        "!curl -s http://localhost:4040/api/tunnels | python3 -c \\\n",
        "    \"import sys, json; print(json.load(sys.stdin)['tunnels'][0]['public_url'])\""
      ],
      "execution_count": 0,
      "outputs": []
    },
    {
      "cell_type": "markdown",
      "metadata": {
        "id": "LDMWaVKEg_SZ",
        "colab_type": "text"
      },
      "source": [
        "### 성능 평가를 위해 필요한 파일들을 구글 클라우드에서 구글드라이브로 다운로드"
      ]
    },
    {
      "cell_type": "code",
      "metadata": {
        "id": "gAGFE7rM7CNV",
        "colab_type": "code",
        "colab": {}
      },
      "source": [
        "## 버킷 -> 로컬로 파일 복사(=다운로드)\n",
        "\n",
        "!mkdir temp_tpu # ouput을 저장할 폴더 생성\n",
        "\n",
        "!gsutil cp {OUT_BUCKET}/predictions.json ./temp_tpu/predictions.json"
      ],
      "execution_count": 0,
      "outputs": []
    },
    {
      "cell_type": "code",
      "metadata": {
        "id": "1AZPN4KE8EFO",
        "colab_type": "code",
        "colab": {}
      },
      "source": [
        "# 평가\n",
        "!python ./evaluate-v1.0.py ./KorQuAD_v1.0_dev.json ./temp_tpu/predictions.json"
      ],
      "execution_count": 0,
      "outputs": []
    },
    {
      "cell_type": "markdown",
      "metadata": {
        "id": "MJh8LV_shPGo",
        "colab_type": "text"
      },
      "source": [
        "### 구글클라우드 스토리지에 저장된 파일들 삭제"
      ]
    },
    {
      "cell_type": "code",
      "metadata": {
        "id": "LnBeyGXz8EAJ",
        "colab_type": "code",
        "colab": {}
      },
      "source": [
        "## 생성된 bucket 삭제\n",
        "!gsutil rm -r {PRE_BUCKET}\n",
        "!gsutil rm -r {OUT_BUCKET}"
      ],
      "execution_count": 0,
      "outputs": []
    },
    {
      "cell_type": "markdown",
      "metadata": {
        "id": "bp4XT8dbhhY4",
        "colab_type": "text"
      },
      "source": [
        "### log 파일을 local로 다운로드"
      ]
    },
    {
      "cell_type": "code",
      "metadata": {
        "id": "DLJCfaYsiVPU",
        "colab_type": "code",
        "colab": {}
      },
      "source": [
        "from google.colab import files\n",
        "\n",
        "files.download('./log_tpu.txt')"
      ],
      "execution_count": 0,
      "outputs": []
    },
    {
      "cell_type": "markdown",
      "metadata": {
        "id": "C8Q_7UJZhwD_",
        "colab_type": "text"
      },
      "source": [
        "## Clean Up\n",
        "Before running the next exercise, run the following cell to terminate the kernel and free memory resources:"
      ]
    },
    {
      "cell_type": "code",
      "metadata": {
        "id": "4X0zL0j-hxy1",
        "colab_type": "code",
        "colab": {}
      },
      "source": [
        "import os, signal\n",
        "os.kill(os.getpid(), signal.SIGKILL)"
      ],
      "execution_count": 0,
      "outputs": []
    },
    {
      "cell_type": "code",
      "metadata": {
        "id": "V1W-8LDfFafO",
        "colab_type": "code",
        "colab": {}
      },
      "source": [
        ""
      ],
      "execution_count": 0,
      "outputs": []
    }
  ]
}