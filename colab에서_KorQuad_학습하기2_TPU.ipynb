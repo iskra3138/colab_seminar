{
  "nbformat": 4,
  "nbformat_minor": 0,
  "metadata": {
    "colab": {
      "name": "colab에서 KorQuad 학습하기2-TPU.ipynb",
      "provenance": [],
      "collapsed_sections": [],
      "include_colab_link": true
    },
    "kernelspec": {
      "name": "python3",
      "display_name": "Python 3"
    },
    "accelerator": "TPU"
  },
  "cells": [
    {
      "cell_type": "markdown",
      "metadata": {
        "id": "view-in-github",
        "colab_type": "text"
      },
      "source": [
        "<a href=\"https://colab.research.google.com/github/iskra3138/colab_seminar/blob/master/colab%EC%97%90%EC%84%9C_KorQuad_%ED%95%99%EC%8A%B5%ED%95%98%EA%B8%B02_TPU.ipynb\" target=\"_parent\"><img src=\"https://colab.research.google.com/assets/colab-badge.svg\" alt=\"Open In Colab\"/></a>"
      ]
    },
    {
      "cell_type": "markdown",
      "metadata": {
        "id": "CRHQFnPIdgmi",
        "colab_type": "text"
      },
      "source": [
        "# Colab에서 KorQuAD 학습하기 2\n",
        "- TPU instance와 Google Drive, Google Cloud 활용\n",
        "- Google Cloud 계정이 있어야만 작동하는 코드입니다."
      ]
    },
    {
      "cell_type": "markdown",
      "metadata": {
        "id": "c-kAsPzeeZl-",
        "colab_type": "text"
      },
      "source": [
        "## 구글 클라우드 마운트"
      ]
    },
    {
      "cell_type": "code",
      "metadata": {
        "id": "GDf6dxZ_xmhG",
        "colab_type": "code",
        "colab": {
          "base_uri": "https://localhost:8080/",
          "height": 158
        },
        "outputId": "4a6060a2-9c36-491a-9890-c717e8f2087f"
      },
      "source": [
        "# Google Cloud 계정 인증\n",
        "from google.colab import auth\n",
        "auth.authenticate_user()"
      ],
      "execution_count": 1,
      "outputs": [
        {
          "output_type": "stream",
          "text": [
            "WARNING:tensorflow:\n",
            "The TensorFlow contrib module will not be included in TensorFlow 2.0.\n",
            "For more information, please see:\n",
            "  * https://github.com/tensorflow/community/blob/master/rfcs/20180907-contrib-sunset.md\n",
            "  * https://github.com/tensorflow/addons\n",
            "  * https://github.com/tensorflow/io (for I/O related ops)\n",
            "If you depend on functionality not listed there, please file an issue.\n",
            "\n"
          ],
          "name": "stdout"
        }
      ]
    },
    {
      "cell_type": "code",
      "metadata": {
        "id": "y5MDiPpkKtYP",
        "colab_type": "code",
        "colab": {
          "base_uri": "https://localhost:8080/",
          "height": 158
        },
        "outputId": "1427acd2-4039-4f96-c9bd-7c979491a33c"
      },
      "source": [
        "# project ID 확인\n",
        "!gcloud projects list"
      ],
      "execution_count": 2,
      "outputs": [
        {
          "output_type": "stream",
          "text": [
            "PROJECT_ID             NAME              PROJECT_NUMBER\n",
            "optimal-bivouac-98502  test              40457369823\n",
            "precise-tenure-263301  My First Project  20496313163\n",
            "\n",
            "\n",
            "To take a quick anonymous survey, run:\n",
            "  $ gcloud survey\n",
            "\n"
          ],
          "name": "stdout"
        }
      ]
    },
    {
      "cell_type": "markdown",
      "metadata": {
        "id": "vedO3apTeR57",
        "colab_type": "text"
      },
      "source": [
        "- PROJECT에는 위 셀 output을 참고해서 작성\n",
        "- PRE_BUCKET에는 pre_trained model 이 저장될 storage의 이름 \"gs://name\"\n",
        "- OUT_BUCKET에는 output을 저장할 storage의 이름 \"gs://name\""
      ]
    },
    {
      "cell_type": "code",
      "metadata": {
        "id": "dp9VhlBaKtbp",
        "colab_type": "code",
        "colab": {}
      },
      "source": [
        "PROJECT = \"precise-tenure-263301\" #@param {type:\"string\"}\n",
        "PRE_BUCKET = \"gs://iskra3138_pretrained_files\" #@param {type:\"string\"}\n",
        "OUT_BUCKET = \"gs://iskra3138_temp\" #@param {type:\"string\"}"
      ],
      "execution_count": 0,
      "outputs": []
    },
    {
      "cell_type": "code",
      "metadata": {
        "id": "x3VfKRU27dHY",
        "colab_type": "code",
        "colab": {
          "base_uri": "https://localhost:8080/",
          "height": 107
        },
        "outputId": "dcedd86b-65a3-414b-c7b3-e7c6967fdbb5"
      },
      "source": [
        "## pretrained files이 저장될 공간(버킷)과 output이 저장될 공간(버킷) 생성\n",
        "\n",
        "!gsutil mb {PRE_BUCKET}\n",
        "!gsutil mb {OUT_BUCKET}"
      ],
      "execution_count": 4,
      "outputs": [
        {
          "output_type": "stream",
          "text": [
            "Creating gs://iskra3138_pretrained_files/...\n",
            "You are attempting to perform an operation that requires a project id, with none configured. Please re-run gsutil config and make sure to follow the instructions for finding and entering your default project id.\n",
            "Creating gs://iskra3138_temp/...\n",
            "You are attempting to perform an operation that requires a project id, with none configured. Please re-run gsutil config and make sure to follow the instructions for finding and entering your default project id.\n"
          ],
          "name": "stdout"
        }
      ]
    },
    {
      "cell_type": "markdown",
      "metadata": {
        "id": "BVbOZru4sU43",
        "colab_type": "text"
      },
      "source": [
        "## 구글 드라이브 마운트"
      ]
    },
    {
      "cell_type": "code",
      "metadata": {
        "id": "XLIfMjIWWwR1",
        "colab_type": "code",
        "colab": {
          "base_uri": "https://localhost:8080/",
          "height": 125
        },
        "outputId": "4fe6469e-f019-4d0e-e49b-1ae557bd967b"
      },
      "source": [
        "from google.colab import drive\n",
        "drive.mount('/gdrive') # 'gdrive'라는 이름으로 Google Drive를 Mount하겠다!"
      ],
      "execution_count": 5,
      "outputs": [
        {
          "output_type": "stream",
          "text": [
            "Go to this URL in a browser: https://accounts.google.com/o/oauth2/auth?client_id=947318989803-6bn6qk8qdgf4n4g3pfee6491hc0brc4i.apps.googleusercontent.com&redirect_uri=urn%3aietf%3awg%3aoauth%3a2.0%3aoob&response_type=code&scope=email%20https%3a%2f%2fwww.googleapis.com%2fauth%2fdocs.test%20https%3a%2f%2fwww.googleapis.com%2fauth%2fdrive%20https%3a%2f%2fwww.googleapis.com%2fauth%2fdrive.photos.readonly%20https%3a%2f%2fwww.googleapis.com%2fauth%2fpeopleapi.readonly\n",
            "\n",
            "Enter your authorization code:\n",
            "··········\n",
            "Mounted at /gdrive\n"
          ],
          "name": "stdout"
        }
      ]
    },
    {
      "cell_type": "markdown",
      "metadata": {
        "id": "KIxKtDh4endB",
        "colab_type": "text"
      },
      "source": [
        "- Google Drive의 최상위 Directory는 '위에서 선언한 이름/My Drive'가 됨"
      ]
    },
    {
      "cell_type": "markdown",
      "metadata": {
        "id": "MSss6xtjer9w",
        "colab_type": "text"
      },
      "source": [
        "### 실험 공간 생성"
      ]
    },
    {
      "cell_type": "code",
      "metadata": {
        "id": "D_SlYRQOhVNY",
        "colab_type": "code",
        "colab": {}
      },
      "source": [
        "## 실험 공간 선언\n",
        "path='/gdrive/My Drive/KorQuAD'"
      ],
      "execution_count": 0,
      "outputs": []
    },
    {
      "cell_type": "code",
      "metadata": {
        "id": "7AKORtnufD5b",
        "colab_type": "code",
        "colab": {}
      },
      "source": [
        "# 실험을 위한 Directory 생성\n",
        "import os\n",
        "if not os.path.exists(path):\n",
        "  os.makedirs(path)"
      ],
      "execution_count": 0,
      "outputs": []
    },
    {
      "cell_type": "code",
      "metadata": {
        "id": "nokvV7RUfPyU",
        "colab_type": "code",
        "colab": {
          "base_uri": "https://localhost:8080/",
          "height": 34
        },
        "outputId": "db7fc188-4d8e-4aaf-82fb-6697338148b6"
      },
      "source": [
        "# 실험 Directory로 이동 및 확인\n",
        "os.chdir(path)\n",
        "os.getcwd()"
      ],
      "execution_count": 8,
      "outputs": [
        {
          "output_type": "execute_result",
          "data": {
            "text/plain": [
              "'/gdrive/My Drive/KorQuAD'"
            ]
          },
          "metadata": {
            "tags": []
          },
          "execution_count": 8
        }
      ]
    },
    {
      "cell_type": "markdown",
      "metadata": {
        "id": "5PO6Oqu5gubg",
        "colab_type": "text"
      },
      "source": [
        "### 필요한 파일 다운 받기\n",
        "KorQuAD 학습하기1-GPU에서 파일들을 이미 받았다면 생략"
      ]
    },
    {
      "cell_type": "code",
      "metadata": {
        "id": "09fdZ0yKfEBx",
        "colab_type": "code",
        "colab": {
          "base_uri": "https://localhost:8080/",
          "height": 210
        },
        "outputId": "48134300-a083-4d01-c698-f80135398382"
      },
      "source": [
        "# pre-train된 모델 다운받기\n",
        "!wget https://storage.googleapis.com/bert_models/2018_11_23/multi_cased_L-12_H-768_A-12.zip"
      ],
      "execution_count": 9,
      "outputs": [
        {
          "output_type": "stream",
          "text": [
            "--2020-01-09 17:11:45--  https://storage.googleapis.com/bert_models/2018_11_23/multi_cased_L-12_H-768_A-12.zip\n",
            "Resolving storage.googleapis.com (storage.googleapis.com)... 108.177.111.128, 2607:f8b0:4001:c1b::80\n",
            "Connecting to storage.googleapis.com (storage.googleapis.com)|108.177.111.128|:443... connected.\n",
            "HTTP request sent, awaiting response... 200 OK\n",
            "Length: 662903077 (632M) [application/zip]\n",
            "Saving to: ‘multi_cased_L-12_H-768_A-12.zip’\n",
            "\n",
            "multi_cased_L-12_H- 100%[===================>] 632.19M  48.6MB/s    in 10s     \n",
            "\n",
            "2020-01-09 17:11:56 (62.1 MB/s) - ‘multi_cased_L-12_H-768_A-12.zip’ saved [662903077/662903077]\n",
            "\n"
          ],
          "name": "stdout"
        }
      ]
    },
    {
      "cell_type": "code",
      "metadata": {
        "id": "ZNIkQ9cofEI3",
        "colab_type": "code",
        "colab": {
          "base_uri": "https://localhost:8080/",
          "height": 140
        },
        "outputId": "3b681d22-5502-40ce-9be5-ca05bcd6140a"
      },
      "source": [
        "# 압축 풀고 압축파일 삭제\n",
        "!unzip multi_cased_L-12_H-768_A-12.zip -d pretrained_files\n",
        "!rm multi_cased_L-12_H-768_A-12.zip"
      ],
      "execution_count": 10,
      "outputs": [
        {
          "output_type": "stream",
          "text": [
            "Archive:  multi_cased_L-12_H-768_A-12.zip\n",
            "   creating: pretrained_files/multi_cased_L-12_H-768_A-12/\n",
            "  inflating: pretrained_files/multi_cased_L-12_H-768_A-12/bert_model.ckpt.meta  \n",
            "  inflating: pretrained_files/multi_cased_L-12_H-768_A-12/bert_model.ckpt.data-00000-of-00001  \n",
            "  inflating: pretrained_files/multi_cased_L-12_H-768_A-12/vocab.txt  \n",
            "  inflating: pretrained_files/multi_cased_L-12_H-768_A-12/bert_model.ckpt.index  \n",
            "  inflating: pretrained_files/multi_cased_L-12_H-768_A-12/bert_config.json  \n"
          ],
          "name": "stdout"
        }
      ]
    },
    {
      "cell_type": "code",
      "metadata": {
        "id": "V-KJ-2vHfEFf",
        "colab_type": "code",
        "colab": {
          "base_uri": "https://localhost:8080/",
          "height": 598
        },
        "outputId": "48784694-c876-43b1-9b43-3f36920ed890"
      },
      "source": [
        "# KorQuAD Data 다운받기\n",
        "\n",
        "!wget https://korquad.github.io/dataset/KorQuAD_v1.0_train.json\n",
        "!wget https://korquad.github.io/dataset/KorQuAD_v1.0_dev.json\n",
        "!wget https://korquad.github.io/dataset/evaluate-v1.0.py"
      ],
      "execution_count": 11,
      "outputs": [
        {
          "output_type": "stream",
          "text": [
            "--2020-01-09 17:12:14--  https://korquad.github.io/dataset/KorQuAD_v1.0_train.json\n",
            "Resolving korquad.github.io (korquad.github.io)... 185.199.111.153, 185.199.110.153, 185.199.109.153, ...\n",
            "Connecting to korquad.github.io (korquad.github.io)|185.199.111.153|:443... connected.\n",
            "HTTP request sent, awaiting response... 200 OK\n",
            "Length: 38527475 (37M) [application/json]\n",
            "Saving to: ‘KorQuAD_v1.0_train.json’\n",
            "\n",
            "KorQuAD_v1.0_train. 100%[===================>]  36.74M  78.1MB/s    in 0.5s    \n",
            "\n",
            "2020-01-09 17:12:15 (78.1 MB/s) - ‘KorQuAD_v1.0_train.json’ saved [38527475/38527475]\n",
            "\n",
            "--2020-01-09 17:12:16--  https://korquad.github.io/dataset/KorQuAD_v1.0_dev.json\n",
            "Resolving korquad.github.io (korquad.github.io)... 185.199.111.153, 185.199.110.153, 185.199.109.153, ...\n",
            "Connecting to korquad.github.io (korquad.github.io)|185.199.111.153|:443... connected.\n",
            "HTTP request sent, awaiting response... 200 OK\n",
            "Length: 3881058 (3.7M) [application/json]\n",
            "Saving to: ‘KorQuAD_v1.0_dev.json’\n",
            "\n",
            "KorQuAD_v1.0_dev.js 100%[===================>]   3.70M  --.-KB/s    in 0.1s    \n",
            "\n",
            "2020-01-09 17:12:16 (31.2 MB/s) - ‘KorQuAD_v1.0_dev.json’ saved [3881058/3881058]\n",
            "\n",
            "--2020-01-09 17:12:17--  https://korquad.github.io/dataset/evaluate-v1.0.py\n",
            "Resolving korquad.github.io (korquad.github.io)... 185.199.111.153, 185.199.110.153, 185.199.109.153, ...\n",
            "Connecting to korquad.github.io (korquad.github.io)|185.199.111.153|:443... connected.\n",
            "HTTP request sent, awaiting response... 200 OK\n",
            "Length: 4305 (4.2K) [application/octet-stream]\n",
            "Saving to: ‘evaluate-v1.0.py’\n",
            "\n",
            "evaluate-v1.0.py    100%[===================>]   4.20K  --.-KB/s    in 0.001s  \n",
            "\n",
            "2020-01-09 17:12:17 (5.55 MB/s) - ‘evaluate-v1.0.py’ saved [4305/4305]\n",
            "\n"
          ],
          "name": "stdout"
        }
      ]
    },
    {
      "cell_type": "code",
      "metadata": {
        "id": "LvJpIk0gfD-w",
        "colab_type": "code",
        "colab": {
          "base_uri": "https://localhost:8080/",
          "height": 105
        },
        "outputId": "c65aa3d4-0aef-4527-fe6d-d7f3725e5e62"
      },
      "source": [
        "# 학습에 필요한 코드 다운받기\n",
        "!git clone https://github.com/google-research/bert.git ./bert_files"
      ],
      "execution_count": 12,
      "outputs": [
        {
          "output_type": "stream",
          "text": [
            "Cloning into './bert_files'...\n",
            "remote: Enumerating objects: 336, done.\u001b[K\n",
            "remote: Total 336 (delta 0), reused 0 (delta 0), pack-reused 336\u001b[K\n",
            "Receiving objects: 100% (336/336), 287.79 KiB | 3.74 MiB/s, done.\n",
            "Resolving deltas: 100% (184/184), done.\n"
          ],
          "name": "stdout"
        }
      ]
    },
    {
      "cell_type": "markdown",
      "metadata": {
        "id": "OIus6r6wfdXm",
        "colab_type": "text"
      },
      "source": [
        "### TPU학습을 위해 필요한 파일들을 구글드라이브에서 구글클라우드로 옮기기"
      ]
    },
    {
      "cell_type": "code",
      "metadata": {
        "id": "fxEgKtY5g9XX",
        "colab_type": "code",
        "colab": {}
      },
      "source": [
        "import os\n",
        "if not os.getcwd()==path:\n",
        "  os.chdir(path)\n",
        "  os.getcwd()"
      ],
      "execution_count": 0,
      "outputs": []
    },
    {
      "cell_type": "code",
      "metadata": {
        "id": "etCGVoqdiI1u",
        "colab_type": "code",
        "colab": {
          "base_uri": "https://localhost:8080/",
          "height": 34
        },
        "outputId": "a5d56227-eb3f-4d8f-cba8-f417901b8547"
      },
      "source": [
        "pre_drive='{}/pretrained_files'.format(path)\n",
        "print (pre_drive)"
      ],
      "execution_count": 14,
      "outputs": [
        {
          "output_type": "stream",
          "text": [
            "/gdrive/My Drive/KorQuAD/pretrained_files\n"
          ],
          "name": "stdout"
        }
      ]
    },
    {
      "cell_type": "code",
      "metadata": {
        "id": "Zf0slYuV7B2x",
        "colab_type": "code",
        "colab": {
          "base_uri": "https://localhost:8080/",
          "height": 457
        },
        "outputId": "58b98aa3-dc5b-435c-ed31-1e71bee0e610"
      },
      "source": [
        "## 로컬 -> 버킷으로 파일 복사(=업로드)\n",
        "!gsutil cp -r '{pre_drive}' '{PRE_BUCKET}'"
      ],
      "execution_count": 15,
      "outputs": [
        {
          "output_type": "stream",
          "text": [
            "Copying file:///gdrive/My Drive/KorQuAD/pretrained_files/multi_cased_L-12_H-768_A-12/bert_model.ckpt.meta [Content-Type=application/octet-stream]...\n",
            "Copying file:///gdrive/My Drive/KorQuAD/pretrained_files/multi_cased_L-12_H-768_A-12/bert_model.ckpt.data-00000-of-00001 [Content-Type=application/octet-stream]...\n",
            "==> NOTE: You are uploading one or more large file(s), which would run\n",
            "significantly faster if you enable parallel composite uploads. This\n",
            "feature can be enabled by editing the\n",
            "\"parallel_composite_upload_threshold\" value in your .boto\n",
            "configuration file. However, note that if you do this large files will\n",
            "be uploaded as `composite objects\n",
            "<https://cloud.google.com/storage/docs/composite-objects>`_,which\n",
            "means that any user who downloads such objects will need to have a\n",
            "compiled crcmod installed (see \"gsutil help crcmod\"). This is because\n",
            "without a compiled crcmod, computing checksums on composite objects is\n",
            "so slow that gsutil disables downloads of composite objects.\n",
            "\n",
            "Copying file:///gdrive/My Drive/KorQuAD/pretrained_files/multi_cased_L-12_H-768_A-12/vocab.txt [Content-Type=text/plain]...\n",
            "Copying file:///gdrive/My Drive/KorQuAD/pretrained_files/multi_cased_L-12_H-768_A-12/bert_model.ckpt.index [Content-Type=application/octet-stream]...\n",
            "/ [4 files][683.0 MiB/683.0 MiB]   31.3 MiB/s                                   \n",
            "==> NOTE: You are performing a sequence of gsutil operations that may\n",
            "run significantly faster if you instead use gsutil -m cp ... Please\n",
            "see the -m section under \"gsutil help options\" for further information\n",
            "about when gsutil -m can be advantageous.\n",
            "\n",
            "Copying file:///gdrive/My Drive/KorQuAD/pretrained_files/multi_cased_L-12_H-768_A-12/bert_config.json [Content-Type=application/json]...\n",
            "-\n",
            "Operation completed over 5 objects/683.0 MiB.                                    \n"
          ],
          "name": "stdout"
        }
      ]
    },
    {
      "cell_type": "markdown",
      "metadata": {
        "id": "JGhq5RwyfzNu",
        "colab_type": "text"
      },
      "source": [
        "### TPU 주소 확인하고 학습 실행\n",
        "- 재실행시 TPU 주소가 변경됨"
      ]
    },
    {
      "cell_type": "code",
      "metadata": {
        "id": "FIwQplLE7CB0",
        "colab_type": "code",
        "colab": {
          "base_uri": "https://localhost:8080/",
          "height": 34
        },
        "outputId": "fdc92ddd-48b5-4dde-f707-b70e8891bf46"
      },
      "source": [
        "import tensorflow as tf\n",
        "import numpy as np\n",
        "import os\n",
        "\n",
        "try:\n",
        "  device_name = os.environ['COLAB_TPU_ADDR']\n",
        "  TPU_ADDRESS = 'grpc://' + device_name\n",
        "  print('Found TPU at: {}'.format(TPU_ADDRESS))\n",
        "\n",
        "except KeyError:\n",
        "  print('TPU not found')"
      ],
      "execution_count": 16,
      "outputs": [
        {
          "output_type": "stream",
          "text": [
            "Found TPU at: grpc://10.121.229.98:8470\n"
          ],
          "name": "stdout"
        }
      ]
    },
    {
      "cell_type": "code",
      "metadata": {
        "id": "e9cA_CMJi648",
        "colab_type": "code",
        "colab": {
          "base_uri": "https://localhost:8080/",
          "height": 34
        },
        "outputId": "6a623773-5133-4966-fddd-0a33568dba52"
      },
      "source": [
        "!gsutil ls {PRE_BUCKET}/pretrained_files/"
      ],
      "execution_count": 17,
      "outputs": [
        {
          "output_type": "stream",
          "text": [
            "gs://iskra3138_pretrained_files/pretrained_files/multi_cased_L-12_H-768_A-12/\n"
          ],
          "name": "stdout"
        }
      ]
    },
    {
      "cell_type": "code",
      "metadata": {
        "id": "If5oQltV79MG",
        "colab_type": "code",
        "colab": {
          "base_uri": "https://localhost:8080/",
          "height": 34
        },
        "outputId": "8cd61b21-a0ec-4ee6-e090-89399bdda501"
      },
      "source": [
        "## 각 파일들의 경로 잡아주고 TPU 학습\n",
        "!nohup python ./bert_files/run_squad.py \\\n",
        "  --vocab_file={PRE_BUCKET}/pretrained_files/multi_cased_L-12_H-768_A-12/vocab.txt \\\n",
        "  --bert_config_file={PRE_BUCKET}/pretrained_files/multi_cased_L-12_H-768_A-12/bert_config.json \\\n",
        "  --init_checkpoint={PRE_BUCKET}/pretrained_files/multi_cased_L-12_H-768_A-12/bert_model.ckpt \\\n",
        "  --do_train=True \\\n",
        "  --train_file=./KorQuAD_v1.0_train.json \\\n",
        "  --do_predict=True \\\n",
        "  --predict_file=./KorQuAD_v1.0_dev.json \\\n",
        "  --train_batch_size=16 \\\n",
        "  --learning_rate=3e-5 \\\n",
        "  --num_train_epochs=1.0 \\\n",
        "  --max_seq_length=256 \\\n",
        "  --doc_stride=128 \\\n",
        "  --output_dir={OUT_BUCKET} \\\n",
        "  --use_tpu=True \\\n",
        "  --tpu_name=$TPU_ADDRESS \\\n",
        "  --do_lower_case=False \\\n",
        "  > log_tpu.txt &"
      ],
      "execution_count": 18,
      "outputs": [
        {
          "output_type": "stream",
          "text": [
            "nohup: redirecting stderr to stdout\n"
          ],
          "name": "stdout"
        }
      ]
    },
    {
      "cell_type": "markdown",
      "metadata": {
        "id": "QVg_MYj4U4WC",
        "colab_type": "text"
      },
      "source": [
        "### log monitoring"
      ]
    },
    {
      "cell_type": "code",
      "metadata": {
        "id": "fd7nna1QFz0n",
        "colab_type": "code",
        "colab": {
          "base_uri": "https://localhost:8080/",
          "height": 310
        },
        "outputId": "af48314f-59d4-4a13-b660-46e3b8735834"
      },
      "source": [
        "!tail -f log_tpu.txt"
      ],
      "execution_count": 0,
      "outputs": [
        {
          "output_type": "stream",
          "text": [
            "I0109 17:20:47.309856 139949708806016 session_support.py:82] Creating heartbeat manager for ['/job:worker/replica:0/task:0/device:CPU:0']\n",
            "I0109 17:20:47.311743 139949708806016 session_support.py:105] Configuring worker heartbeat: shutdown_mode: WAIT_FOR_COORDINATOR\n",
            "\n",
            "I0109 17:20:47.316382 139949708806016 tpu_estimator.py:567] Init TPU system\n",
            "I0109 17:20:52.131591 139949708806016 tpu_estimator.py:576] Initialized TPU in 4 seconds\n",
            "I0109 17:20:52.132433 139947973801728 tpu_estimator.py:521] Starting infeed thread controller.\n",
            "I0109 17:20:52.133394 139947936610048 tpu_estimator.py:540] Starting outfeed thread controller.\n",
            "I0109 17:20:52.596939 139949708806016 tpu_estimator.py:600] Enqueue next (1000) batch(es) of data to infeed.\n",
            "I0109 17:20:52.597553 139949708806016 tpu_estimator.py:604] Dequeue next (1000) batch(es) of data from outfeed.\n",
            "I0109 17:21:21.437103 139947936610048 tpu_estimator.py:279] Outfeed finished for iteration (0, 0)\n",
            "I0109 17:22:19.122221 139949708806016 basic_session_run_hooks.py:606] Saving checkpoints for 1000 into gs://iskra3138_temp/model.ckpt.\n",
            "I0109 17:23:04.575517 139949708806016 basic_session_run_hooks.py:262] loss = 0.0022025006, step = 1000\n",
            "I0109 17:23:04.578799 139949708806016 tpu_estimator.py:600] Enqueue next (1000) batch(es) of data to infeed.\n",
            "I0109 17:23:04.579216 139949708806016 tpu_estimator.py:604] Dequeue next (1000) batch(es) of data from outfeed.\n",
            "I0109 17:23:10.784707 139947936610048 tpu_estimator.py:279] Outfeed finished for iteration (1, 0)\n"
          ],
          "name": "stdout"
        }
      ]
    },
    {
      "cell_type": "markdown",
      "metadata": {
        "id": "oJO4Vx_FUs5b",
        "colab_type": "text"
      },
      "source": [
        "### Tensorboard 실행"
      ]
    },
    {
      "cell_type": "code",
      "metadata": {
        "id": "NBATxGcyUD9K",
        "colab_type": "code",
        "colab": {
          "base_uri": "https://localhost:8080/",
          "height": 246
        },
        "outputId": "e29da5fa-eb98-4eb4-ea0b-e37377c30e14"
      },
      "source": [
        "!wget https://bin.equinox.io/c/4VmDzA7iaHb/ngrok-stable-linux-amd64.zip\n",
        "!unzip ngrok-stable-linux-amd64.zip"
      ],
      "execution_count": 20,
      "outputs": [
        {
          "output_type": "stream",
          "text": [
            "--2020-01-09 17:18:26--  https://bin.equinox.io/c/4VmDzA7iaHb/ngrok-stable-linux-amd64.zip\n",
            "Resolving bin.equinox.io (bin.equinox.io)... 34.235.253.190, 52.20.12.96, 54.164.7.157, ...\n",
            "Connecting to bin.equinox.io (bin.equinox.io)|34.235.253.190|:443... connected.\n",
            "HTTP request sent, awaiting response... 200 OK\n",
            "Length: 13773305 (13M) [application/octet-stream]\n",
            "Saving to: ‘ngrok-stable-linux-amd64.zip’\n",
            "\n",
            "ngrok-stable-linux- 100%[===================>]  13.13M  31.3MB/s    in 0.4s    \n",
            "\n",
            "2020-01-09 17:18:27 (31.3 MB/s) - ‘ngrok-stable-linux-amd64.zip’ saved [13773305/13773305]\n",
            "\n",
            "Archive:  ngrok-stable-linux-amd64.zip\n",
            "  inflating: ngrok                   \n"
          ],
          "name": "stdout"
        }
      ]
    },
    {
      "cell_type": "code",
      "metadata": {
        "id": "NBoNACCwUJuz",
        "colab_type": "code",
        "colab": {}
      },
      "source": [
        "LOG_DIR = {OUT_BUCKET}\n",
        "get_ipython().system_raw(\n",
        "    'tensorboard --logdir {} --host 0.0.0.0 --port 6006 &'\n",
        "    .format(LOG_DIR)\n",
        ")"
      ],
      "execution_count": 0,
      "outputs": []
    },
    {
      "cell_type": "code",
      "metadata": {
        "id": "LCPlgQ4TUX1g",
        "colab_type": "code",
        "colab": {}
      },
      "source": [
        "get_ipython().system_raw('./ngrok http 6006 &')"
      ],
      "execution_count": 0,
      "outputs": []
    },
    {
      "cell_type": "code",
      "metadata": {
        "id": "gLBGnCTrUaTg",
        "colab_type": "code",
        "colab": {
          "base_uri": "https://localhost:8080/",
          "height": 34
        },
        "outputId": "745bb5d4-c348-4545-85d0-e5f76df94f76"
      },
      "source": [
        "!curl -s http://localhost:4040/api/tunnels | python3 -c \\\n",
        "    \"import sys, json; print(json.load(sys.stdin)['tunnels'][0]['public_url'])\""
      ],
      "execution_count": 23,
      "outputs": [
        {
          "output_type": "stream",
          "text": [
            "https://1a60c4a3.ngrok.io\n"
          ],
          "name": "stdout"
        }
      ]
    },
    {
      "cell_type": "markdown",
      "metadata": {
        "id": "LDMWaVKEg_SZ",
        "colab_type": "text"
      },
      "source": [
        "### 성능 평가를 위해 필요한 파일들을 구글 클라우드에서 구글드라이브로 다운로드"
      ]
    },
    {
      "cell_type": "code",
      "metadata": {
        "id": "gAGFE7rM7CNV",
        "colab_type": "code",
        "colab": {}
      },
      "source": [
        "## 버킷 -> 로컬로 파일 복사(=다운로드)\n",
        "\n",
        "!mkdir temp_tpu # ouput을 저장할 폴더 생성\n",
        "\n",
        "!gsutil cp {OUT_BUCKET}/predictions.json ./temp_tpu/predictions.json"
      ],
      "execution_count": 0,
      "outputs": []
    },
    {
      "cell_type": "code",
      "metadata": {
        "id": "1AZPN4KE8EFO",
        "colab_type": "code",
        "colab": {}
      },
      "source": [
        "# 평가\n",
        "!python ./evaluate-v1.0.py ./KorQuAD_v1.0_dev.json ./temp_tpu/predictions.json"
      ],
      "execution_count": 0,
      "outputs": []
    },
    {
      "cell_type": "markdown",
      "metadata": {
        "id": "MJh8LV_shPGo",
        "colab_type": "text"
      },
      "source": [
        "### 구글클라우드 스토리지에 저장된 파일들 삭제"
      ]
    },
    {
      "cell_type": "code",
      "metadata": {
        "id": "LnBeyGXz8EAJ",
        "colab_type": "code",
        "colab": {}
      },
      "source": [
        "## 생성된 bucket 삭제\n",
        "!gsutil rm -r {PRE_BUCKET}\n",
        "!gsutil rm -r {OUT_BUCKET}"
      ],
      "execution_count": 0,
      "outputs": []
    },
    {
      "cell_type": "markdown",
      "metadata": {
        "id": "bp4XT8dbhhY4",
        "colab_type": "text"
      },
      "source": [
        "### log 파일을 local로 다운로드"
      ]
    },
    {
      "cell_type": "code",
      "metadata": {
        "id": "DLJCfaYsiVPU",
        "colab_type": "code",
        "colab": {}
      },
      "source": [
        "from google.colab import files\n",
        "\n",
        "files.download('./log_tpu.txt')"
      ],
      "execution_count": 0,
      "outputs": []
    },
    {
      "cell_type": "markdown",
      "metadata": {
        "id": "C8Q_7UJZhwD_",
        "colab_type": "text"
      },
      "source": [
        "## Clean Up\n",
        "Before running the next exercise, run the following cell to terminate the kernel and free memory resources:"
      ]
    },
    {
      "cell_type": "code",
      "metadata": {
        "id": "4X0zL0j-hxy1",
        "colab_type": "code",
        "colab": {}
      },
      "source": [
        "import os, signal\n",
        "os.kill(os.getpid(), signal.SIGKILL)"
      ],
      "execution_count": 0,
      "outputs": []
    },
    {
      "cell_type": "code",
      "metadata": {
        "id": "V1W-8LDfFafO",
        "colab_type": "code",
        "colab": {}
      },
      "source": [
        ""
      ],
      "execution_count": 0,
      "outputs": []
    }
  ]
}