{
  "nbformat": 4,
  "nbformat_minor": 0,
  "metadata": {
    "colab": {
      "name": "1. Colab 소개.ipynb",
      "provenance": [],
      "private_outputs": true,
      "collapsed_sections": [],
      "include_colab_link": true
    },
    "kernelspec": {
      "name": "python3",
      "display_name": "Python 3"
    },
    "accelerator": "TPU"
  },
  "cells": [
    {
      "cell_type": "markdown",
      "metadata": {
        "id": "view-in-github",
        "colab_type": "text"
      },
      "source": [
        "<a href=\"https://colab.research.google.com/github/iskra3138/colab_seminar/blob/master/1_Colab_%EC%86%8C%EA%B0%9C.ipynb\" target=\"_parent\"><img src=\"https://colab.research.google.com/assets/colab-badge.svg\" alt=\"Open In Colab\"/></a>"
      ]
    },
    {
      "cell_type": "markdown",
      "metadata": {
        "id": "s3w-OaFKgTeG",
        "colab_type": "text"
      },
      "source": [
        "# Colab FAQ로 알아보는 Colab 특징\n",
        "[출처] <https://research.google.com/colaboratory/faq.html>"
      ]
    },
    {
      "cell_type": "markdown",
      "metadata": {
        "id": "Ichrjs0-j62P",
        "colab_type": "text"
      },
      "source": [
        "### Colaboratory란 무엇인가요?\n",
        "- 머신러닝 교육과 연구를 위한 연구 도구\n",
        "- Jupyter 노트 환경으로 설치 없이 무료로 사용 가능\n",
        "\n",
        "### 어떤 브라우저가 지원되나요?\n",
        "- 대부분의 주요 브라우저와 호환\n",
        "- 특히 Chrome, Firefox, Safari 최신 버전을 대상으로 가장 철저하게 테스트\n",
        "\n",
        "### 내 노트는 어디에 저장되나요? 저장한 노트를 공유할 수 있나요?\n",
        "- 모든 Colaboratory 노트는 Google 드라이브에 저장\n",
        "- 또한 Colaboratory 노트는 Google 문서처럼 공유 가능\n",
        "\n",
        "### 내 노트를 공유하면 무엇이 공유되나요?\n",
        "- 텍스트, 코드, 출력 결과를 비롯한 노트의 모든 내용이 공유\n",
        "- 아래 메뉴를 통해 코드 셀 출력이 저장되거나 공유되지 않게 할 수 있음\n",
        "  - 수정(Edit) > 노트 설정(Notebook settings) or 런타임(Runtime) > 런타임 유형변경(Change runtime type) 실행 팝업 메뉴에서\n",
        "    - 이 노트를 저장할 때 코드 셀 출력 생략(Omit code cell output when saving this notebook)\n",
        "- 사용 중인 가상 머신(설정한 모든 맞춤 파일 및 라이브러리 포함)은 공유되지 않음\n",
        "- **그러므로 노트에 필요한 맞춤 라이브러리, 파일들을 설치하고 로드하는 셀을 포함하는 것이 좋음**\n",
        "\n",
        "### 기존의 Jupyter/IPython 노트를 Colaboratory로 가져올 수 있나요?\n",
        "- 파일(File) 메뉴에서 '노트 업로드(Upload notebook)'를 선택\n",
        "\n",
        "### Python3나 R, Scala 등은 지원되나요?\n",
        "- Python 2.7 및 Python 3.6을 지원 (2.7은 곧 종료 예정)\n",
        "- R 또는 Scala 등의 다른 커널을 지원할 의향은 있지만, 아직 확실한 계획은 없음\n",
        "\n",
        "### Colaboratory 노트를 검색하려면 어떻게 해야 하나요?\n",
        "- 파일(File) > 노트 열기(Open notebook)를 사용하여 검색\n",
        "\n",
        "### 코드는 어디에서 실행되나요? 브라우저 창을 닫으면 실행 상태는 어떻게 되나요?\n",
        "- 코드는 계정 전용 가상 머신에서 실행\n",
        "- 가상 머신이 일정 기간 유휴 상태이거나 시스템에 설정된 최대 시간이 지나면 종료\n",
        "  - The maximum lifetime of a VM is 12 hours.\n",
        "  - Idle VMs time out after 90m. </br>\n",
        "  [사용시간 출처]<https://stackoverflow.com/questions/47474406/lifetime-of-a-colab-vm>\n",
        "\n",
        "### T4 GPU와 같은 하드웨어 리소스를 사용할 수 없는 이유는 무엇인가요?\n",
        "- 사용 가능한 최고의 하드웨어는 장시간의 연산보다는 대화형 방식으로 Colaboratory를 사용하는 사용자에게 우선 제공\n",
        "- Colaboratory를 장시간 연산에 사용할 경우 사용 가능한 하드웨어 종류 또는 하드웨어 사용 시간이 일시적으로 제한될 수 있음\n",
        "- 많은 연산이 필요한 사용자는 Colaboratory의 UI를 로컬 런타임으로 사용할 것\n",
        "- Colaboratory를 암호화폐 채굴에 사용하는 것은 전면 금지되어 있으며, 이 경우 Colaboratory 사용이 완전히 차단될 수 있음\n",
        "- [참고] 현재 Colab에서 사용 가능한 GPU는 K80, P4, P100, T4\n",
        "\n",
        "### 코드가 실행되는 가상 머신을 재설정하려면 어떻게 해야 하나요?\n",
        "- '런타임(Runtime)' > '런타임 초기화(Factory reset runtime)'을 사용하면 할당된 가상 머신이 원래 상태로 되돌아감\n",
        "- 시스템 파일을 실수로 덮어썼거나 호환되지 않는 소프트웨어를 설치하여 가상 시스템의 상태가 비정상이 된 경우 도움이 됨"
      ]
    },
    {
      "cell_type": "markdown",
      "metadata": {
        "id": "VhJje0r5kk7t",
        "colab_type": "text"
      },
      "source": [
        "# VM 사양 확인"
      ]
    },
    {
      "cell_type": "markdown",
      "metadata": {
        "id": "g-OoaTihiSpi",
        "colab_type": "text"
      },
      "source": [
        "### Colab OS Version 확인"
      ]
    },
    {
      "cell_type": "code",
      "metadata": {
        "id": "OkeXF7EDiVCx",
        "colab_type": "code",
        "colab": {}
      },
      "source": [
        "!cat /etc/issue.net"
      ],
      "execution_count": 0,
      "outputs": []
    },
    {
      "cell_type": "markdown",
      "metadata": {
        "id": "8MVXI9DZif4M",
        "colab_type": "text"
      },
      "source": [
        "### Colab CPU Spec. 확인"
      ]
    },
    {
      "cell_type": "code",
      "metadata": {
        "id": "ulCnnOFNiZ34",
        "colab_type": "code",
        "colab": {}
      },
      "source": [
        "!head /proc/cpuinfo"
      ],
      "execution_count": 0,
      "outputs": []
    },
    {
      "cell_type": "markdown",
      "metadata": {
        "id": "1YS-6c7ni1nS",
        "colab_type": "text"
      },
      "source": [
        "### Colab Memory Spec. 확인"
      ]
    },
    {
      "cell_type": "code",
      "metadata": {
        "id": "LyWaOq-Dix8x",
        "colab_type": "code",
        "colab": {}
      },
      "source": [
        "!head -n 3 /proc/meminfo"
      ],
      "execution_count": 0,
      "outputs": []
    },
    {
      "cell_type": "markdown",
      "metadata": {
        "id": "xani1MumjcWI",
        "colab_type": "text"
      },
      "source": [
        "### Storage Spec. 확인"
      ]
    },
    {
      "cell_type": "code",
      "metadata": {
        "id": "pgevK6YBjV3y",
        "colab_type": "code",
        "colab": {}
      },
      "source": [
        "!df -h"
      ],
      "execution_count": 0,
      "outputs": []
    },
    {
      "cell_type": "markdown",
      "metadata": {
        "id": "DRQ21vQVjqHn",
        "colab_type": "text"
      },
      "source": [
        "### GPU Spec 확인\n",
        "GPU 선택했을 때만 작동"
      ]
    },
    {
      "cell_type": "code",
      "metadata": {
        "id": "W_Vha13QjpLX",
        "colab_type": "code",
        "colab": {}
      },
      "source": [
        "!nvidia-smi"
      ],
      "execution_count": 0,
      "outputs": []
    },
    {
      "cell_type": "markdown",
      "metadata": {
        "id": "aBYsRCERljKa",
        "colab_type": "text"
      },
      "source": [
        "### TPU 확인\n",
        "TPU 선택했을 때만 작동 (참고로 현재 기준 TPU는 Tensorflow 1.X에서만 작동)  - 2020년1월"
      ]
    },
    {
      "cell_type": "code",
      "metadata": {
        "id": "P1OdcnZ3liga",
        "colab_type": "code",
        "colab": {}
      },
      "source": [
        "import os\n",
        "import pprint\n",
        "## Tensorflow 1.x 사용 시 tensorflow import 전에 사용\n",
        "%tensorflow_version 1.x \n",
        "import tensorflow as tf\n",
        "\n",
        "if 'COLAB_TPU_ADDR' not in os.environ:\n",
        "  print('ERROR: Not connected to a TPU runtime; please see the first cell in this notebook for instructions!')\n",
        "else:\n",
        "  tpu_address = 'grpc://' + os.environ['COLAB_TPU_ADDR']\n",
        "  print ('TPU address is', tpu_address)\n",
        "\n",
        "  with tf.Session(tpu_address) as session:\n",
        "    devices = session.list_devices()\n",
        "    \n",
        "  print('TPU devices:')\n",
        "  pprint.pprint(devices)"
      ],
      "execution_count": 0,
      "outputs": []
    },
    {
      "cell_type": "markdown",
      "metadata": {
        "id": "Auu1SNERnway",
        "colab_type": "text"
      },
      "source": [
        "# 런타임(Runtime) 재실행"
      ]
    },
    {
      "cell_type": "markdown",
      "metadata": {
        "id": "FpXKy6gBn2OI",
        "colab_type": "text"
      },
      "source": [
        "### 런타임 다시시작(Restart Runtime)\n",
        "- 모든 로컬변수를 포함한 런타임 상태가 초기화됨 \n",
        "- 설치된 라이브러리, 배치된 GPU 등은 변함 없음"
      ]
    },
    {
      "cell_type": "markdown",
      "metadata": {
        "id": "pmEyYPnhsTo1",
        "colab_type": "text"
      },
      "source": [
        "##### 만약 현재 노트의 Accelerator가 TPU가 아니라면 TPU로 변경하고 실행해 주세요"
      ]
    },
    {
      "cell_type": "code",
      "metadata": {
        "id": "OCv_wH0KjjmS",
        "colab_type": "code",
        "colab": {}
      },
      "source": [
        "# Lime package 설치\n",
        "!pip install lime"
      ],
      "execution_count": 0,
      "outputs": []
    },
    {
      "cell_type": "code",
      "metadata": {
        "id": "ra1ZU4AalHR7",
        "colab_type": "code",
        "colab": {}
      },
      "source": [
        "# 설치한 lime package 불러오기\n",
        "from lime import lime_image"
      ],
      "execution_count": 0,
      "outputs": []
    },
    {
      "cell_type": "code",
      "metadata": {
        "id": "hNuvRtNHoggR",
        "colab_type": "code",
        "colab": {}
      },
      "source": [
        "# TPU 주소 확인\n",
        "import os\n",
        "import tensorflow as tf\n",
        "\n",
        "tpu_address = 'grpc://' + os.environ['COLAB_TPU_ADDR']\n",
        "print ('TPU address is', tpu_address)"
      ],
      "execution_count": 0,
      "outputs": []
    },
    {
      "cell_type": "markdown",
      "metadata": {
        "id": "Gr8jFJl_qKS1",
        "colab_type": "text"
      },
      "source": [
        "런타임(Runtime) > 런타임 다시시작(Restart Runtime)을 선택하고, 아래 코드들 실행"
      ]
    },
    {
      "cell_type": "code",
      "metadata": {
        "id": "UHXT-6efqVqK",
        "colab_type": "code",
        "colab": {}
      },
      "source": [
        "# TPU 주소 확인\n",
        "### 위와 동일한 코드입니다.\n",
        "import os\n",
        "import tensorflow as tf\n",
        "\n",
        "tpu_address = 'grpc://' + os.environ['COLAB_TPU_ADDR']\n",
        "print ('TPU address is', tpu_address)"
      ],
      "execution_count": 0,
      "outputs": []
    },
    {
      "cell_type": "code",
      "metadata": {
        "id": "FP4SDkNrsmwu",
        "colab_type": "code",
        "colab": {}
      },
      "source": [
        "# 설치한 lime package 불러오기\n",
        "from lime import lime_image"
      ],
      "execution_count": 0,
      "outputs": []
    },
    {
      "cell_type": "markdown",
      "metadata": {
        "colab_type": "text",
        "id": "omc7KfPkrYoe"
      },
      "source": [
        "### 런타임 초기화(Factory reset runtime)\n",
        "- VM이 새로 생김, 모든 것들이 초기화"
      ]
    },
    {
      "cell_type": "markdown",
      "metadata": {
        "id": "4yzWt4jCtkF7",
        "colab_type": "text"
      },
      "source": [
        "런타임(Runtime) > 런타임 초기화(Factory reset runtime)을 선택하고, 아래 코드들 실행"
      ]
    },
    {
      "cell_type": "code",
      "metadata": {
        "colab_type": "code",
        "id": "ZmHUZce5rYom",
        "colab": {}
      },
      "source": [
        "# TPU 주소 확인 (위 주소와 다름 - 다른 TPU가 배정)\n",
        "import os\n",
        "import tensorflow as tf\n",
        "\n",
        "tpu_address = 'grpc://' + os.environ['COLAB_TPU_ADDR']\n",
        "print ('TPU address is', tpu_address)"
      ],
      "execution_count": 0,
      "outputs": []
    },
    {
      "cell_type": "code",
      "metadata": {
        "colab_type": "code",
        "id": "tfGeQr4nrYoq",
        "colab": {}
      },
      "source": [
        "# 설치된 package가 삭제되어 import 안됨\n",
        "from lime import lime_image"
      ],
      "execution_count": 0,
      "outputs": []
    },
    {
      "cell_type": "code",
      "metadata": {
        "id": "DIK5zWIOt4fg",
        "colab_type": "code",
        "colab": {}
      },
      "source": [
        ""
      ],
      "execution_count": 0,
      "outputs": []
    }
  ]
}