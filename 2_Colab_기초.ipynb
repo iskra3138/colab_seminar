{
  "nbformat": 4,
  "nbformat_minor": 0,
  "metadata": {
    "colab": {
      "name": "2. Colab 기초.ipynb",
      "provenance": [],
      "private_outputs": true,
      "collapsed_sections": [],
      "include_colab_link": true
    },
    "kernelspec": {
      "name": "python3",
      "display_name": "Python 3"
    },
    "accelerator": "GPU"
  },
  "cells": [
    {
      "cell_type": "markdown",
      "metadata": {
        "id": "view-in-github",
        "colab_type": "text"
      },
      "source": [
        "<a href=\"https://colab.research.google.com/github/iskra3138/colab_seminar/blob/master/2_Colab_%EA%B8%B0%EC%B4%88.ipynb\" target=\"_parent\"><img src=\"https://colab.research.google.com/assets/colab-badge.svg\" alt=\"Open In Colab\"/></a>"
      ]
    },
    {
      "cell_type": "markdown",
      "metadata": {
        "id": "7o26eRk3II9x",
        "colab_type": "text"
      },
      "source": [
        "# Overview of Colaboratory\n",
        "[출처] <https://colab.research.google.com/notebooks/basic_features_overview.ipynb>"
      ]
    },
    {
      "cell_type": "markdown",
      "metadata": {
        "colab_type": "text",
        "id": "JyG45Qk3qQLS"
      },
      "source": [
        "## Cells\n",
        "- 여기 나오는 설명은 default 환경에서의 설명이고,\n",
        "- 우상단 실험실 비커 모양의 '새로운 기능 사용해보기(Try new features)'를 선택했을 때는 안되는 것도 있음\n",
        "\n",
        "![새로운 기능 사용해보기](https://github.com/iskra3138/colab_seminar/blob/master/connect.JPG?raw=true) </br>\n",
        "\n",
        "A notebook is a list of cells. Cells contain either explanatory text or executable code and its output. Click a cell to select it.\n",
        "- notebook은 cell들의 list\n",
        "- 설명을 위한 text cell과 실행을 위한 coce cell로 구성\n",
        "- cell을 선택하려면 click"
      ]
    },
    {
      "cell_type": "markdown",
      "metadata": {
        "colab_type": "text",
        "id": "KR921S_OQSHG"
      },
      "source": [
        "### Code cells\n",
        "Below is a **code cell**. Once the toolbar button indicates CONNECTED, click in the cell to select it and execute the contents in the following ways:\n",
        "- 우상단에 '연결(connect)'이라고 나오면 클릭해서 자원을 할당해도 되고, 그냥 셀을 실행시켜도 자원 할당 후 셀이 실행됨\n",
        "- 자원이 할당되면 RAM과 디스크의 상태가 보임\n",
        "\n",
        "![할당 전](https://github.com/iskra3138/colab_seminar/blob/master/connect.JPG?raw=true) \n",
        "![할당 후](https://github.com/iskra3138/colab_seminar/blob/master/connected.JPG?raw=true)\n",
        "\n",
        "* Click the **Play icon** in the left gutter of the cell;\n",
        "* Type **Cmd/Ctrl+Enter** to run the cell in place;\n",
        "* Type **Shift+Enter** to run the cell and move focus to the next cell (adding one if none exists); or\n",
        "* Type **Alt+Enter** to run the cell and insert a new code cell immediately below it.\n",
        "- 코드 셀 실행 방법은 Play icon을 누르거나, Ctrl+Enter/Shift+Enter/Alt+Enter를 누름\n",
        "\n",
        "There are additional options for running some or all cells in the **Runtime** menu.\n",
        "- 런타임(Runtime) 메뉴에 셀 실행 옵션 더 있음\n"
      ]
    },
    {
      "cell_type": "code",
      "metadata": {
        "cellView": "both",
        "colab_type": "code",
        "id": "WUtu4316QSHL",
        "colab": {}
      },
      "source": [
        "a = 10\n",
        "a"
      ],
      "execution_count": 0,
      "outputs": []
    },
    {
      "cell_type": "markdown",
      "metadata": {
        "colab_type": "text",
        "id": "Id6tDF1HQSHD"
      },
      "source": [
        "### Text cells\n",
        "This is a **text cell**. You can **double-click** to edit this cell. Text cells\n",
        "use markdown syntax. To learn more, see our [markdown\n",
        "guide](/notebooks/markdown_guide.ipynb).\n",
        "- Text 셀은 마크다운 문법을 지원함\n",
        "- Latex도 지원함\n",
        "\n",
        "You can also add math to text cells using [LaTeX](http://www.latex-project.org/)\n",
        "to be rendered by [MathJax](https://www.mathjax.org). Just place the statement\n",
        "within a pair of **\\$** signs. For example `$\\sqrt{3x-1}+(1+x)^2$` becomes\n",
        "$\\sqrt{3x-1}+(1+x)^2.$\n"
      ]
    },
    {
      "cell_type": "markdown",
      "metadata": {
        "colab_type": "text",
        "id": "7bqjkGKwQSHW"
      },
      "source": [
        "### Adding and moving cells\n",
        "You can add new cells by using the **+ CODE** and **+ TEXT** buttons that show when you hover between cells. These buttons are also in the toolbar above the notebook where they can be used to add a cell below the currently selected cell.\n",
        "- 셀 추가를 위해서 \n",
        "  - 선택된 셀 위/아래 중간쯤 마우스를 갖다대면 나오는 + CODE, + TEXT로 추가하거나, \n",
        "  ![할당 전](https://github.com/iskra3138/colab_seminar/blob/master/hover_menu.JPG?raw=true) \n",
        "  - 삽입 메뉴에 있는 코드셀, 텍스트셀을 선택해도 됨\n",
        "\n",
        "You can move a cell by selecting it and clicking **Cell Up** or **Cell Down** in the top toolbar. \n",
        "- 셀 선택 시 나오는 우상단 메뉴로 상하 이동 가능\n",
        "\n",
        "Consecutive cells can be selected by \"lasso selection\" by dragging from outside one cell and through the group.  Non-adjacent cells can be selected concurrently by clicking one and then holding down Ctrl while clicking another.  Similarly, using Shift instead of Ctrl will select all intermediate cells.\n",
        "- 다수의 셀을 선택하는 것은  GUI환경에서 파일 선택하는 방법과 동일"
      ]
    },
    {
      "cell_type": "markdown",
      "metadata": {
        "colab_type": "text",
        "id": "GOwlZRXEQSHZ"
      },
      "source": [
        "## Working with python\n",
        "Colaboratory is built on top of [Jupyter Notebook](https://jupyter.org/). Below are some examples of convenience functions provided."
      ]
    },
    {
      "cell_type": "markdown",
      "metadata": {
        "colab_type": "text",
        "id": "RVuqWUXPQSHa"
      },
      "source": [
        "Long running python processes can be interrupted. Run the following cell and select **Runtime -> Interrupt execution** (*hotkey: Cmd/Ctrl-M I*) to stop execution.\n",
        "- 실행되는 셀을 중간에 죽이려면 **런타임(Runtime) -> 실행중단)Interrupt execution)** (*단축키: Ctrl-M I*) or 셀 좌측 멈춤 모양 버튼(■)을 누름"
      ]
    },
    {
      "cell_type": "code",
      "metadata": {
        "cellView": "both",
        "colab_type": "code",
        "id": "d-S-3nYLQSHb",
        "colab": {}
      },
      "source": [
        "import time\n",
        "print(\"Sleeping\")\n",
        "time.sleep(30) # sleep for a while; interrupt me!\n",
        "print(\"Done Sleeping\")"
      ],
      "execution_count": 0,
      "outputs": []
    },
    {
      "cell_type": "markdown",
      "metadata": {
        "colab_type": "text",
        "id": "d4L9TOP9QSHn"
      },
      "source": [
        "#### Tab-completion and exploring code\n",
        "\n",
        "Colab provides tab completion to explore attributes of Python objects, as well as to quickly view documentation strings. As an example, first run the following cell to import the  [`numpy`](http://www.numpy.org) module.\n",
        "- python 객체의 속성 등을 보고 싶을 때는 Tab 키"
      ]
    },
    {
      "cell_type": "code",
      "metadata": {
        "cellView": "both",
        "colab_type": "code",
        "id": "Q0JKWcmtQSHp",
        "colab": {}
      },
      "source": [
        "import numpy as np"
      ],
      "execution_count": 0,
      "outputs": []
    },
    {
      "cell_type": "markdown",
      "metadata": {
        "colab_type": "text",
        "id": "1M890-bXeyYp"
      },
      "source": [
        "If you now insert your cursor after ``np.random.`` and press **Tab**, you will see the list of available completions within the ``np.random`` submodule.\n",
        "- submodule 확인"
      ]
    },
    {
      "cell_type": "code",
      "metadata": {
        "cellView": "both",
        "colab_type": "code",
        "id": "j6QRIfUHQSHq",
        "colab": {}
      },
      "source": [
        "np.random."
      ],
      "execution_count": 0,
      "outputs": []
    },
    {
      "cell_type": "markdown",
      "metadata": {
        "colab_type": "text",
        "id": "g6MfomFhQSHs"
      },
      "source": [
        "If you type an open parenthesis followed by the **Tab** key after any function or class in the module, you will see a pop-up of its documentation string:\n",
        "- 함수 or 클래스 정의 확인"
      ]
    },
    {
      "cell_type": "code",
      "metadata": {
        "cellView": "both",
        "colab_type": "code",
        "id": "SD0XnrVhQSHt",
        "colab": {}
      },
      "source": [
        "np.random.rand("
      ],
      "execution_count": 0,
      "outputs": []
    },
    {
      "cell_type": "markdown",
      "metadata": {
        "colab_type": "text",
        "id": "9ReRLQaxJ-zP"
      },
      "source": [
        "To open the documentation in a persistent pane at the bottom of your screen, add a **?** after the object or method name and execute the cell using **Shift+Enter**:\n",
        "- 별도의 창으로 설명을 보고 싶을 때는 ? 붙이고 Shift+Enter"
      ]
    },
    {
      "cell_type": "code",
      "metadata": {
        "id": "AFymdb9sLhHd",
        "colab_type": "code",
        "colab": {}
      },
      "source": [
        "np.random.rand?"
      ],
      "execution_count": 0,
      "outputs": []
    },
    {
      "cell_type": "code",
      "metadata": {
        "cellView": "both",
        "colab_type": "code",
        "id": "YgQ6Tu7DK17l",
        "colab": {}
      },
      "source": [
        "np.random?"
      ],
      "execution_count": 0,
      "outputs": []
    },
    {
      "cell_type": "markdown",
      "metadata": {
        "colab_type": "text",
        "id": "TYTBdJXxfqiJ"
      },
      "source": [
        "#### Exception Formatting"
      ]
    },
    {
      "cell_type": "markdown",
      "metadata": {
        "colab_type": "text",
        "id": "4bqAVK-aQSHx"
      },
      "source": [
        "Exceptions are formatted nicely in Colab outputs:\n",
        "- 예외처리 멋지게 만들었음"
      ]
    },
    {
      "cell_type": "code",
      "metadata": {
        "cellView": "both",
        "colab_type": "code",
        "id": "CrJf1PEmQSHx",
        "colab": {}
      },
      "source": [
        "x = 1\n",
        "y = 4\n",
        "z = y/(1-x)"
      ],
      "execution_count": 0,
      "outputs": []
    },
    {
      "cell_type": "markdown",
      "metadata": {
        "id": "v74nM4i0H9un",
        "colab_type": "text"
      },
      "source": [
        "# Importing libraries and installing dependencies\n",
        "[출처] <https://colab.research.google.com/notebooks/snippets/importing_libraries.ipynb>"
      ]
    },
    {
      "cell_type": "markdown",
      "metadata": {
        "colab_type": "text",
        "id": "kDn_lVxg3Z2G"
      },
      "source": [
        "### Importing a library that is not in Colaboratory\n",
        "\n",
        "To import a library that's not in Colaboratory by default, you can use `!pip install` or `!apt-get install`.\n",
        "- bash 를 '!'로 지원하므로 필요한 라이브러리는 하던데로 pip, apt-get 앞에 ! 붙여서 사용하면 됨"
      ]
    },
    {
      "cell_type": "code",
      "metadata": {
        "colab_type": "code",
        "id": "GQ18Kd5F3uKe",
        "colab": {}
      },
      "source": [
        "!pip install -q matplotlib-venn"
      ],
      "execution_count": 0,
      "outputs": []
    },
    {
      "cell_type": "code",
      "metadata": {
        "colab_type": "code",
        "id": "__3eqm3q3sr-",
        "colab": {}
      },
      "source": [
        "!apt-get -qq install -y libfluidsynth1"
      ],
      "execution_count": 0,
      "outputs": []
    },
    {
      "cell_type": "markdown",
      "metadata": {
        "colab_type": "text",
        "id": "iDu3Slhq2zyh"
      },
      "source": [
        "### Upgrading TensorFlow\n",
        "\n",
        "[TensorFlow](https://www.tensorflow.org/) is available by default but you can switch which version you're using.\n",
        "- 특별한 버전의 Tensorflow가 필요하다면 아래 방법을 쓸 수도 있으나, 아래 TensorFlow 2 in Colab에 나오는 데코레이터를 쓸 것을 추천함 (이유도 아래 설명)"
      ]
    },
    {
      "cell_type": "code",
      "metadata": {
        "colab_type": "code",
        "id": "6km1lWMF2kAm",
        "colab": {}
      },
      "source": [
        "# 꼭 특정 버전을 설치할 것이 아니면, 실행하지 않습니다.\n",
        "'''\n",
        "# To determine which version you're using:\n",
        "!pip show tensorflow\n",
        "\n",
        "# For the current version: \n",
        "!pip install --upgrade tensorflow\n",
        "\n",
        "# For a specific version:\n",
        "!pip install tensorflow==1.2\n",
        "\n",
        "# For the latest nightly build:\n",
        "!pip install tf-nightly\n",
        "'''"
      ],
      "execution_count": 0,
      "outputs": []
    },
    {
      "cell_type": "code",
      "metadata": {
        "id": "5sHIPLtQHzFZ",
        "colab_type": "code",
        "colab": {}
      },
      "source": [
        "!pip show tensorflow"
      ],
      "execution_count": 0,
      "outputs": []
    },
    {
      "cell_type": "markdown",
      "metadata": {
        "id": "s7v-qeVHIrcd",
        "colab_type": "text"
      },
      "source": [
        "#  TensorFlow 2 in Colab\n",
        "https://colab.research.google.com/notebooks/tensorflow_version.ipynb"
      ]
    },
    {
      "cell_type": "markdown",
      "metadata": {
        "colab_type": "text",
        "id": "N2y2uqx9GfA5"
      },
      "source": [
        "\n",
        "##Background\n",
        "TensorFlow 2.0 has been [released](https://tensorflow.org)!\n",
        "\n",
        "Colab has two versions of TensorFlow pre-installed: a 1.x version and a 2.x version. Colab currently uses TensorFlow 1.x by default, but we encourage users to begin using TensorFlow 2.x in Colab using the method shown below.\n",
        "\n",
        "The default version in Colab will switch to TensorFlow 2.x soon. When a date has been chosen for the switch, this notebook will be updated with that information.\n",
        "\n",
        "- Colab에는 2가지 버전의 Tensorflow가 다 설치되어 있으므로, 간단하게 바꿀 수 있음"
      ]
    },
    {
      "cell_type": "markdown",
      "metadata": {
        "colab_type": "text",
        "id": "aR_btJrKGdw7"
      },
      "source": [
        "##Specifying the TensorFlow version\n",
        "\n",
        "Running `import tensorflow` will import the default version (currently 1.x). You can use 2.x by running a cell with the `tensorflow_version` magic **before** you run `import tensorflow`.\n",
        "\n",
        "- tensorflow를 import하기 전에 %tensorflow_version x.x 실행"
      ]
    },
    {
      "cell_type": "code",
      "metadata": {
        "colab_type": "code",
        "id": "NeWVBhf1VxlH",
        "colab": {}
      },
      "source": [
        "%tensorflow_version 2.x"
      ],
      "execution_count": 0,
      "outputs": []
    },
    {
      "cell_type": "markdown",
      "metadata": {
        "colab_type": "text",
        "id": "8dSlimhOVxlQ"
      },
      "source": [
        "Once you have specified a version via this magic, you can run `import tensorflow` as normal and verify which version was imported as follows:"
      ]
    },
    {
      "cell_type": "code",
      "metadata": {
        "colab_type": "code",
        "id": "EPV9PFKLVxlR",
        "colab": {}
      },
      "source": [
        "import tensorflow\n",
        "print(tensorflow.__version__)"
      ],
      "execution_count": 0,
      "outputs": []
    },
    {
      "cell_type": "markdown",
      "metadata": {
        "colab_type": "text",
        "id": "uBIKyjpEVxlU"
      },
      "source": [
        "If you want to switch TensorFlow versions after import, you **will need to restart your runtime** with 'Runtime' -> 'Restart runtime...' and then specify the version before you import it again.\n",
        "\n",
        "- 버전을 다시 바꾸려면 런타임을 다시 시작하고 해야 함 "
      ]
    },
    {
      "cell_type": "code",
      "metadata": {
        "colab_type": "code",
        "id": "NCEP-DG0VxlV",
        "colab": {}
      },
      "source": [
        "# Restart runtime using 'Runtime' -> 'Restart runtime...'\n",
        "%tensorflow_version 1.x\n",
        "import tensorflow as tf\n",
        "print(tf.__version__)"
      ],
      "execution_count": 0,
      "outputs": []
    },
    {
      "cell_type": "markdown",
      "metadata": {
        "colab_type": "text",
        "id": "hntYWG7j34zg"
      },
      "source": [
        "## What about TPUs?\n",
        "\n",
        "TPUs are not fully supported in Tensorflow 2.0. We expect they will be supported in Tensorflow 2.1. Follow along on [GitHub](https://github.com/tensorflow/tensorflow/issues/24412#issuecomment-525960626). \n",
        "\n",
        "- TPU는 TF 2.0에서는 완벽히 지원이 안되므로 Colab에서는 1.x 에서만 사용 가능 (2.1에서는 될 듯)\n",
        "- TPU는 별도의 노트에서 설명드리겠습니다."
      ]
    },
    {
      "cell_type": "markdown",
      "metadata": {
        "colab_type": "text",
        "id": "8UvRkm1JGUrk"
      },
      "source": [
        "## Avoid Using ``pip install`` with GPUs\n",
        "\n",
        "We recommend against using ``pip install`` to specify a particular TensorFlow version for GPU backends. Colab builds TensorFlow from source to ensure compatibility with our fleet of GPUs. Versions of TensorFlow fetched from PyPI by ``pip`` may suffer from performance problems or may not work at all.\n",
        "\n",
        "- 라이브러리들 호환성으로 인해 GPU 쓸 때 pip로 특정 버전 설치하는 건 지양하자"
      ]
    },
    {
      "cell_type": "markdown",
      "metadata": {
        "id": "-oe3i4FWIqv0",
        "colab_type": "text"
      },
      "source": [
        "# Interactive forms\n",
        "[출처] <https://colab.research.google.com/notebooks/forms.ipynb>"
      ]
    },
    {
      "cell_type": "markdown",
      "metadata": {
        "colab_type": "text",
        "id": "_7gRpQLXQSID"
      },
      "source": [
        "# Forms\n",
        "\n",
        "Forms provide an easy way to parameterize code. From a code cell, select **Insert → Add form field**.  When you change the value in a form, the corresponding value in the code will change.\n",
        "\n",
        "- Form은 Arguments 입력에 용이\n",
        "  - Hyper parameter들을 Forms로 정의해 놓으면 반복 실험 시 용이\n",
        "- **삽입(Insert) → 양식 입력란 추가(Add form field)**.로 추가"
      ]
    },
    {
      "cell_type": "code",
      "metadata": {
        "cellView": "both",
        "colab_type": "code",
        "id": "3jKM6GfzlgpS",
        "colab": {}
      },
      "source": [
        "#@title String fields\n",
        "\n",
        "text = 'value' #@param {type:\"string\"}\n",
        "dropdown = '1st option' #@param [\"1st option\", \"2nd option\", \"3rd option\"]\n",
        "text_and_dropdown = 'value' #@param [\"1st option\", \"2nd option\", \"3rd option\"] {allow-input: true}\n",
        "\n",
        "print(text)\n",
        "print(dropdown)\n",
        "print(text_and_dropdown)"
      ],
      "execution_count": 0,
      "outputs": []
    },
    {
      "cell_type": "code",
      "metadata": {
        "cellView": "both",
        "colab_type": "code",
        "id": "bf5LUmgZt-kT",
        "colab": {}
      },
      "source": [
        "#@title Raw fields\n",
        "\n",
        "raw_input = None #@param {type:\"raw\"}\n",
        "raw_dropdown = raw_input #@param [1, \"raw_input\", \"False\", \"'string'\"] {type:\"raw\"}\n",
        "\n",
        "print(raw_input)\n",
        "print(raw_dropdown)"
      ],
      "execution_count": 0,
      "outputs": []
    },
    {
      "cell_type": "code",
      "metadata": {
        "cellView": "both",
        "colab_type": "code",
        "id": "aw5lgeRbubeF",
        "colab": {}
      },
      "source": [
        "#@title Date fields\n",
        "date_input = '2018-03-22' #@param {type:\"date\"}\n",
        "\n",
        "print(date_input)"
      ],
      "execution_count": 0,
      "outputs": []
    },
    {
      "cell_type": "code",
      "metadata": {
        "cellView": "both",
        "colab_type": "code",
        "id": "eFN7-fUKs-Bu",
        "colab": {}
      },
      "source": [
        "#@title Number fields\n",
        "number_input = 10.0 #@param {type:\"number\"}\n",
        "number_slider = -0.7 #@param {type:\"slider\", min:-1, max:1, step:0.1}\n",
        "\n",
        "integer_input = 10 #@param {type:\"integer\"}\n",
        "integer_slider = 19 #@param {type:\"slider\", min:0, max:100, step:1}\n",
        "\n",
        "print(number_input)\n",
        "print(number_slider)\n",
        "\n",
        "print(integer_input)\n",
        "print(integer_slider)"
      ],
      "execution_count": 0,
      "outputs": []
    },
    {
      "cell_type": "code",
      "metadata": {
        "cellView": "both",
        "colab_type": "code",
        "id": "ig8PIYeLtM8g",
        "colab": {}
      },
      "source": [
        "#@title Boolean fields\n",
        "boolean_checkbox = False #@param {type:\"boolean\"}\n",
        "boolean_dropdown = True #@param [\"False\", \"True\"] {type:\"raw\"}\n",
        "\n",
        "print(boolean_checkbox)\n",
        "print(boolean_dropdown)"
      ],
      "execution_count": 0,
      "outputs": []
    },
    {
      "cell_type": "code",
      "metadata": {
        "colab_type": "code",
        "id": "ZCEBZPwUDGOg",
        "cellView": "both",
        "colab": {}
      },
      "source": [
        "#@title ## Markdown\n",
        "#@markdown You can also include Markdown in forms.\n",
        "\n",
        "#@markdown ---\n",
        "#@markdown ### Enter a file path:\n",
        "file_path = \"/test/teste\" #@param {type:\"string\"}\n",
        "#@markdown ---\n",
        "\n"
      ],
      "execution_count": 0,
      "outputs": []
    },
    {
      "cell_type": "markdown",
      "metadata": {
        "colab_type": "text",
        "id": "hVEG5D5TxFKW"
      },
      "source": [
        "# Hiding code\n",
        "\n",
        "You can change the view of the form by selecting **Edit → Show/hide code** or using the toolbar above the selected code cell. You can see both code and the form, just the form, or just the code.\n",
        "\n",
        "- **Edit → Show/hide code** 에서 코드를 숨기거나 나타나게 할 수 있음\n",
        "  - 대세에 큰 지장없는 긴 코드를 숨길 때 사용할 수 있음"
      ]
    },
    {
      "cell_type": "code",
      "metadata": {
        "colab_type": "code",
        "id": "ad-fjFOQxoFG",
        "colab": {}
      },
      "source": [
        "#@title Double click on this line in the code cell. { display-mode: \"form\" }\n",
        "\n",
        "option1 = 'B' #@param [\"A\", \"B\", \"C\"]\n",
        "print('You selected', option1)\n"
      ],
      "execution_count": 0,
      "outputs": []
    },
    {
      "cell_type": "markdown",
      "metadata": {
        "id": "0K8HYSTpcyFh",
        "colab_type": "text"
      },
      "source": [
        "### Cell 자동 실행\n",
        "- 셀 선택후 양식창 우 상단 연필 모양 '셀 속성 수정(Edit cell attributes)'에서 \n",
        "- '입력란이 변경되면 셀 자동 실행(Auto-execute cell when fields change)'을 선택하면, \n",
        "- value가 바뀌었을 때 셀이 자동 실행됨\n",
        "\n",
        "![셀 속성 수정](https://github.com/iskra3138/colab_seminar/blob/master/Edit.JPG?raw=true) \n",
        "![셀 자동 실행](https://github.com/iskra3138/colab_seminar/blob/master/autorun.JPG?raw=true) \n"
      ]
    },
    {
      "cell_type": "code",
      "metadata": {
        "cellView": "both",
        "colab_type": "code",
        "id": "h9aZYKhly2h_",
        "colab": {}
      },
      "source": [
        "#@title After running this cell manually, it will auto-run if you change the selected value. { run: \"auto\" }\n",
        "\n",
        "option2 = \"A\" #@param [\"A\", \"B\", \"C\"]\n",
        "print('You selected', option2)\n"
      ],
      "execution_count": 0,
      "outputs": []
    },
    {
      "cell_type": "markdown",
      "metadata": {
        "colab_type": "text",
        "id": "62YnDE7i9dqP"
      },
      "source": [
        "# Using Jupyter Widgets for interactivity\n",
        "\n",
        "Colaboratory supports the core set of Jupyter Widgets for providing interactions between Python and the browser.\n",
        "\n",
        "See the official [Jupyter Widgets documentation](https://ipywidgets.readthedocs.io/en/latest/examples/Widget%20Basics.html).\n",
        "\n",
        "- jupyter widget도 지원함"
      ]
    },
    {
      "cell_type": "code",
      "metadata": {
        "colab_type": "code",
        "id": "WPib9hvO8Pmb",
        "colab": {}
      },
      "source": [
        "import ipywidgets as widgets\n",
        "from IPython.display import display\n",
        "button = widgets.Button(description=\"Click Me!\")\n",
        "output = widgets.Output()\n",
        "\n",
        "def on_button_clicked(b):\n",
        "  # Display the message within the output widget.\n",
        "  with output:\n",
        "    print(\"Button clicked.\")\n",
        "\n",
        "button.on_click(on_button_clicked)\n",
        "display(button, output)"
      ],
      "execution_count": 0,
      "outputs": []
    },
    {
      "cell_type": "markdown",
      "metadata": {
        "colab_type": "text",
        "id": "F9zl8NDWCKbS"
      },
      "source": [
        "### Using Jupyter Widgets sliders"
      ]
    },
    {
      "cell_type": "code",
      "metadata": {
        "colab_type": "code",
        "id": "8JNPFRy9BBhS",
        "colab": {}
      },
      "source": [
        "import ipywidgets as widgets\n",
        "slider = widgets.IntSlider(value=5, max=10)\n",
        "display(slider)"
      ],
      "execution_count": 0,
      "outputs": []
    },
    {
      "cell_type": "code",
      "metadata": {
        "colab_type": "code",
        "id": "KxoHySheBE0G",
        "colab": {}
      },
      "source": [
        "# The current value of the slider\n",
        "slider.value"
      ],
      "execution_count": 0,
      "outputs": []
    },
    {
      "cell_type": "markdown",
      "metadata": {
        "id": "aEOdKVkfJ2pS",
        "colab_type": "text"
      },
      "source": [
        "# Interactive widgets\n",
        "[출처] <https://colab.research.google.com/notebooks/widgets.ipynb>"
      ]
    },
    {
      "cell_type": "markdown",
      "metadata": {
        "colab_type": "text",
        "id": "rYTZ6IhFPW1E"
      },
      "source": [
        "This notebook demonstrates use of colaboratory's layout widgets.\n",
        "\n",
        "Colaboratory's widgets enable _redirecting future output_ to a particular place\n",
        "in the layout rather than requiring users to provide preconstructed html. Thus\n",
        "existing code that publishes its own output (such as bokeh, or matplotlib) can\n",
        "be treated as building-blocks from which more complex layouts can be built.\n",
        "Widgets also support a simple protocol for updating and clearing outputs\n",
        "dynamically.\n",
        "\n",
        "- output layout을 정의할 수 있는 Colab widget 예제들 모음"
      ]
    },
    {
      "cell_type": "markdown",
      "metadata": {
        "colab_type": "text",
        "id": "u6-xjyyhPyV3"
      },
      "source": [
        "## Grid\n",
        "\n",
        "- 격자형 출력"
      ]
    },
    {
      "cell_type": "markdown",
      "metadata": {
        "colab_type": "text",
        "id": "tj7G2xLCSAfE"
      },
      "source": [
        "### Example"
      ]
    },
    {
      "cell_type": "code",
      "metadata": {
        "colab_type": "code",
        "id": "P6xc9QVFSlrw",
        "colab": {}
      },
      "source": [
        "from google.colab import widgets\n",
        "\n",
        "print(\"I am the first print statement of the cell\")\n",
        "\n",
        "# Now we can create a grid, optional header_row and header_column\n",
        "# control whether we want header elements in the grid\n",
        "grid = widgets.Grid(2, 2, header_row=True, header_column=True)\n",
        "\n",
        "with grid.output_to(1, 1):\n",
        "  print(\"Bye grid\")\n",
        "\n",
        "# Note we can output to arbitrary cell, not necessarily in order\n",
        "with grid.output_to(0, 0):\n",
        "  print(\"Hello grid\")\n",
        "\n",
        "print(\"Now we are outside\")\n",
        "\n",
        "with grid.output_to(1, 0):\n",
        "  print(\"Back inside!\")\n",
        "\n",
        "# Any output can be printed to individual cells, not just print statements."
      ],
      "execution_count": 0,
      "outputs": []
    },
    {
      "cell_type": "markdown",
      "metadata": {
        "colab_type": "text",
        "id": "cl6RvxyQ2UMI"
      },
      "source": [
        "### Dynamic data population\n",
        "\n",
        "Individual cells can be cleared as new data arrives.\n",
        "\n",
        "- 새로운 출력이 발생했을 때 기존 거를 삭제할 수 있음"
      ]
    },
    {
      "cell_type": "code",
      "metadata": {
        "colab_type": "code",
        "id": "Kg9nhvPp3SPe",
        "colab": {}
      },
      "source": [
        "# 기존 결과 삭제하고 출력하기\n",
        "import numpy as np\n",
        "import random\n",
        "import time\n",
        "from matplotlib import pylab\n",
        "grid = widgets.Grid(2, 2)\n",
        "for i in range(20):\n",
        "  with grid.output_to(random.randint(0, 1), random.randint(0, 1)):  ### 출력 위치를 랜덤하게 선정\n",
        "    grid.clear_cell() ###<- 기존 출력 결과 삭제\n",
        "    pylab.figure(figsize=(2, 2))\n",
        "    pylab.plot(np.random.random((10, 1))) ### 랜덤 그래프 출력\n",
        "  time.sleep(0.5)"
      ],
      "execution_count": 0,
      "outputs": []
    },
    {
      "cell_type": "code",
      "metadata": {
        "id": "NUQXmzCTmg5_",
        "colab_type": "code",
        "colab": {}
      },
      "source": [
        "# 기존 결과 삭제 안하고 출력하기\n",
        "import numpy as np\n",
        "import random\n",
        "import time\n",
        "from matplotlib import pylab\n",
        "grid = widgets.Grid(2, 2)\n",
        "for i in range(20):\n",
        "  with grid.output_to(random.randint(0, 1), random.randint(0, 1)):  ### 출력 위치를 랜덤하게 선정\n",
        "    #grid.clear_cell() ###<- 기존 출력 결과 삭제\n",
        "    pylab.figure(figsize=(2, 2))\n",
        "    pylab.plot(np.random.random((10, 1))) ### 랜덤 그래프 출력\n",
        "  time.sleep(0.5)"
      ],
      "execution_count": 0,
      "outputs": []
    },
    {
      "cell_type": "markdown",
      "metadata": {
        "colab_type": "text",
        "id": "QKk_E6-QRVPW"
      },
      "source": [
        "## Tabbar\n",
        "\n",
        "TabBar provides a tabbed UI that shows one group of outputs among several while\n",
        "hiding the rest. All outputs can be sent to tabs: simple print()s, matplotlib\n",
        "plots, or any of the rich interactive libraries' outputs.\n",
        "\n",
        "- Tab 형식 출력"
      ]
    },
    {
      "cell_type": "markdown",
      "metadata": {
        "colab_type": "text",
        "id": "AwzCXwSU7Oec"
      },
      "source": [
        "### Example"
      ]
    },
    {
      "cell_type": "code",
      "metadata": {
        "colab_type": "code",
        "id": "WUWQJqKwrwg5",
        "colab": {}
      },
      "source": [
        "from __future__ import print_function\n",
        "\n",
        "from google.colab import widgets\n",
        "from google.colab import output\n",
        "from matplotlib import pylab\n",
        "from six.moves import zip\n",
        "\n",
        "\n",
        "def create_tab(location): #location을 'start', 'bottom', 'end', 'top'으로 받고 있음\n",
        "  tb = widgets.TabBar(['a', 'b'], location=location)\n",
        "  with tb.output_to('a'):  ### string 'a' or 0 으로 위치 결정\n",
        "    pylab.figure(figsize=(3, 3))\n",
        "    pylab.plot([1, 2, 3])\n",
        "  # Note you can access tab by its name (if they are unique), or\n",
        "  # by its index.\n",
        "  with tb.output_to(1): ### string 'b' or 1로 위치 결정\n",
        "    pylab.figure(figsize=(3, 3))\n",
        "    pylab.plot([3, 2, 3])\n",
        "    pylab.show()\n",
        "\n",
        "\n",
        "print('Different orientations for tabs')\n",
        "\n",
        "positions = ['start', 'bottom', 'end', 'top']\n",
        "\n",
        "for p, _ in zip(positions, widgets.Grid(1, 4)): #(1,4) widget을 그려서 각 위치별 Tabbar를 나타냄\n",
        "  print('---- %s ---' % p)\n",
        "  create_tab(p)"
      ],
      "execution_count": 0,
      "outputs": []
    },
    {
      "cell_type": "markdown",
      "metadata": {
        "colab_type": "text",
        "id": "dhyZBq9tkZSe"
      },
      "source": [
        "### TabBar.clear_tab\n",
        "\n",
        "Like Grid, Tabbar supports clearing individual tabs.\n",
        "\n",
        "- Grid 처럼 이전 결과물을 지울 수 있음"
      ]
    },
    {
      "cell_type": "code",
      "metadata": {
        "colab_type": "code",
        "id": "z2_S6TRRkYh_",
        "colab": {}
      },
      "source": [
        "t = widgets.TabBar([\"hi\", \"bye\"])\n",
        "\n",
        "with t.output_to(0):\n",
        "  print(\"I am temporary\")\n",
        "  t.clear_tab()  # clears current\n",
        "  print(\"I am permanent\")\n",
        "\n",
        "with t.output_to(1):\n",
        "  print(\"Me too temporary\")\n",
        "# Cler works outside of with statement\n",
        "t.clear_tab(1)\n",
        "\n",
        "with t.output_to(1):\n",
        "  print(\"1/2 Me is permanent\")\n",
        "with t.output_to(1):\n",
        "  print(\"2/2 Me too is permanent\")\n",
        "  \n"
      ],
      "execution_count": 0,
      "outputs": []
    },
    {
      "cell_type": "code",
      "metadata": {
        "id": "gsm4ZR6hwGSU",
        "colab_type": "code",
        "colab": {}
      },
      "source": [
        "## 결과물을 명확히 보기 위해 time.sleep을 추가\n",
        "t = widgets.TabBar([\"hi\", \"bye\"])\n",
        "time.sleep(3)\n",
        "\n",
        "with t.output_to(0):\n",
        "  print(\"I am temporary\")\n",
        "  time.sleep(3)\n",
        "  t.clear_tab()  # clears current\n",
        "  time.sleep(3)\n",
        "  print(\"I am permanent\")\n",
        "\n",
        "time.sleep(3)\n",
        "with t.output_to(1):\n",
        "  print(\"Me too temporary\")\n",
        "\n",
        "time.sleep(3)\n",
        "# Cler works outside of with statement\n",
        "t.clear_tab(1)\n",
        "\n",
        "time.sleep(3)\n",
        "\n",
        "with t.output_to(1):\n",
        "  print(\"1/2 Me is permanent\")\n",
        "  time.sleep(3)\n",
        "with t.output_to(1):\n",
        "  print(\"2/2 Me too is permanent\")\n",
        "  \n"
      ],
      "execution_count": 0,
      "outputs": []
    },
    {
      "cell_type": "markdown",
      "metadata": {
        "colab_type": "text",
        "id": "BZa2t-U5gIAB"
      },
      "source": [
        "### Populating in the background\n",
        "\n",
        "Sometimes it is handy to display output into tabbar without actually switching\n",
        "to it. Remember that when the tabbar is rendered on notebook load, it will\n",
        "essentially replay all the outputs of each tab, so if there many tabs it will\n",
        "visibly switch among them. To avoid this, provide the optional `select` flag to\n",
        "`output_to`.\n",
        "\n",
        "- 너무 많은 Tab이 있어 출력할 때마다 Tab이 바뀌는 것을 피하려면, select option을 통해 tab 출력을 background에서 실행할 수 있음\n",
        "\n",
        "```python\n",
        "tb = TabBar(['foreground', 'background'])\n",
        "with tb.output_to('background', select=False)\n",
        "  ... # output goes here\n",
        "```\n",
        "\n",
        "\n",
        "Actual example:"
      ]
    },
    {
      "cell_type": "code",
      "metadata": {
        "colab_type": "code",
        "id": "ICzrI2eUgHJn",
        "colab": {}
      },
      "source": [
        "from matplotlib import pylab\n",
        "from google.colab import widgets\n",
        "tb = widgets.TabBar([str(i) for i in range(16)])\n",
        "for i in range(16):\n",
        "  # Only select the first 3 tabs, and render others in the background.\n",
        "  with tb.output_to(i, select=(i < 3)): ### Arg. select의 값이 True면 tab상에서 결과가 업데이트, False면 background에서 업데이트\n",
        "    pylab.plot([1, i, 3])\n",
        "    pylab.show()"
      ],
      "execution_count": 0,
      "outputs": []
    },
    {
      "cell_type": "code",
      "metadata": {
        "id": "NNKvc_-jwOwJ",
        "colab_type": "code",
        "colab": {}
      },
      "source": [
        "## 결과물을 명확히 보기 위해 time.sleep을 추가\n",
        "from matplotlib import pylab\n",
        "from google.colab import widgets\n",
        "tb = widgets.TabBar([str(i) for i in range(16)])\n",
        "for i in range(16):\n",
        "  # Only select the first 3 tabs, and render others in the background.\n",
        "  with tb.output_to(i, select=(i < 10)): ### Arg. select의 값이 True면 tab상에서 결과가 업데이트, False면 background에서 업데이트\n",
        "    pylab.plot([1, i, 3])\n",
        "    pylab.show()\n",
        "    time.sleep(1)"
      ],
      "execution_count": 0,
      "outputs": []
    },
    {
      "cell_type": "markdown",
      "metadata": {
        "colab_type": "text",
        "id": "wiChZ2qmSGYr"
      },
      "source": [
        "## Iterating over a widget\n",
        "\n",
        "Both grid and tabbar support iteration to populate the widget, without having to\n",
        "explicitly redirect output to each component. Here is an example that produces a\n",
        "grid from flat data:\n",
        "\n",
        "- grid, tabbar 모두 redirect 없이, 출력을 반복할 수 있음"
      ]
    },
    {
      "cell_type": "code",
      "metadata": {
        "colab_type": "code",
        "id": "ndN5ykfrz6CV",
        "colab": {}
      },
      "source": [
        "from matplotlib import pylab\n",
        "grid = widgets.Grid(3, 3)\n",
        "for i, (row, col) in enumerate(grid):\n",
        "  print('Plot!')\n",
        "  pylab.figure(figsize=(2, 2))\n",
        "  pylab.plot([i, row, col])\n",
        "\n",
        "# Note: We can re-enter individual cells!\n",
        "for i, (row, col) in enumerate(grid):\n",
        "  print('data at cell %d (%d, %d)\\n' % (i, row, col))"
      ],
      "execution_count": 0,
      "outputs": []
    },
    {
      "cell_type": "code",
      "metadata": {
        "id": "SsrSZMcpxXTU",
        "colab_type": "code",
        "colab": {}
      },
      "source": [
        "from matplotlib import pylab\n",
        "grid = widgets.Grid(3, 3)\n",
        "for i, (row, col) in enumerate(grid):\n",
        "  print('Plot!')\n",
        "  pylab.figure(figsize=(2, 2))\n",
        "  pylab.plot([i, row, col])\n",
        "  time.sleep(0.5)\n",
        "\n",
        "time.sleep(1)\n",
        "# Note: We can re-enter individual cells!\n",
        "for i, (row, col) in enumerate(grid):\n",
        "  print('data at cell %d (%d, %d)\\n' % (i, row, col))\n",
        "  time.sleep(0.5)"
      ],
      "execution_count": 0,
      "outputs": []
    },
    {
      "cell_type": "markdown",
      "metadata": {
        "colab_type": "text",
        "id": "iP3caKQPXSJR"
      },
      "source": [
        "## Widget Removal\n",
        "\n",
        "Widgets can be removed along with output inside them. Note: the underlying\n",
        "notebook file will also be updated to remove all output, though if the cell is\n",
        "very long running, intermediate outputs might linger in revision history."
      ]
    },
    {
      "cell_type": "code",
      "metadata": {
        "colab_type": "code",
        "id": "_00aYIMEXVGS",
        "colab": {}
      },
      "source": [
        "import time\n",
        "from google.colab import widgets\n",
        "\n",
        "t = widgets.TabBar([\"hi\", \"bye\"])\n",
        "g = widgets.Grid(3, 3)\n",
        "# widget 바깥에 출력\n",
        "print(\"1/4 You also will see me\")\n",
        "print(\"2/4 see me\")\n",
        "\n",
        "# tabbar에 출력\n",
        "for _ in t:\n",
        "  print(\"***** You only see me temporarily!\")\n",
        "\n",
        "  # widget 바깥에 출력\n",
        "print(\"3/4 I am safe\")\n",
        "\n",
        "# grid에 출력\n",
        "for _ in g:\n",
        "  print(\"**** Or me for that matter\")\n",
        "  \n",
        "# widget 바깥에 출력\n",
        "print(\"4/4 You also will see me\")\n",
        "\n",
        "time.sleep(1)\n",
        "t.remove()\n",
        "g.remove()"
      ],
      "execution_count": 0,
      "outputs": []
    },
    {
      "cell_type": "code",
      "metadata": {
        "id": "bZ7M_l1_H3BH",
        "colab_type": "code",
        "colab": {}
      },
      "source": [
        "import time\n",
        "from google.colab import widgets\n",
        "\n",
        "t = widgets.TabBar([\"hi\", \"bye\"])\n",
        "g = widgets.Grid(3, 3)\n",
        "time.sleep(5)\n",
        "\n",
        "# widget 바깥에 출력\n",
        "print(\"1/4 You also will see me\")\n",
        "print(\"2/4 see me\")\n",
        "\n",
        "time.sleep(3)\n",
        "\n",
        "# tabbar에 출력\n",
        "for _ in t:\n",
        "  print(\"***** You only see me temporarily!\")\n",
        "\n",
        "time.sleep(3)\n",
        "# widget 바깥에 출력\n",
        "print(\"3/4 I am safe\")\n",
        "time.sleep(3)\n",
        "\n",
        "# gride에 출력\n",
        "for _ in g:\n",
        "  print(\"**** Or me for that matter\")\n",
        "  \n",
        "time.sleep(3)\n",
        "# widget 바깥에 출력\n",
        "print(\"4/4 You also will see me\")\n",
        "\n",
        "time.sleep(3)\n",
        "t.remove()\n",
        "g.remove()"
      ],
      "execution_count": 0,
      "outputs": []
    },
    {
      "cell_type": "markdown",
      "metadata": {
        "id": "cZ3n2QDlxGCU",
        "colab_type": "text"
      },
      "source": [
        "### Image 불러오기"
      ]
    },
    {
      "cell_type": "code",
      "metadata": {
        "id": "KDvmhq50yY2t",
        "colab_type": "code",
        "colab": {}
      },
      "source": [
        "!wget https://i.ytimg.com/vi/MPV2METPeJU/maxresdefault.jpg"
      ],
      "execution_count": 0,
      "outputs": []
    },
    {
      "cell_type": "code",
      "metadata": {
        "id": "pQ8gmevTxKHN",
        "colab_type": "code",
        "colab": {}
      },
      "source": [
        "from PIL import Image\n",
        "img_pil = Image.open('maxresdefault.jpg')"
      ],
      "execution_count": 0,
      "outputs": []
    },
    {
      "cell_type": "code",
      "metadata": {
        "id": "tBzREBmzxTk9",
        "colab_type": "code",
        "colab": {}
      },
      "source": [
        "img_pil"
      ],
      "execution_count": 0,
      "outputs": []
    },
    {
      "cell_type": "code",
      "metadata": {
        "id": "pUcK0vevxVES",
        "colab_type": "code",
        "colab": {}
      },
      "source": [
        "import cv2\n",
        "img_cv=cv2.imread('maxresdefault.jpg')"
      ],
      "execution_count": 0,
      "outputs": []
    },
    {
      "cell_type": "code",
      "metadata": {
        "id": "SwAyE2gqxaxK",
        "colab_type": "code",
        "colab": {}
      },
      "source": [
        "img_cv"
      ],
      "execution_count": 0,
      "outputs": []
    },
    {
      "cell_type": "code",
      "metadata": {
        "id": "suCl3edpxcrs",
        "colab_type": "code",
        "colab": {}
      },
      "source": [
        "cv2.imshow(img_cv)"
      ],
      "execution_count": 0,
      "outputs": []
    },
    {
      "cell_type": "code",
      "metadata": {
        "id": "ib3T8MHkxfWa",
        "colab_type": "code",
        "colab": {}
      },
      "source": [
        "from google.colab.patches import cv2_imshow\n",
        "cv2_imshow(img_cv)"
      ],
      "execution_count": 0,
      "outputs": []
    }
  ]
}