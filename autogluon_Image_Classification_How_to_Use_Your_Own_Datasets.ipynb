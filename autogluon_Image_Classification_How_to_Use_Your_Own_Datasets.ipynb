{
  "nbformat": 4,
  "nbformat_minor": 0,
  "metadata": {
    "colab": {
      "name": "autogluon_Image Classification - How to Use Your Own Datasets",
      "provenance": [],
      "collapsed_sections": [],
      "include_colab_link": true
    },
    "kernelspec": {
      "name": "python3",
      "display_name": "Python 3"
    },
    "accelerator": "GPU"
  },
  "cells": [
    {
      "cell_type": "markdown",
      "metadata": {
        "id": "view-in-github",
        "colab_type": "text"
      },
      "source": [
        "<a href=\"https://colab.research.google.com/github/iskra3138/colab_seminar/blob/master/autogluon_Image_Classification_How_to_Use_Your_Own_Datasets.ipynb\" target=\"_parent\"><img src=\"https://colab.research.google.com/assets/colab-badge.svg\" alt=\"Open In Colab\"/></a>"
      ]
    },
    {
      "cell_type": "code",
      "metadata": {
        "id": "BQmhYhOJpLsA",
        "colab_type": "code",
        "colab": {}
      },
      "source": [
        "## For P100\n",
        "!nvidia-smi"
      ],
      "execution_count": 0,
      "outputs": []
    },
    {
      "cell_type": "markdown",
      "metadata": {
        "id": "2p4eHrFt8OSn",
        "colab_type": "text"
      },
      "source": [
        "# AutoGluon 설치"
      ]
    },
    {
      "cell_type": "code",
      "metadata": {
        "id": "UTVtOQArpr-x",
        "colab_type": "code",
        "colab": {}
      },
      "source": [
        "!pip install --upgrade mxnet-cu100\n",
        "!pip install autogluon"
      ],
      "execution_count": 0,
      "outputs": []
    },
    {
      "cell_type": "markdown",
      "metadata": {
        "id": "gkc7dj8crkZH",
        "colab_type": "text"
      },
      "source": [
        "RESTART RUNTIME 버튼을 누르지 말고 아래 에러 해결을 위한 code cell 하나 더 실행하고 RESTART"
      ]
    },
    {
      "cell_type": "markdown",
      "metadata": {
        "id": "EJJcMrUKyRYj",
        "colab_type": "text"
      },
      "source": [
        "- task.fit 실행시 'ValueError: max() arg is an empty sequence' 발생 시 아래 code cell 실행\n",
        "  - 출처 :<https://github.com/awslabs/autogluon/issues/163>"
      ]
    },
    {
      "cell_type": "code",
      "metadata": {
        "id": "S9HeUetOx23t",
        "colab_type": "code",
        "colab": {}
      },
      "source": [
        "!pip uninstall -y distributed\n",
        "!pip install distributed\n",
        "!pip install -U ipykernel"
      ],
      "execution_count": 0,
      "outputs": []
    },
    {
      "cell_type": "markdown",
      "metadata": {
        "id": "TDf1fMIKh3Lt",
        "colab_type": "text"
      },
      "source": [
        "- output 제일 아래 RESTART RUNTIME 버튼을 눌러서 런타임 다시 시작하고 아래 부터 실행"
      ]
    },
    {
      "cell_type": "markdown",
      "metadata": {
        "id": "Im7NgIo956Px",
        "colab_type": "text"
      },
      "source": [
        "# Image Classification - How to Use Your Own Datasets\n",
        "\n",
        "[출처] <https://autogluon.mxnet.io/tutorials/image_classification/kaggle.html>"
      ]
    },
    {
      "cell_type": "markdown",
      "metadata": {
        "id": "RfmZnZ98sClI",
        "colab_type": "text"
      },
      "source": [
        "This tutorial demonstrates how to use AutoGluon with your own custom datasets. As an example, we use a dataset from Kaggle to show the required steps to format image data properly for AutoGluon."
      ]
    },
    {
      "cell_type": "markdown",
      "metadata": {
        "id": "xCpMIZ5BsIQ2",
        "colab_type": "text"
      },
      "source": [
        "### Step 1: Organizing the dataset into proper directories"
      ]
    },
    {
      "cell_type": "markdown",
      "metadata": {
        "id": "l9Nx7RkwNxec",
        "colab_type": "text"
      },
      "source": [
        "After completing this step, you will have the following directory structure on your machine:"
      ]
    },
    {
      "cell_type": "code",
      "metadata": {
        "id": "697wD_uvsmZu",
        "colab_type": "code",
        "colab": {}
      },
      "source": [
        "'''\n",
        "data/\n",
        "├── class1/\n",
        "├── class2/\n",
        "├── class3/\n",
        "├── ...\n",
        "'''"
      ],
      "execution_count": 0,
      "outputs": []
    },
    {
      "cell_type": "markdown",
      "metadata": {
        "id": "rGTeSY1Z8cZV",
        "colab_type": "text"
      },
      "source": [
        "Here data is a folder containing the raw images categorized into classes. For example, subfolder class1 contains all images that belong to the first class, class2 contains all images belonging to the second class, etc. We generally recommend at least 100 training images per class for reasonable classification performance, but this might depend on the type of images in your specific use-case."
      ]
    },
    {
      "cell_type": "markdown",
      "metadata": {
        "id": "_5J43nAksPld",
        "colab_type": "text"
      },
      "source": [
        "Under each class, the following image formats are supported when training your model:\n",
        "- JPG\n",
        "- JPEG\n",
        "- PNG"
      ]
    },
    {
      "cell_type": "markdown",
      "metadata": {
        "id": "X3dna-CzOYKB",
        "colab_type": "text"
      },
      "source": [
        "In the same dataset, all the images should be in the same format. Note that in image classification, we do not require that all images have the same resolution."
      ]
    },
    {
      "cell_type": "markdown",
      "metadata": {
        "id": "iGDICuLyOaSo",
        "colab_type": "text"
      },
      "source": [
        "You will need to organize your dataset into the above directory structure before using AutoGluon. Below, we demonstrate how to construct this organization for a Kaggle dataset."
      ]
    },
    {
      "cell_type": "markdown",
      "metadata": {
        "id": "sUIry5a4PgPW",
        "colab_type": "text"
      },
      "source": [
        "#### Kaggle과 Google colab 연결하기\n",
        "\n",
        "[출처] <https://towardsdatascience.com/setting-up-kaggle-in-google-colab-ebb281b61463>"
      ]
    },
    {
      "cell_type": "markdown",
      "metadata": {
        "id": "FCIla410SFhz",
        "colab_type": "text"
      },
      "source": [
        "First, grab your token from Kaggle.\n",
        "\n",
        "Go to your account page (the drop-down menu in the top right corner of the screen will take you there).\n",
        "![대체 텍스트](https://miro.medium.com/max/2542/1*f94G6dXm-8cRxX5FFTCqyg.png)\n",
        "\n",
        "Then scroll down to API and hit “Create New API Token.”\n",
        "![대체 텍스트](https://miro.medium.com/max/2050/1*rhsGKThdgxwUoskaACSlwA.png)\n",
        "\n",
        "That’s going to download a file called kaggle.json.\n",
        "Open the file and you’ll see something that looks a lot like this:\n",
        "```\n",
        "{“username”:”YOUR-USER-NAME”,”key”:”SOME-VERY-LONG-STRING”}\n",
        "```\n",
        "\n"
      ]
    },
    {
      "cell_type": "markdown",
      "metadata": {
        "id": "-FQX8R7hTGy7",
        "colab_type": "text"
      },
      "source": [
        "확인한 자기 token 정보를 이용하여 /root/.kaggle/ directory에 kaggle.json 파일 생성"
      ]
    },
    {
      "cell_type": "code",
      "metadata": {
        "id": "uhG9omPjTHDV",
        "colab_type": "code",
        "colab": {}
      },
      "source": [
        "import os\n",
        "import json\n",
        "\n",
        "if not os.path.exists('/root/.kaggle/'):\n",
        "  os.makedirs('/root/.kaggle')\n",
        "  \n",
        "#token = {“username”:”YOUR-USER-NAME”,”key”:”SOME-VERY-LONG-STRING”}\n",
        "token =  {\"username\":\"iskra3138\",\"key\":\"875d24d34640942187d5cdc8e8d6d2cf\"}#@param {type:\"raw\"}\n",
        "\n",
        "assert token, 'For this part, you need an information in the kaggle.json like {“username”:”YOUR-USER-NAME”,”key”:”SOME-VERY-LONG-STRING”}'\n",
        "\n",
        "with open('/root/.kaggle/kaggle.json', 'w') as file:\n",
        "    json.dump(token, file)"
      ],
      "execution_count": 0,
      "outputs": []
    },
    {
      "cell_type": "code",
      "metadata": {
        "id": "537l-KkoTZik",
        "colab_type": "code",
        "colab": {}
      },
      "source": [
        "!chmod 600 /root/.kaggle/kaggle.json"
      ],
      "execution_count": 0,
      "outputs": []
    },
    {
      "cell_type": "markdown",
      "metadata": {
        "id": "vrGRziyEOcHv",
        "colab_type": "text"
      },
      "source": [
        "#### Example: Kaggle dataset"
      ]
    },
    {
      "cell_type": "markdown",
      "metadata": {
        "id": "qfpo5bRnOhbn",
        "colab_type": "text"
      },
      "source": [
        "Kaggle is a popular machine learning competition platform and contains lots of datasets for different machine learning tasks including image classification. If you don’t have Kaggle account, please register one at [Kaggle](https://www.kaggle.com/). Then, please follow the [Kaggle installation](https://github.com/Kaggle/kaggle-api/) to obtain access to Kaggle’s data downloading API.\n",
        "\n",
        "To find image classification datasets in Kaggle, let’s go to [Kaggle](https://www.kaggle.com/) and search using keyword image classification either under Datasets or Competitions.\n",
        "\n",
        "For example, we find the Shopee-IET Machine Learning Competition under the InClass tab in Competitions.\n",
        "\n",
        "We then navigate to [Data](https://www.kaggle.com/c/shopee-iet-machine-learning-competition/data) to download the dataset using the Kaggle API. Please make sure to click the button of “I Understand and Accept” before downloading the data.\n",
        "\n",
        "An example shell script to download the dataset to ./data/shopeeiet/ can be found here: [download_shopeeiet.sh](https://github.com/zhanghang1989/AutoGluonWebdata/blob/master/docs/tutorial/download_shopeeiet.sh?raw=True)."
      ]
    },
    {
      "cell_type": "markdown",
      "metadata": {
        "id": "OyKni0_tVtEc",
        "colab_type": "text"
      },
      "source": [
        "- 아래 code cell을 실행시키면 데이터 다운로드가 안됨.\n",
        "- kaggle 홈페이지에서 shopee-iet-machine-learning-competition 검색한 후 아래 설명대로 해서 해결\n",
        "  - kaggle 시스템의 특성 상 실제 경쟁에 참여하므로 rule에 대해 인정하는 과정이 없으면 아예 API가 막히는거 같다. \n",
        "  - 그래서 해당 competition 페이지를 방문해 보면 Rules 메뉴 탭을 선택하면 다음과 같이 룰을 이해하고 받아들이는 버튼이 있다. \n",
        "  - 이 버튼을 누르면서 인정 과정을 거친다.\n",
        "  - ![대체 텍스트](https://img1.daumcdn.net/thumb/R1280x0/?scode=mtistory2&fname=https%3A%2F%2Fk.kakaocdn.net%2Fdn%2F0NOHH%2Fbtqv7YZN5gx%2FfJjR0E5CEzfl1Xqcwr6TK1%2Fimg.png)\n",
        "  - [출처] https://curioso365.tistory.com/98"
      ]
    },
    {
      "cell_type": "markdown",
      "metadata": {
        "id": "A0rufRmJO0Xn",
        "colab_type": "text"
      },
      "source": [
        "After downloading this script to your machine, run it with:\n",
        "- shell script가 작동하지 않아서 따로 풀어서 코드 정리했습니다."
      ]
    },
    {
      "cell_type": "code",
      "metadata": {
        "id": "BEpWwPXIspkl",
        "colab_type": "code",
        "colab": {}
      },
      "source": [
        "import autogluon as ag\n",
        "\n",
        "## shell script가 작동하지 않아서 아래 코드로 변경해서 데이터 다운로드\n",
        "#ag.download('https://raw.githubusercontent.com/zhanghang1989/AutoGluonWebdata/master/docs/tutorial/download_shopeeiet.sh')\n",
        "#!sh download_shopeeiet.sh"
      ],
      "execution_count": 0,
      "outputs": []
    },
    {
      "cell_type": "code",
      "metadata": {
        "id": "n5u7EBrKKMnj",
        "colab_type": "code",
        "colab": {}
      },
      "source": [
        "mkdir -p ./data/shopeeiet/train"
      ],
      "execution_count": 0,
      "outputs": []
    },
    {
      "cell_type": "code",
      "metadata": {
        "id": "eAB3G_vEJdFZ",
        "colab_type": "code",
        "colab": {}
      },
      "source": [
        "cd data/shopeeiet/"
      ],
      "execution_count": 0,
      "outputs": []
    },
    {
      "cell_type": "code",
      "metadata": {
        "id": "kidOYayRLFPp",
        "colab_type": "code",
        "colab": {}
      },
      "source": [
        "!kaggle competitions download -c shopee-iet-machine-learning-competition -p ./"
      ],
      "execution_count": 0,
      "outputs": []
    },
    {
      "cell_type": "code",
      "metadata": {
        "id": "fIxUslvWJdIC",
        "colab_type": "code",
        "colab": {}
      },
      "source": [
        "!mv Training%20Images.zip train && cd train && unzip Training%20Images.zip"
      ],
      "execution_count": 0,
      "outputs": []
    },
    {
      "cell_type": "code",
      "metadata": {
        "id": "pGK3VfleJdKo",
        "colab_type": "code",
        "colab": {}
      },
      "source": [
        "cd /content/data/shopeeiet"
      ],
      "execution_count": 0,
      "outputs": []
    },
    {
      "cell_type": "code",
      "metadata": {
        "id": "yZF2etkDJdM_",
        "colab_type": "code",
        "colab": {}
      },
      "source": [
        "!unzip Test%20Images.zip"
      ],
      "execution_count": 0,
      "outputs": []
    },
    {
      "cell_type": "code",
      "metadata": {
        "id": "89sd0C5oJdP_",
        "colab_type": "code",
        "colab": {}
      },
      "source": [
        "!mv Test test"
      ],
      "execution_count": 0,
      "outputs": []
    },
    {
      "cell_type": "code",
      "metadata": {
        "id": "zbgQpOpKJdSo",
        "colab_type": "code",
        "colab": {}
      },
      "source": [
        "!rm *.zip *.csv train/*.zip"
      ],
      "execution_count": 0,
      "outputs": []
    },
    {
      "cell_type": "code",
      "metadata": {
        "id": "AShzSmwdJNOm",
        "colab_type": "code",
        "colab": {}
      },
      "source": [
        "cd /content/"
      ],
      "execution_count": 0,
      "outputs": []
    },
    {
      "cell_type": "markdown",
      "metadata": {
        "id": "gZ_hYyqgsvSv",
        "colab_type": "text"
      },
      "source": [
        "Tranin Data 내에 인식되지 않는 이미지들이 있어서 학습이 오류가 나기 때문에 제거\n",
        "- 예. '/content/data/shopeeiet/train/BabyBibs/BabyBibs_1.jpg'"
      ]
    },
    {
      "cell_type": "code",
      "metadata": {
        "id": "PoO6r5vqJdVK",
        "colab_type": "code",
        "colab": {}
      },
      "source": [
        "import os\n",
        "import mxnet as mx\n",
        "import shutil\n",
        "\n",
        "unrecog_dir='/content/data/shopeeiet/unrecognized'\n",
        "if not os.path.exists(unrecog_dir):\n",
        "  os.makedirs(unrecog_dir)\n",
        "for (path, dir, files) in os.walk(\"/content/data/shopeeiet/train/\"):\n",
        "  for filename in files:\n",
        "    img_path = os.path.join(path,filename)\n",
        "    try:\n",
        "      mx.image.imread(img_path)\n",
        "    except:\n",
        "      print (img_path)\n",
        "      shutil.move(img_path, unrecog_dir)\n",
        "    '''ext = os.path.splitext(filename)[-1]\n",
        "      if ext == '.':\n",
        "        print(\"%s/%s\" % (path, filename))'''"
      ],
      "execution_count": 0,
      "outputs": []
    },
    {
      "cell_type": "markdown",
      "metadata": {
        "id": "XOujLtqVsXsp",
        "colab_type": "text"
      },
      "source": [
        "Now we have the desired directory structure under ./data/shopeeiet/train/, which in this case looks as follows:\n",
        "```\n",
        "shopeeiet/train\n",
        "    ├── BabyBibs\n",
        "    ├── BabyHat\n",
        "    ├── BabyPants\n",
        "    ├── ...\n",
        "shopeeiet/test\n",
        "    ├── ...\n",
        "```\n",
        "\n",
        "Here are some example images from this data:\n",
        "\n",
        "![대체 텍스트](https://autogluon.mxnet.io/_images/shopeeiet_example.png)"
      ]
    },
    {
      "cell_type": "markdown",
      "metadata": {
        "id": "dGx67aLEzHuc",
        "colab_type": "text"
      },
      "source": [
        "### Step 2: Split data into training/validation sets"
      ]
    },
    {
      "cell_type": "markdown",
      "metadata": {
        "id": "CWq2e83IzRM2",
        "colab_type": "text"
      },
      "source": [
        "A fundamental step in machine learning is to split the data into disjoint sets used for different purposes.\n",
        "\n",
        "**Training Set**: The majority of your data should be in the training set. This is the data use to train your model: data is used to learn the parameters of the model, namely the weights of the neural network classifier.\n",
        "\n",
        "**Validation Set**: A separate validation set (sometimes also called the dev set) is also used during AutoGluon’s training process. While neural network weights are updated based on the training data, each neural network requires the user to specify many hyperparameters (e.g., learning rates, etc.). The choice of hyperparameters greatly impacts the training process and resulting model. AutoGluon automatically tries many different values of these hyperparameters and evaluates each hyperparameter setting by measuring the performance of the resulting network on the validation set.\n",
        "\n",
        "**Test Set**: A separate set of images, possibly without available labels. These data are never used during any part of the model construction or learning process. If unlabeled, these may correspond to images whose labels we would like to predict. If labeled, these images may correspond to images we reserve for estimating the performance of our final model."
      ]
    },
    {
      "cell_type": "markdown",
      "metadata": {
        "id": "orKy_Ay5zZxG",
        "colab_type": "text"
      },
      "source": [
        "#### Automatic training/validation split"
      ]
    },
    {
      "cell_type": "markdown",
      "metadata": {
        "id": "uFRlG_1pzhnn",
        "colab_type": "text"
      },
      "source": [
        "AutoGluon automatically does Training/Validation split:"
      ]
    },
    {
      "cell_type": "code",
      "metadata": {
        "id": "K7ekW13-HjxQ",
        "colab_type": "code",
        "colab": {}
      },
      "source": [
        "from autogluon import ImageClassification as task\n",
        "dataset = task.Dataset('/content/data/shopeeiet/train')"
      ],
      "execution_count": 0,
      "outputs": []
    },
    {
      "cell_type": "markdown",
      "metadata": {
        "id": "QpyJF772zqZq",
        "colab_type": "text"
      },
      "source": [
        "AutoGluon automatically infers how many classes there are based on the directory structure. By default, AutoGluon automatically constructs the training/validation set split:\n",
        "\n",
        "- Training Set: 80% of images.\n",
        "- Validation Set: 20% of images.\n",
        "\n",
        "where the images that fall into the validation set are randomly chosen from the training data based on the class."
      ]
    },
    {
      "cell_type": "markdown",
      "metadata": {
        "id": "l5o77Tf_zv1Y",
        "colab_type": "text"
      },
      "source": [
        "### Step 3: Use AutoGluon fit to generate a classification model"
      ]
    },
    {
      "cell_type": "markdown",
      "metadata": {
        "id": "fcL5zd0PzzMI",
        "colab_type": "text"
      },
      "source": [
        "Now that we have a Dataset object, we can use AutoGluon’s default configuration to obtain an image classification model using the `fit </api/autogluon.task.html#autogluon.task.ImageClassification.fit>`__ function.\n",
        "\n",
        "Due to the large size of the Kaggle dataset, calling fit without specifying a time limit may result in long waiting times. Run the following commands to run fit using a time limit:\n",
        "\n",
        "P100에서 약 7-8시간 소요??"
      ]
    },
    {
      "cell_type": "code",
      "metadata": {
        "id": "2PEfJFGnHkJh",
        "colab_type": "code",
        "cellView": "code",
        "colab": {}
      },
      "source": [
        "#@title\n",
        "time_limits = 10 * 60 # 10mins\n",
        "classifier = task.fit(dataset, time_limits=time_limits,\n",
        "                      ngpus_per_trial=1)"
      ],
      "execution_count": 0,
      "outputs": []
    },
    {
      "cell_type": "markdown",
      "metadata": {
        "id": "8pbION6lz8rp",
        "colab_type": "text"
      },
      "source": [
        "The top-1 accuracy of the best model on the validation set is:"
      ]
    },
    {
      "cell_type": "code",
      "metadata": {
        "id": "l28iWmqdHmK1",
        "colab_type": "code",
        "colab": {}
      },
      "source": [
        "print('Top-1 val acc: %.3f' % classifier.results['best_reward'])"
      ],
      "execution_count": 0,
      "outputs": []
    },
    {
      "cell_type": "markdown",
      "metadata": {
        "id": "4_VJYyte0BfG",
        "colab_type": "text"
      },
      "source": [
        "#### Using AutoGluon to Generate Predictions on Test Images"
      ]
    },
    {
      "cell_type": "markdown",
      "metadata": {
        "id": "u3yVEaAp0Evl",
        "colab_type": "text"
      },
      "source": [
        "We can ask our final model to generate predictions on the provided test images. We first load the test data as a Dataset object and then call predict:"
      ]
    },
    {
      "cell_type": "code",
      "metadata": {
        "id": "QOo2E0-uHndD",
        "colab_type": "code",
        "colab": {}
      },
      "source": [
        "test_dataset = task.Dataset('./data/shopeeiet/test')\n",
        "inds, probs, probs_all = classifier.predict(test_dataset)"
      ],
      "execution_count": 0,
      "outputs": []
    },
    {
      "cell_type": "markdown",
      "metadata": {
        "id": "7MR4N5se0Hyw",
        "colab_type": "text"
      },
      "source": [
        "inds above contains the indices of the predicted class for each test image. probs contains the confidence in these class predictions. probs_all contains the confidence in the whole of classes predictions.\n",
        "\n",
        "Here are the results of AutoGluon’s default fit and predict under different time_limits when executed on a p3.16xlarge EC2 instance:\n",
        "\n",
        "- The validation top-1 accuracy within 5h is 0.842, and ranks 14th place in Kaggle competition.\n",
        "- The validation top-1 accuracy within 24h is 0.846, and ranks 12th place in Kaggle competition.\n",
        "- The validation top-1 accuracy within 72h is 0.852, and ranks 9th place in Kaggle competition."
      ]
    },
    {
      "cell_type": "markdown",
      "metadata": {
        "id": "sEHiG_qs0UpA",
        "colab_type": "text"
      },
      "source": [
        "### Step 4: Submit test predictions to Kaggle"
      ]
    },
    {
      "cell_type": "markdown",
      "metadata": {
        "id": "XJ6kxwXR0XxO",
        "colab_type": "text"
      },
      "source": [
        "If you wish to upload the model’s predictions to Kaggle, here is how to convert them into a format suitable for a submission into the Kaggle competition:"
      ]
    },
    {
      "cell_type": "code",
      "metadata": {
        "id": "OgCiSUMj0SuS",
        "colab_type": "code",
        "colab": {}
      },
      "source": [
        "import autogluon as ag\n",
        "ag.utils.generate_csv(inds, './data/shopeeiet/submission.csv')"
      ],
      "execution_count": 0,
      "outputs": []
    },
    {
      "cell_type": "markdown",
      "metadata": {
        "id": "UL9Vanhj0c-f",
        "colab_type": "text"
      },
      "source": [
        "This produces a submission file located at: ./data/shopeeiet/submission.csv.\n",
        "\n",
        "To see an example submission, check out sample submission.csv at this link: [Data](https://www.kaggle.com/c/shopee-iet-machine-learning-competition/data).\n",
        "\n",
        "To make your own submission, click [Submission](https://www.kaggle.com/c/shopee-iet-machine-learning-competition/submit) and then follow the steps in the submission page (upload submission file, describe the submission, and click the Make Submission button). Let’s see how your model fares in this competition!"
      ]
    },
    {
      "cell_type": "code",
      "metadata": {
        "id": "pDZovohQ0mXt",
        "colab_type": "code",
        "colab": {}
      },
      "source": [
        ""
      ],
      "execution_count": 0,
      "outputs": []
    }
  ]
}