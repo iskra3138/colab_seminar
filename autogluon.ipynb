{
  "nbformat": 4,
  "nbformat_minor": 0,
  "metadata": {
    "colab": {
      "name": "autogluon",
      "provenance": [],
      "collapsed_sections": [
        "2p4eHrFt8OSn",
        "Im7NgIo956Px",
        "9tKzoN0K6Ih-",
        "XNpyt30QxbLm",
        "Gho4-CSI5eJt"
      ],
      "authorship_tag": "ABX9TyMe5cnB0CpVo6OqkuCMmkoQ",
      "include_colab_link": true
    },
    "kernelspec": {
      "name": "python3",
      "display_name": "Python 3"
    },
    "accelerator": "GPU"
  },
  "cells": [
    {
      "cell_type": "markdown",
      "metadata": {
        "id": "view-in-github",
        "colab_type": "text"
      },
      "source": [
        "<a href=\"https://colab.research.google.com/github/iskra3138/colab_seminar/blob/master/autogluon.ipynb\" target=\"_parent\"><img src=\"https://colab.research.google.com/assets/colab-badge.svg\" alt=\"Open In Colab\"/></a>"
      ]
    },
    {
      "cell_type": "code",
      "metadata": {
        "id": "BQmhYhOJpLsA",
        "colab_type": "code",
        "colab": {}
      },
      "source": [
        "!nvidia-smi"
      ],
      "execution_count": 0,
      "outputs": []
    },
    {
      "cell_type": "markdown",
      "metadata": {
        "id": "2p4eHrFt8OSn",
        "colab_type": "text"
      },
      "source": [
        "# AutoGluon 설치"
      ]
    },
    {
      "cell_type": "code",
      "metadata": {
        "id": "UTVtOQArpr-x",
        "colab_type": "code",
        "colab": {}
      },
      "source": [
        "!pip install --upgrade mxnet-cu100"
      ],
      "execution_count": 0,
      "outputs": []
    },
    {
      "cell_type": "code",
      "metadata": {
        "id": "doW0mmmurxwP",
        "colab_type": "code",
        "colab": {}
      },
      "source": [
        "!pip install autogluon"
      ],
      "execution_count": 0,
      "outputs": []
    },
    {
      "cell_type": "markdown",
      "metadata": {
        "id": "EJJcMrUKyRYj",
        "colab_type": "text"
      },
      "source": [
        "- task.fit 실행시 'ValueError: max() arg is an empty sequence' 발생 시 아래 3가지 셀 실행\n",
        "  - 출처 :<https://github.com/awslabs/autogluon/issues/163>"
      ]
    },
    {
      "cell_type": "code",
      "metadata": {
        "id": "S9HeUetOx23t",
        "colab_type": "code",
        "colab": {}
      },
      "source": [
        "!pip uninstall -y distributed"
      ],
      "execution_count": 0,
      "outputs": []
    },
    {
      "cell_type": "code",
      "metadata": {
        "id": "rK-z9aQpx27V",
        "colab_type": "code",
        "colab": {}
      },
      "source": [
        "!pip install distributed"
      ],
      "execution_count": 0,
      "outputs": []
    },
    {
      "cell_type": "code",
      "metadata": {
        "id": "iWh0RMjzx3L0",
        "colab_type": "code",
        "colab": {}
      },
      "source": [
        "!pip install -U ipykernel"
      ],
      "execution_count": 0,
      "outputs": []
    },
    {
      "cell_type": "markdown",
      "metadata": {
        "id": "Im7NgIo956Px",
        "colab_type": "text"
      },
      "source": [
        "# Image Classification\n",
        "\n",
        "[출처] <https://autogluon.mxnet.io/tutorials/image_classification/beginner.html>"
      ]
    },
    {
      "cell_type": "markdown",
      "metadata": {
        "id": "DwX5WagZ8WBV",
        "colab_type": "text"
      },
      "source": [
        "### Image Classification - Quick Start"
      ]
    },
    {
      "cell_type": "code",
      "metadata": {
        "id": "697wD_uvsmZu",
        "colab_type": "code",
        "colab": {}
      },
      "source": [
        "import autogluon as ag\n",
        "from autogluon import ImageClassification as task"
      ],
      "execution_count": 0,
      "outputs": []
    },
    {
      "cell_type": "markdown",
      "metadata": {
        "id": "rGTeSY1Z8cZV",
        "colab_type": "text"
      },
      "source": [
        "### Create AutoGluon Dataset"
      ]
    },
    {
      "cell_type": "code",
      "metadata": {
        "id": "BEpWwPXIspkl",
        "colab_type": "code",
        "colab": {}
      },
      "source": [
        "filename = ag.download('https://autogluon.s3.amazonaws.com/datasets/shopee-iet.zip')\n",
        "ag.unzip(filename)"
      ],
      "execution_count": 0,
      "outputs": []
    },
    {
      "cell_type": "code",
      "metadata": {
        "id": "yfy-Hb2xstFn",
        "colab_type": "code",
        "colab": {}
      },
      "source": [
        "dataset = task.Dataset('data/train')"
      ],
      "execution_count": 0,
      "outputs": []
    },
    {
      "cell_type": "code",
      "metadata": {
        "id": "-gtsIe80suxv",
        "colab_type": "code",
        "colab": {}
      },
      "source": [
        "test_dataset = task.Dataset('data/test', train=False)"
      ],
      "execution_count": 0,
      "outputs": []
    },
    {
      "cell_type": "code",
      "metadata": {
        "id": "wq_4ZBEmtXrR",
        "colab_type": "code",
        "colab": {}
      },
      "source": [
        "if ag.get_gpu_count() == 0:\n",
        "    dataset = task.Dataset(name='FashionMNIST')\n",
        "    test_dataset = task.Dataset(name='FashionMNIST', train=False)"
      ],
      "execution_count": 0,
      "outputs": []
    },
    {
      "cell_type": "markdown",
      "metadata": {
        "id": "vvxqjdzh8kQT",
        "colab_type": "text"
      },
      "source": [
        "### Use AutoGluon to Fit Models"
      ]
    },
    {
      "cell_type": "code",
      "metadata": {
        "id": "KwzSa2JXtZ3l",
        "colab_type": "code",
        "colab": {}
      },
      "source": [
        "classifier = task.fit(dataset,\n",
        "                      epochs=10,\n",
        "                      ngpus_per_trial=1,\n",
        "                      verbose=False)"
      ],
      "execution_count": 0,
      "outputs": []
    },
    {
      "cell_type": "code",
      "metadata": {
        "id": "dtFuyMCStb5n",
        "colab_type": "code",
        "colab": {}
      },
      "source": [
        "print('Top-1 val acc: %.3f' % classifier.results['best_reward'])"
      ],
      "execution_count": 0,
      "outputs": []
    },
    {
      "cell_type": "markdown",
      "metadata": {
        "id": "sknK3Fgu8pJS",
        "colab_type": "text"
      },
      "source": [
        "### Predict on a New Image"
      ]
    },
    {
      "cell_type": "code",
      "metadata": {
        "id": "MNIeOniJtx-q",
        "colab_type": "code",
        "colab": {}
      },
      "source": [
        "# skip this if training FashionMNIST on CPU.\n",
        "if ag.get_gpu_count() > 0:\n",
        "    image = 'data/test/BabyShirt/BabyShirt_323.jpg'\n",
        "    #ind, prob, _ = classifier.predict(image)\n",
        "    ind, prob = classifier.predict(image)\n",
        "\n",
        "    print('The input picture is classified as [%s], with probability %.2f.' %\n",
        "          (dataset.init().classes[ind.asscalar()], prob.asscalar()))"
      ],
      "execution_count": 0,
      "outputs": []
    },
    {
      "cell_type": "markdown",
      "metadata": {
        "id": "kAzxbmi18t7E",
        "colab_type": "text"
      },
      "source": [
        "### Evaluate on Test Dataset"
      ]
    },
    {
      "cell_type": "code",
      "metadata": {
        "id": "MIqUgZHyuNxW",
        "colab_type": "code",
        "colab": {}
      },
      "source": [
        "test_acc = classifier.evaluate(test_dataset)\n",
        "print('Top-1 test acc: %.3f' % test_acc)"
      ],
      "execution_count": 0,
      "outputs": []
    },
    {
      "cell_type": "markdown",
      "metadata": {
        "id": "9tKzoN0K6Ih-",
        "colab_type": "text"
      },
      "source": [
        "# Tabular Prediction\n",
        "\n",
        "[출처] <https://autogluon.mxnet.io/tutorials/tabular_prediction/tabular-quickstart.html>"
      ]
    },
    {
      "cell_type": "markdown",
      "metadata": {
        "id": "mKet7YeQ6IzD",
        "colab_type": "text"
      },
      "source": [
        "### Predicting Columns in a Table - Quick Start"
      ]
    },
    {
      "cell_type": "code",
      "metadata": {
        "id": "Yktak2XUuN2y",
        "colab_type": "code",
        "colab": {}
      },
      "source": [
        "import autogluon as ag\n",
        "from autogluon import TabularPrediction as task"
      ],
      "execution_count": 0,
      "outputs": []
    },
    {
      "cell_type": "code",
      "metadata": {
        "id": "fkm3QacmuOW3",
        "colab_type": "code",
        "colab": {}
      },
      "source": [
        "train_data = task.Dataset(file_path='https://autogluon.s3.amazonaws.com/datasets/Inc/train.csv')\n",
        "train_data = train_data.head(500) # subsample 500 data points for faster demo\n",
        "print(train_data.head())"
      ],
      "execution_count": 0,
      "outputs": []
    },
    {
      "cell_type": "code",
      "metadata": {
        "id": "GYfDDKMBuQtr",
        "colab_type": "code",
        "colab": {}
      },
      "source": [
        "label_column = 'class'\n",
        "print(\"Summary of class variable: \\n\", train_data[label_column].describe())"
      ],
      "execution_count": 0,
      "outputs": []
    },
    {
      "cell_type": "code",
      "metadata": {
        "id": "CyFlmujIuUJ9",
        "colab_type": "code",
        "colab": {}
      },
      "source": [
        "dir = 'agModels-predictClass' # specifies folder where to store trained models\n",
        "predictor = task.fit(train_data=train_data, label=label_column, output_directory=dir)"
      ],
      "execution_count": 0,
      "outputs": []
    },
    {
      "cell_type": "code",
      "metadata": {
        "id": "uDXK8qSauV7z",
        "colab_type": "code",
        "colab": {}
      },
      "source": [
        "test_data = task.Dataset(file_path='https://autogluon.s3.amazonaws.com/datasets/Inc/test.csv')\n",
        "y_test = test_data[label_column]  # values to predict\n",
        "test_data_nolab = test_data.drop(labels=[label_column],axis=1) # delete label column to prove we're not cheating\n",
        "print(test_data_nolab.head())"
      ],
      "execution_count": 0,
      "outputs": []
    },
    {
      "cell_type": "code",
      "metadata": {
        "id": "SqZOGytvueaN",
        "colab_type": "code",
        "colab": {}
      },
      "source": [
        "predictor = task.load(dir) # unnecessary, just demonstrates how to load previously-trained predictor from file\n",
        "\n",
        "y_pred = predictor.predict(test_data_nolab)\n",
        "print(\"Predictions:  \", y_pred)\n",
        "perf = predictor.evaluate_predictions(y_true=y_test, y_pred=y_pred, auxiliary_metrics=True)"
      ],
      "execution_count": 0,
      "outputs": []
    },
    {
      "cell_type": "code",
      "metadata": {
        "id": "ryDsQaVUuhPk",
        "colab_type": "code",
        "colab": {}
      },
      "source": [
        "from autogluon import TabularPrediction as task\n",
        "predictor = task.fit(train_data=task.Dataset(file_path=<file-name>), label_column=<variable-name>)"
      ],
      "execution_count": 0,
      "outputs": []
    },
    {
      "cell_type": "markdown",
      "metadata": {
        "id": "VwLEMA7P6uAX",
        "colab_type": "text"
      },
      "source": [
        "### Description of fit():"
      ]
    },
    {
      "cell_type": "code",
      "metadata": {
        "id": "61Xxn1Kpukir",
        "colab_type": "code",
        "colab": {}
      },
      "source": [
        "results = predictor.fit_summary()"
      ],
      "execution_count": 0,
      "outputs": []
    },
    {
      "cell_type": "code",
      "metadata": {
        "id": "WEeDuvRpupLh",
        "colab_type": "code",
        "colab": {}
      },
      "source": [
        "print(\"AutoGluon infers problem type is: \", predictor.problem_type)\n",
        "print(\"AutoGluon categorized the features as: \", predictor.feature_types)"
      ],
      "execution_count": 0,
      "outputs": []
    },
    {
      "cell_type": "markdown",
      "metadata": {
        "id": "rg8kxyre620V",
        "colab_type": "text"
      },
      "source": [
        "### Regression (predicting numeric table columns):"
      ]
    },
    {
      "cell_type": "code",
      "metadata": {
        "id": "RPbWLwkVurcL",
        "colab_type": "code",
        "colab": {}
      },
      "source": [
        "age_column = 'age'\n",
        "print(\"Summary of age variable: \\n\", train_data[age_column].describe())"
      ],
      "execution_count": 0,
      "outputs": []
    },
    {
      "cell_type": "code",
      "metadata": {
        "id": "SaMByL6QuuBQ",
        "colab_type": "code",
        "colab": {}
      },
      "source": [
        "predictor_age = task.fit(train_data=train_data, output_directory=\"agModels-predictAge\", label=age_column)\n",
        "performance = predictor_age.evaluate(test_data)"
      ],
      "execution_count": 0,
      "outputs": []
    },
    {
      "cell_type": "markdown",
      "metadata": {
        "id": "XNpyt30QxbLm",
        "colab_type": "text"
      },
      "source": [
        "# Object Detection\n",
        "\n",
        "[출처] <https://autogluon.mxnet.io/tutorials/object_detection/beginner.html>"
      ]
    },
    {
      "cell_type": "markdown",
      "metadata": {
        "id": "urz7waNB7SIY",
        "colab_type": "text"
      },
      "source": [
        "### Object Detection - Quick Start"
      ]
    },
    {
      "cell_type": "code",
      "metadata": {
        "id": "kjTREIawxacn",
        "colab_type": "code",
        "colab": {}
      },
      "source": [
        "import autogluon as ag\n",
        "from autogluon import ObjectDetection as task"
      ],
      "execution_count": 0,
      "outputs": []
    },
    {
      "cell_type": "markdown",
      "metadata": {
        "id": "-izRBYWZ7USD",
        "colab_type": "text"
      },
      "source": [
        "### Tiny_motorbike Dataset"
      ]
    },
    {
      "cell_type": "code",
      "metadata": {
        "id": "TUt4dS5Ixetf",
        "colab_type": "code",
        "colab": {}
      },
      "source": [
        "root = './'\n",
        "filename_zip = ag.download('https://autogluon.s3.amazonaws.com/datasets/tiny_motorbike.zip',\n",
        "                        path=root)\n",
        "filename = ag.unzip(filename_zip, root=root)"
      ],
      "execution_count": 0,
      "outputs": []
    },
    {
      "cell_type": "code",
      "metadata": {
        "id": "7ivobCtKxf1x",
        "colab_type": "code",
        "colab": {}
      },
      "source": [
        "import os\n",
        "data_root = os.path.join(root, filename)\n",
        "dataset_train = task.Dataset(data_root, classes=('motorbike',))"
      ],
      "execution_count": 0,
      "outputs": []
    },
    {
      "cell_type": "markdown",
      "metadata": {
        "id": "DBq6DgSM7bAe",
        "colab_type": "text"
      },
      "source": [
        "### Fit Models by AutoGluon"
      ]
    },
    {
      "cell_type": "code",
      "metadata": {
        "id": "DqL-7C3XxhjW",
        "colab_type": "code",
        "colab": {}
      },
      "source": [
        "time_limits = 5*60*60  # 5 hours\n",
        "epochs = 30\n",
        "detector = task.fit(dataset_train,\n",
        "                    num_trials=2,\n",
        "                    epochs=epochs,\n",
        "                    lr=ag.Categorical(5e-4, 1e-4),\n",
        "                    ngpus_per_trial=1,\n",
        "                    time_limits=time_limits)"
      ],
      "execution_count": 0,
      "outputs": []
    },
    {
      "cell_type": "code",
      "metadata": {
        "id": "GPQ6Hu6OxkN2",
        "colab_type": "code",
        "colab": {}
      },
      "source": [
        "dataset_test = task.Dataset(data_root, index_file_name='test', classes=('motorbike',))\n",
        "\n",
        "test_map = detector.evaluate(dataset_test)\n",
        "print(\"mAP on test dataset: {}\".format(test_map[1][1]))"
      ],
      "execution_count": 0,
      "outputs": []
    },
    {
      "cell_type": "code",
      "metadata": {
        "id": "vhPXWG7P0dsi",
        "colab_type": "code",
        "colab": {}
      },
      "source": [
        "image = '000467.jpg'\n",
        "image_path = os.path.join(data_root, 'JPEGImages', image)\n",
        "\n",
        "ind, prob, loc = detector.predict(image_path)"
      ],
      "execution_count": 0,
      "outputs": []
    },
    {
      "cell_type": "markdown",
      "metadata": {
        "id": "Gho4-CSI5eJt",
        "colab_type": "text"
      },
      "source": [
        "# Text Classification\n",
        "\n",
        "[출처] <https://autogluon.mxnet.io/tutorials/text_classification/beginner.html>"
      ]
    },
    {
      "cell_type": "markdown",
      "metadata": {
        "id": "4XJI9g6H7vxc",
        "colab_type": "text"
      },
      "source": [
        "### Text Classification - Quick Start"
      ]
    },
    {
      "cell_type": "code",
      "metadata": {
        "id": "5_mkIZsu5gO6",
        "colab_type": "code",
        "colab": {}
      },
      "source": [
        "import autogluon as ag\n",
        "from autogluon import TextClassification as task"
      ],
      "execution_count": 0,
      "outputs": []
    },
    {
      "cell_type": "markdown",
      "metadata": {
        "id": "sPKekDds701R",
        "colab_type": "text"
      },
      "source": [
        "### Create AutoGluon Dataset"
      ]
    },
    {
      "cell_type": "code",
      "metadata": {
        "id": "2sHsJ1Sp5iJ6",
        "colab_type": "code",
        "colab": {}
      },
      "source": [
        "dataset = task.Dataset(name='ToySST')"
      ],
      "execution_count": 0,
      "outputs": []
    },
    {
      "cell_type": "markdown",
      "metadata": {
        "id": "i116ZiVy76WB",
        "colab_type": "text"
      },
      "source": [
        "### Use AutoGluon to fit Models"
      ]
    },
    {
      "cell_type": "code",
      "metadata": {
        "id": "1CCIO9Yd5jd_",
        "colab_type": "code",
        "colab": {}
      },
      "source": [
        "predictor = task.fit(dataset, epochs=1)"
      ],
      "execution_count": 0,
      "outputs": []
    },
    {
      "cell_type": "code",
      "metadata": {
        "id": "9ipTlSVl5lHf",
        "colab_type": "code",
        "colab": {}
      },
      "source": [
        "print('Top-1 val acc: %.3f' % predictor.results['best_reward'])"
      ],
      "execution_count": 0,
      "outputs": []
    },
    {
      "cell_type": "code",
      "metadata": {
        "id": "KP7bccuC5nOa",
        "colab_type": "code",
        "colab": {}
      },
      "source": [
        "test_acc = predictor.evaluate(dataset)\n",
        "print('Top-1 test acc: %.3f' % test_acc)"
      ],
      "execution_count": 0,
      "outputs": []
    },
    {
      "cell_type": "code",
      "metadata": {
        "id": "WZsAYEQ-5pR4",
        "colab_type": "code",
        "colab": {}
      },
      "source": [
        "sentence = 'I feel this is awesome!'\n",
        "ind = predictor.predict(sentence)\n",
        "print('The input sentence sentiment is classified as [%d].' % ind.asscalar())"
      ],
      "execution_count": 0,
      "outputs": []
    },
    {
      "cell_type": "code",
      "metadata": {
        "id": "ObZ8feP75qpr",
        "colab_type": "code",
        "colab": {}
      },
      "source": [
        "print('The best configuration is:')\n",
        "print(predictor.results['best_config'])"
      ],
      "execution_count": 0,
      "outputs": []
    },
    {
      "cell_type": "code",
      "metadata": {
        "id": "I8zEN-IY5sJq",
        "colab_type": "code",
        "colab": {}
      },
      "source": [
        ""
      ],
      "execution_count": 0,
      "outputs": []
    }
  ]
}