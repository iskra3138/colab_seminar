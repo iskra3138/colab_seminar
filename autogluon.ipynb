{
  "nbformat": 4,
  "nbformat_minor": 0,
  "metadata": {
    "colab": {
      "name": "autogluon",
      "provenance": [],
      "collapsed_sections": [
        "2p4eHrFt8OSn",
        "Im7NgIo956Px",
        "9tKzoN0K6Ih-",
        "XNpyt30QxbLm"
      ],
      "authorship_tag": "ABX9TyPvkBi78cl1Fuo7nDgIGVeX",
      "include_colab_link": true
    },
    "kernelspec": {
      "name": "python3",
      "display_name": "Python 3"
    },
    "accelerator": "GPU"
  },
  "cells": [
    {
      "cell_type": "markdown",
      "metadata": {
        "id": "view-in-github",
        "colab_type": "text"
      },
      "source": [
        "<a href=\"https://colab.research.google.com/github/iskra3138/colab_seminar/blob/master/autogluon.ipynb\" target=\"_parent\"><img src=\"https://colab.research.google.com/assets/colab-badge.svg\" alt=\"Open In Colab\"/></a>"
      ]
    },
    {
      "cell_type": "code",
      "metadata": {
        "id": "BQmhYhOJpLsA",
        "colab_type": "code",
        "colab": {}
      },
      "source": [
        "## For P100\n",
        "!nvidia-smi"
      ],
      "execution_count": 0,
      "outputs": []
    },
    {
      "cell_type": "markdown",
      "metadata": {
        "id": "2p4eHrFt8OSn",
        "colab_type": "text"
      },
      "source": [
        "# AutoGluon 설치"
      ]
    },
    {
      "cell_type": "code",
      "metadata": {
        "id": "UTVtOQArpr-x",
        "colab_type": "code",
        "colab": {}
      },
      "source": [
        "!pip install --upgrade mxnet-cu100\n",
        "!pip install autogluon"
      ],
      "execution_count": 0,
      "outputs": []
    },
    {
      "cell_type": "markdown",
      "metadata": {
        "id": "gkc7dj8crkZH",
        "colab_type": "text"
      },
      "source": [
        "RESTART RUNTIME 버튼을 누르지 말고 아래 에러 해결을 위한 code cell 하나 더 실행하고 RESTART"
      ]
    },
    {
      "cell_type": "markdown",
      "metadata": {
        "id": "EJJcMrUKyRYj",
        "colab_type": "text"
      },
      "source": [
        "- task.fit 실행시 'ValueError: max() arg is an empty sequence' 발생 시 아래 3가지 셀 실행\n",
        "  - 출처 :<https://github.com/awslabs/autogluon/issues/163>"
      ]
    },
    {
      "cell_type": "code",
      "metadata": {
        "id": "S9HeUetOx23t",
        "colab_type": "code",
        "colab": {}
      },
      "source": [
        "!pip uninstall -y distributed\n",
        "!pip install distributed\n",
        "!pip install -U ipykernel"
      ],
      "execution_count": 0,
      "outputs": []
    },
    {
      "cell_type": "markdown",
      "metadata": {
        "id": "TDf1fMIKh3Lt",
        "colab_type": "text"
      },
      "source": [
        "- RESTART RUNTIME 버튼을 눌러서 런타임 다시 시작하고 아래 부터 실행"
      ]
    },
    {
      "cell_type": "markdown",
      "metadata": {
        "id": "Im7NgIo956Px",
        "colab_type": "text"
      },
      "source": [
        "# Image Classification\n",
        "\n",
        "[출처] <https://autogluon.mxnet.io/tutorials/image_classification/beginner.html>"
      ]
    },
    {
      "cell_type": "markdown",
      "metadata": {
        "id": "7DCuDEPjsBg7",
        "colab_type": "text"
      },
      "source": [
        "In this quick start, we’ll use the task of image classification to illustrate how to use AutoGluon’s APIs."
      ]
    },
    {
      "cell_type": "markdown",
      "metadata": {
        "id": "RfmZnZ98sClI",
        "colab_type": "text"
      },
      "source": [
        "In this tutorial, we load images and the corresponding labels into AutoGluon and use this data to obtain a neural network that can classify new images. This is different from traditional machine learning where we need to manually define the neural network and then specify the hyperparameters in the training process. Instead, with just a single call to AutoGluon’s [fit](https://autogluon.mxnet.io/api/autogluon.task.html#autogluon.task.ImageClassification.fit) function, AutoGluon automatically trains many models with different hyperparameter configurations and returns the model that achieved the highest level of accuracy."
      ]
    },
    {
      "cell_type": "markdown",
      "metadata": {
        "id": "xCpMIZ5BsIQ2",
        "colab_type": "text"
      },
      "source": [
        "We begin by specifying [ImageClassification](https://autogluon.mxnet.io/api/autogluon.task.html#autogluon.task.ImageClassification) as our task of interest as follows:"
      ]
    },
    {
      "cell_type": "markdown",
      "metadata": {
        "id": "DwX5WagZ8WBV",
        "colab_type": "text"
      },
      "source": [
        "### Image Classification - Quick Start"
      ]
    },
    {
      "cell_type": "code",
      "metadata": {
        "id": "697wD_uvsmZu",
        "colab_type": "code",
        "colab": {}
      },
      "source": [
        "import autogluon as ag\n",
        "from autogluon import ImageClassification as task"
      ],
      "execution_count": 0,
      "outputs": []
    },
    {
      "cell_type": "markdown",
      "metadata": {
        "id": "rGTeSY1Z8cZV",
        "colab_type": "text"
      },
      "source": [
        "### Create AutoGluon Dataset"
      ]
    },
    {
      "cell_type": "markdown",
      "metadata": {
        "id": "_5J43nAksPld",
        "colab_type": "text"
      },
      "source": [
        "For demonstration purposes, we use a subset of the [Shopee-IET dataset](https://www.kaggle.com/c/shopee-iet-machine-learning-competition/data) from Kaggle. Each image in this data depicts a clothing item and the corresponding label specifies its clothing category. Our subset of the data contains the following possible labels: BabyPants, BabyShirt, womencasualshoes, womenchiffontop."
      ]
    },
    {
      "cell_type": "markdown",
      "metadata": {
        "id": "iCQMeb5VsPNV",
        "colab_type": "text"
      },
      "source": [
        "We download the data subset and unzip it using the following commands:"
      ]
    },
    {
      "cell_type": "code",
      "metadata": {
        "id": "BEpWwPXIspkl",
        "colab_type": "code",
        "colab": {}
      },
      "source": [
        "filename = ag.download('https://autogluon.s3.amazonaws.com/datasets/shopee-iet.zip')\n",
        "ag.unzip(filename)"
      ],
      "execution_count": 0,
      "outputs": []
    },
    {
      "cell_type": "markdown",
      "metadata": {
        "id": "XOujLtqVsXsp",
        "colab_type": "text"
      },
      "source": [
        "After the dataset is downloaded, we load it into a `Dataset </api/autogluon.task.html#autogluon.task.ImageClassification.Dataset>`__ object:"
      ]
    },
    {
      "cell_type": "code",
      "metadata": {
        "id": "yfy-Hb2xstFn",
        "colab_type": "code",
        "colab": {}
      },
      "source": [
        "dataset = task.Dataset('data/train')"
      ],
      "execution_count": 0,
      "outputs": []
    },
    {
      "cell_type": "markdown",
      "metadata": {
        "id": "mgkVEeVFsZU4",
        "colab_type": "text"
      },
      "source": [
        "Load the test dataset as follows:"
      ]
    },
    {
      "cell_type": "code",
      "metadata": {
        "id": "-gtsIe80suxv",
        "colab_type": "code",
        "colab": {}
      },
      "source": [
        "test_dataset = task.Dataset('data/test', train=False)"
      ],
      "execution_count": 0,
      "outputs": []
    },
    {
      "cell_type": "markdown",
      "metadata": {
        "id": "Hebr1xtHsbHt",
        "colab_type": "text"
      },
      "source": [
        "If you don’t have a GPU, change the dataset to ‘FashionMNIST’ to ensure that it doesn’t take too long to run:"
      ]
    },
    {
      "cell_type": "code",
      "metadata": {
        "id": "wq_4ZBEmtXrR",
        "colab_type": "code",
        "colab": {}
      },
      "source": [
        "if ag.get_gpu_count() == 0:\n",
        "    dataset = task.Dataset(name='FashionMNIST')\n",
        "    test_dataset = task.Dataset(name='FashionMNIST', train=False)"
      ],
      "execution_count": 0,
      "outputs": []
    },
    {
      "cell_type": "markdown",
      "metadata": {
        "id": "vvxqjdzh8kQT",
        "colab_type": "text"
      },
      "source": [
        "### Use AutoGluon to Fit Models"
      ]
    },
    {
      "cell_type": "markdown",
      "metadata": {
        "id": "C5csdgRAsdYy",
        "colab_type": "text"
      },
      "source": [
        "Now, we fit a classifier using AutoGluon as follows:"
      ]
    },
    {
      "cell_type": "code",
      "metadata": {
        "id": "KwzSa2JXtZ3l",
        "colab_type": "code",
        "colab": {}
      },
      "source": [
        "classifier = task.fit(dataset,\n",
        "                      epochs=10,\n",
        "                      ngpus_per_trial=1,\n",
        "                      verbose=False)"
      ],
      "execution_count": 0,
      "outputs": []
    },
    {
      "cell_type": "markdown",
      "metadata": {
        "id": "qaxIR9_csjB2",
        "colab_type": "text"
      },
      "source": [
        "Within fit, the dataset is automatically split into training and validation sets. The model with the best hyperparameter configuration is selected based on its performance on the validation set. The best model is finally retrained on our entire dataset (i.e., merging training+validation) using the best configuration."
      ]
    },
    {
      "cell_type": "markdown",
      "metadata": {
        "id": "YQ6ZMfINslBd",
        "colab_type": "text"
      },
      "source": [
        "The best Top-1 accuracy achieved on the validation set is as follows:"
      ]
    },
    {
      "cell_type": "code",
      "metadata": {
        "id": "dtFuyMCStb5n",
        "colab_type": "code",
        "colab": {}
      },
      "source": [
        "print('Top-1 val acc: %.3f' % classifier.results['best_reward'])"
      ],
      "execution_count": 0,
      "outputs": []
    },
    {
      "cell_type": "markdown",
      "metadata": {
        "id": "sknK3Fgu8pJS",
        "colab_type": "text"
      },
      "source": [
        "### Predict on a New Image"
      ]
    },
    {
      "cell_type": "markdown",
      "metadata": {
        "id": "Wx7wamMtsom0",
        "colab_type": "text"
      },
      "source": [
        "Given an example image, we can easily use the final model to predict the label (and the conditional class-probability):"
      ]
    },
    {
      "cell_type": "code",
      "metadata": {
        "id": "MNIeOniJtx-q",
        "colab_type": "code",
        "colab": {}
      },
      "source": [
        "# skip this if training FashionMNIST on CPU.\n",
        "if ag.get_gpu_count() > 0:\n",
        "    image = 'data/test/BabyShirt/BabyShirt_323.jpg'\n",
        "    #ind, prob, _ = classifier.predict(image) ## return이 2개만 된다고 해서 아래로 수정\n",
        "    ind, prob = classifier.predict(image)\n",
        "\n",
        "    print('The input picture is classified as [%s], with probability %.2f.' %\n",
        "          (dataset.init().classes[ind.asscalar()], prob.asscalar()))"
      ],
      "execution_count": 0,
      "outputs": []
    },
    {
      "cell_type": "markdown",
      "metadata": {
        "id": "kAzxbmi18t7E",
        "colab_type": "text"
      },
      "source": [
        "### Evaluate on Test Dataset"
      ]
    },
    {
      "cell_type": "markdown",
      "metadata": {
        "id": "dI_wnf42sufM",
        "colab_type": "text"
      },
      "source": [
        "We now evaluate the classifier on a test dataset."
      ]
    },
    {
      "cell_type": "markdown",
      "metadata": {
        "id": "BaWgdLuSsuWE",
        "colab_type": "text"
      },
      "source": [
        "The validation and test top-1 accuracy are:"
      ]
    },
    {
      "cell_type": "code",
      "metadata": {
        "id": "MIqUgZHyuNxW",
        "colab_type": "code",
        "colab": {}
      },
      "source": [
        "test_acc = classifier.evaluate(test_dataset)\n",
        "print('Top-1 test acc: %.3f' % test_acc)"
      ],
      "execution_count": 0,
      "outputs": []
    },
    {
      "cell_type": "markdown",
      "metadata": {
        "id": "9tKzoN0K6Ih-",
        "colab_type": "text"
      },
      "source": [
        "# Tabular Prediction\n",
        "\n",
        "[출처] <https://autogluon.mxnet.io/tutorials/tabular_prediction/tabular-quickstart.html>"
      ]
    },
    {
      "cell_type": "markdown",
      "metadata": {
        "id": "mKet7YeQ6IzD",
        "colab_type": "text"
      },
      "source": [
        "### Predicting Columns in a Table - Quick Start"
      ]
    },
    {
      "cell_type": "markdown",
      "metadata": {
        "id": "7Q5BWf7ms2Le",
        "colab_type": "text"
      },
      "source": [
        "Via a simple fit() call, AutoGluon can produce highly-accurate models to predict the values in one column of a data table based on the rest of the columns’ values. Use AutoGluon with tabular data for both classification and regression problems. This tutorial demonstrates how to use AutoGluon to produce a classification model that predicts whether or not a person’s income exceeds $50,000."
      ]
    },
    {
      "cell_type": "markdown",
      "metadata": {
        "id": "uFUTONe6s4NO",
        "colab_type": "text"
      },
      "source": [
        "To start, import autogluon and TabularPrediction module as your task:"
      ]
    },
    {
      "cell_type": "code",
      "metadata": {
        "id": "Yktak2XUuN2y",
        "colab_type": "code",
        "colab": {}
      },
      "source": [
        "import autogluon as ag\n",
        "from autogluon import TabularPrediction as task"
      ],
      "execution_count": 0,
      "outputs": []
    },
    {
      "cell_type": "markdown",
      "metadata": {
        "id": "qLFiaaWrs63t",
        "colab_type": "text"
      },
      "source": [
        "Load training data from a CSV file into an AutoGluon Dataset object. This object is essentially equivalent to a [Pandas DataFrame](https://pandas.pydata.org/pandas-docs/stable/reference/api/pandas.DataFrame.html) and the same methods can be applied to both."
      ]
    },
    {
      "cell_type": "code",
      "metadata": {
        "id": "fkm3QacmuOW3",
        "colab_type": "code",
        "colab": {}
      },
      "source": [
        "train_data = task.Dataset(file_path='https://autogluon.s3.amazonaws.com/datasets/Inc/train.csv')\n",
        "train_data = train_data.head(500) # subsample 500 data points for faster demo\n",
        "print(train_data.head())"
      ],
      "execution_count": 0,
      "outputs": []
    },
    {
      "cell_type": "markdown",
      "metadata": {
        "id": "VpAVSRVxtBed",
        "colab_type": "text"
      },
      "source": [
        "Note that we loaded data from a CSV file stored in the cloud (AWS s3 bucket), but you can you specify a local file-path instead if you have already downloaded the CSV file to your own machine (e.g., using wget). Each row in the table train_data corresponds to a single training example. In this particular dataset, each row corresponds to an individual person, and the columns contain various characteristics reported during a census."
      ]
    },
    {
      "cell_type": "markdown",
      "metadata": {
        "id": "GhDN8Q_3tCjH",
        "colab_type": "text"
      },
      "source": [
        "Let’s first use these features to predict whether the person’s income exceeds $50,000 or not, which is recorded in the class column of this table."
      ]
    },
    {
      "cell_type": "code",
      "metadata": {
        "id": "GYfDDKMBuQtr",
        "colab_type": "code",
        "colab": {}
      },
      "source": [
        "label_column = 'class'\n",
        "print(\"Summary of class variable: \\n\", train_data[label_column].describe())"
      ],
      "execution_count": 0,
      "outputs": []
    },
    {
      "cell_type": "markdown",
      "metadata": {
        "id": "PxofxqSLtFnv",
        "colab_type": "text"
      },
      "source": [
        "Now use AutoGluon to train multiple models:"
      ]
    },
    {
      "cell_type": "code",
      "metadata": {
        "id": "CyFlmujIuUJ9",
        "colab_type": "code",
        "colab": {}
      },
      "source": [
        "dir = 'agModels-predictClass' # specifies folder where to store trained models\n",
        "predictor = task.fit(train_data=train_data, label=label_column, output_directory=dir)"
      ],
      "execution_count": 0,
      "outputs": []
    },
    {
      "cell_type": "markdown",
      "metadata": {
        "id": "MH-l7HIhtIbd",
        "colab_type": "text"
      },
      "source": [
        "Next, load separate test data to demonstrate how to make predictions on new examples at inference time:"
      ]
    },
    {
      "cell_type": "code",
      "metadata": {
        "id": "uDXK8qSauV7z",
        "colab_type": "code",
        "colab": {}
      },
      "source": [
        "test_data = task.Dataset(file_path='https://autogluon.s3.amazonaws.com/datasets/Inc/test.csv')\n",
        "y_test = test_data[label_column]  # values to predict\n",
        "test_data_nolab = test_data.drop(labels=[label_column],axis=1) # delete label column to prove we're not cheating\n",
        "print(test_data_nolab.head())"
      ],
      "execution_count": 0,
      "outputs": []
    },
    {
      "cell_type": "markdown",
      "metadata": {
        "id": "75hoWHP5tLC-",
        "colab_type": "text"
      },
      "source": [
        "We use our trained models to make predictions on the new data and then evaluate performance:"
      ]
    },
    {
      "cell_type": "code",
      "metadata": {
        "id": "SqZOGytvueaN",
        "colab_type": "code",
        "colab": {}
      },
      "source": [
        "predictor = task.load(dir) # unnecessary, just demonstrates how to load previously-trained predictor from file\n",
        "\n",
        "y_pred = predictor.predict(test_data_nolab)\n",
        "print(\"Predictions:  \", y_pred)\n",
        "perf = predictor.evaluate_predictions(y_true=y_test, y_pred=y_pred, auxiliary_metrics=True)"
      ],
      "execution_count": 0,
      "outputs": []
    },
    {
      "cell_type": "markdown",
      "metadata": {
        "id": "lvIMxytitNY2",
        "colab_type": "text"
      },
      "source": [
        "Now you’re ready to try AutoGluon on your own tabular datasets!\n",
        "As long as they’re stored in a popular format like CSV, you should be able to achieve strong predictive performance with just 2 lines of code:"
      ]
    },
    {
      "cell_type": "code",
      "metadata": {
        "id": "ryDsQaVUuhPk",
        "colab_type": "code",
        "colab": {}
      },
      "source": [
        "from autogluon import TabularPrediction as task\n",
        "predictor = task.fit(train_data=task.Dataset(file_path=<file-name>), label_column=<variable-name>)"
      ],
      "execution_count": 0,
      "outputs": []
    },
    {
      "cell_type": "markdown",
      "metadata": {
        "id": "VwLEMA7P6uAX",
        "colab_type": "text"
      },
      "source": [
        "### Description of fit():"
      ]
    },
    {
      "cell_type": "markdown",
      "metadata": {
        "id": "ZXMvK7L9tO1V",
        "colab_type": "text"
      },
      "source": [
        "Here we discuss what happened during fit().\n",
        "\n",
        "Since there are only two possible values of the class variable, this was a binary classification problem, for which an appropriate performance metric is accuracy. AutoGluon automatically infers this as well as the type of each feature (i.e., which columns contain continuous numbers vs. discrete categories). AutogGluon can also automatically handle common issues like missing data and rescaling feature values.\n",
        "\n",
        "We did not specify separate validation data and so AutoGluon automatically choses a random training/validation split of the data. The data used for validation is seperated from the training data and is used to determine the models and hyperparameter-values that produce the best results. Rather than just a single model, AutoGluon trains multiple models and ensembles them together to ensure superior predictive performance.\n",
        "\n",
        "By default, AutoGluon tries to fit various types of models including neural networks and tree ensembles. Each type of model has various hyperparameters, which traditionally, the user would have to specify. AutoGluon automates this process.\n",
        "\n",
        "AutoGluon automatically and iteratively tests values for hyperparameters to produce the best performance on the validation data. This involves repeatedly training models under different hyperparameter settings and evaluating their performance. This process can be computationally-intensive, so fit() can parallelize this process across multiple threads (and machines if distributed resources are available). To control runtimes, you can specify various arguments in fit() as demonstrated in the subsequent In-Depth tutorial."
      ]
    },
    {
      "cell_type": "markdown",
      "metadata": {
        "id": "hiEzD_r1tSam",
        "colab_type": "text"
      },
      "source": [
        "For tabular problems, fit() returns a Predictor object. Besides inference, this object can also be used to view a summary of what happened during fit."
      ]
    },
    {
      "cell_type": "code",
      "metadata": {
        "id": "61Xxn1Kpukir",
        "colab_type": "code",
        "colab": {}
      },
      "source": [
        "results = predictor.fit_summary()"
      ],
      "execution_count": 0,
      "outputs": []
    },
    {
      "cell_type": "markdown",
      "metadata": {
        "id": "ZZPr0-wmtV2n",
        "colab_type": "text"
      },
      "source": [
        "From this summary, we can see that AutoGluon trained many different types of models as well as an ensemble of the best-performing models. The summary also describes the actual models that were trained during fit and how well each model performed on the held-out validation data. We can also view what properties AutoGluon automatically inferred about our prediction task:"
      ]
    },
    {
      "cell_type": "code",
      "metadata": {
        "id": "WEeDuvRpupLh",
        "colab_type": "code",
        "colab": {}
      },
      "source": [
        "print(\"AutoGluon infers problem type is: \", predictor.problem_type)\n",
        "print(\"AutoGluon categorized the features as: \", predictor.feature_types)"
      ],
      "execution_count": 0,
      "outputs": []
    },
    {
      "cell_type": "markdown",
      "metadata": {
        "id": "sXJVkj9FtYTg",
        "colab_type": "text"
      },
      "source": [
        "AutoGluon correctly recognized our prediction problem to be a binary classification task and decided that variables such as age should be represented as integers, whereas variables such as workclass should be represented as categorical objects."
      ]
    },
    {
      "cell_type": "markdown",
      "metadata": {
        "id": "rg8kxyre620V",
        "colab_type": "text"
      },
      "source": [
        "### Regression (predicting numeric table columns):"
      ]
    },
    {
      "cell_type": "markdown",
      "metadata": {
        "id": "ZikaIUSXtamW",
        "colab_type": "text"
      },
      "source": [
        "To demonstrate that fit() can also automatically handle regression tasks, we now try to predict the numeric age variable in the same table based on the other features:"
      ]
    },
    {
      "cell_type": "code",
      "metadata": {
        "id": "RPbWLwkVurcL",
        "colab_type": "code",
        "colab": {}
      },
      "source": [
        "age_column = 'age'\n",
        "print(\"Summary of age variable: \\n\", train_data[age_column].describe())"
      ],
      "execution_count": 0,
      "outputs": []
    },
    {
      "cell_type": "markdown",
      "metadata": {
        "id": "ctvdkRQrtdnW",
        "colab_type": "text"
      },
      "source": [
        "We again call fit() and this time use a shorthand method to evaluate the resulting model on the test data (which contain labels):"
      ]
    },
    {
      "cell_type": "code",
      "metadata": {
        "id": "SaMByL6QuuBQ",
        "colab_type": "code",
        "colab": {}
      },
      "source": [
        "predictor_age = task.fit(train_data=train_data, output_directory=\"agModels-predictAge\", label=age_column)\n",
        "performance = predictor_age.evaluate(test_data)"
      ],
      "execution_count": 0,
      "outputs": []
    },
    {
      "cell_type": "markdown",
      "metadata": {
        "id": "XRhJ6JEuthR5",
        "colab_type": "text"
      },
      "source": [
        "Note that we didn’t need to tell AutoGluon this is a regression problem, it automatically inferred this from the data and reported the appropriate performance metric (RMSE by default)."
      ]
    },
    {
      "cell_type": "markdown",
      "metadata": {
        "id": "XNpyt30QxbLm",
        "colab_type": "text"
      },
      "source": [
        "# Object Detection\n",
        "\n",
        "[출처] <https://autogluon.mxnet.io/tutorials/object_detection/beginner.html>"
      ]
    },
    {
      "cell_type": "markdown",
      "metadata": {
        "id": "urz7waNB7SIY",
        "colab_type": "text"
      },
      "source": [
        "### Object Detection - Quick Start"
      ]
    },
    {
      "cell_type": "markdown",
      "metadata": {
        "id": "FHDA-UBStnjA",
        "colab_type": "text"
      },
      "source": [
        "Object detection is the process of identifying and localizing objects in an image and is an important task in computer vision. Follow this tutorial to learn how to use AutoGluon for object detection.\n",
        "\n",
        "Tip: If you are new to AutoGluon, review [Image Classification - Quick Start](https://autogluon.mxnet.io/tutorials/image_classification/beginner.html#sec-imgquick) first to learn the basics of the AutoGluon API.\n",
        "\n",
        "Our goal is to detect motorbike in images by [YOLO3 model](https://pjreddie.com/media/files/papers/YOLOv3.pdf). A tiny dataset is collected from VOC dataset, which only contains the motorbike category. The model pretrained on the COCO dataset is used to fine-tune our small dataset. With the help of AutoGluon, we are able to try many models with different hyperparameters automatically, and return the best one as our final model."
      ]
    },
    {
      "cell_type": "markdown",
      "metadata": {
        "id": "YmLMsVu1tvCy",
        "colab_type": "text"
      },
      "source": [
        "To start, import autogluon and ObjectDetection module as your task:"
      ]
    },
    {
      "cell_type": "code",
      "metadata": {
        "id": "kjTREIawxacn",
        "colab_type": "code",
        "colab": {}
      },
      "source": [
        "import autogluon as ag\n",
        "from autogluon import ObjectDetection as task"
      ],
      "execution_count": 0,
      "outputs": []
    },
    {
      "cell_type": "markdown",
      "metadata": {
        "id": "-izRBYWZ7USD",
        "colab_type": "text"
      },
      "source": [
        "### Tiny_motorbike Dataset"
      ]
    },
    {
      "cell_type": "markdown",
      "metadata": {
        "id": "AK1NFhFbt2NY",
        "colab_type": "text"
      },
      "source": [
        "We collect a toy dataset for detecting motorbikes in images. From the VOC dataset, images are randomly selected for training, validation, and testing - 120 images for training, 50 images for validation, and 50 for testing. This tiny dataset follows the same format as VOC.\n",
        "\n",
        "Using the commands below, we can download this dataset, which is only 23M. The variable root specifies the path to store the dataset in. The name of unzipped folder is called tiny_motorbike."
      ]
    },
    {
      "cell_type": "code",
      "metadata": {
        "id": "TUt4dS5Ixetf",
        "colab_type": "code",
        "colab": {}
      },
      "source": [
        "root = './'\n",
        "filename_zip = ag.download('https://autogluon.s3.amazonaws.com/datasets/tiny_motorbike.zip',\n",
        "                        path=root)\n",
        "filename = ag.unzip(filename_zip, root=root)"
      ],
      "execution_count": 0,
      "outputs": []
    },
    {
      "cell_type": "markdown",
      "metadata": {
        "id": "1oSfH22mt4IY",
        "colab_type": "text"
      },
      "source": [
        "When we retrieve the dataset, we can create a dataset instance with its path and classes if it is a custom dataset."
      ]
    },
    {
      "cell_type": "code",
      "metadata": {
        "id": "7ivobCtKxf1x",
        "colab_type": "code",
        "colab": {}
      },
      "source": [
        "import os\n",
        "data_root = os.path.join(root, filename)\n",
        "dataset_train = task.Dataset(data_root, classes=('motorbike',))"
      ],
      "execution_count": 0,
      "outputs": []
    },
    {
      "cell_type": "markdown",
      "metadata": {
        "id": "DBq6DgSM7bAe",
        "colab_type": "text"
      },
      "source": [
        "### Fit Models by AutoGluon"
      ]
    },
    {
      "cell_type": "markdown",
      "metadata": {
        "id": "vcVD3qR2uC0B",
        "colab_type": "text"
      },
      "source": [
        "In this section, we demonstrate how to apply AutoGluon to fit our detection models. We use mobilenet as the backbone for the YOLO3 model. Two different learning rates are used to fine-tune the network. The best model is the one that obtains the best performance on the validation dataset. You can also try using more networks and hyperparameters to create a larger searching space.\n",
        "\n",
        "We fit a classifier using AutoGluon as follows. In each experiment (one trial in our searching space), we train the model for 30 epoches."
      ]
    },
    {
      "cell_type": "code",
      "metadata": {
        "id": "DqL-7C3XxhjW",
        "colab_type": "code",
        "colab": {}
      },
      "source": [
        "time_limits = 5*60*60  # 5 hours\n",
        "epochs = 30\n",
        "detector = task.fit(dataset_train,\n",
        "                    num_trials=2,\n",
        "                    epochs=epochs,\n",
        "                    lr=ag.Categorical(5e-4, 1e-4),\n",
        "                    ngpus_per_trial=1,\n",
        "                    time_limits=time_limits)"
      ],
      "execution_count": 0,
      "outputs": []
    },
    {
      "cell_type": "markdown",
      "metadata": {
        "id": "f_CLTwZduGhp",
        "colab_type": "text"
      },
      "source": [
        "After fitting, AutoGluon automatically returns the best model among all models in the searching space. From the output, we know the best model is the one trained with the second learning rate. To see how well the returned model performed on test dataset, call detector.evaluate()."
      ]
    },
    {
      "cell_type": "code",
      "metadata": {
        "id": "GPQ6Hu6OxkN2",
        "colab_type": "code",
        "colab": {}
      },
      "source": [
        "dataset_test = task.Dataset(data_root, index_file_name='test', classes=('motorbike',))\n",
        "\n",
        "test_map = detector.evaluate(dataset_test)\n",
        "print(\"mAP on test dataset: {}\".format(test_map[1][1]))"
      ],
      "execution_count": 0,
      "outputs": []
    },
    {
      "cell_type": "markdown",
      "metadata": {
        "id": "loSP6YJ-uJJR",
        "colab_type": "text"
      },
      "source": [
        "Below, we randomly select an image from test dataset and show the predicted box and probability over the origin image."
      ]
    },
    {
      "cell_type": "code",
      "metadata": {
        "id": "vhPXWG7P0dsi",
        "colab_type": "code",
        "colab": {}
      },
      "source": [
        "image = '000467.jpg'\n",
        "image_path = os.path.join(data_root, 'JPEGImages', image)\n",
        "\n",
        "ind, prob, loc = detector.predict(image_path)"
      ],
      "execution_count": 0,
      "outputs": []
    },
    {
      "cell_type": "markdown",
      "metadata": {
        "id": "Gho4-CSI5eJt",
        "colab_type": "text"
      },
      "source": [
        "# Text Classification\n",
        "\n",
        "[출처] <https://autogluon.mxnet.io/tutorials/text_classification/beginner.html>"
      ]
    },
    {
      "cell_type": "markdown",
      "metadata": {
        "id": "4XJI9g6H7vxc",
        "colab_type": "text"
      },
      "source": [
        "### Text Classification - Quick Start"
      ]
    },
    {
      "cell_type": "markdown",
      "metadata": {
        "id": "NumITwzTuNlP",
        "colab_type": "text"
      },
      "source": [
        "We adopt the task of Text Classification as a running example to illustrate basic usage of AutoGluon’s NLP capability.\n",
        "\n",
        "In this tutorial, we are using sentiment analysis as a text classification example. We will load sentences and the corresponding labels (sentiment) into AutoGluon and use this data to obtain a neural network that can classify new sentences. Different from traditional machine learning where we need to manually define the neural network, and specify the hyperparameters in the training process, with just a single call to AutoGluon’s fit function, AutoGluon will automatically train many models under thousands of different hyperparameter configurations and then return the best model."
      ]
    },
    {
      "cell_type": "markdown",
      "metadata": {
        "id": "FaIypjJauNcY",
        "colab_type": "text"
      },
      "source": [
        "We begin by specifying TextClassification as our task of interest:"
      ]
    },
    {
      "cell_type": "code",
      "metadata": {
        "id": "5_mkIZsu5gO6",
        "colab_type": "code",
        "colab": {}
      },
      "source": [
        "import autogluon as ag\n",
        "from autogluon import TextClassification as task"
      ],
      "execution_count": 0,
      "outputs": []
    },
    {
      "cell_type": "markdown",
      "metadata": {
        "id": "sPKekDds701R",
        "colab_type": "text"
      },
      "source": [
        "### Create AutoGluon Dataset"
      ]
    },
    {
      "cell_type": "markdown",
      "metadata": {
        "id": "_EpkbywMuRFP",
        "colab_type": "text"
      },
      "source": [
        "We are using a subset of the Stanford Sentiment Treebank ([SST](https://nlp.stanford.edu/sentiment/)). The original dataset consists of sentences from movie reviews and human annotations of their sentiment. The task is to classify whether a given sentence has positive or negative sentiment (binary classification)."
      ]
    },
    {
      "cell_type": "code",
      "metadata": {
        "id": "2sHsJ1Sp5iJ6",
        "colab_type": "code",
        "colab": {}
      },
      "source": [
        "dataset = task.Dataset(name='ToySST')"
      ],
      "execution_count": 0,
      "outputs": []
    },
    {
      "cell_type": "markdown",
      "metadata": {
        "id": "kJ6WW68muVoR",
        "colab_type": "text"
      },
      "source": [
        "In the above call, we have the proper train/validation/test split of the SST dataset."
      ]
    },
    {
      "cell_type": "markdown",
      "metadata": {
        "id": "i116ZiVy76WB",
        "colab_type": "text"
      },
      "source": [
        "### Use AutoGluon to fit Models"
      ]
    },
    {
      "cell_type": "markdown",
      "metadata": {
        "id": "ENpck9GNuYSf",
        "colab_type": "text"
      },
      "source": [
        "Now, we want to obtain a neural network classifier using AutoGluon. In the default configuration, rather than attempting to train complex models from scratch using our data, AutoGluon fine-tunes neural networks that have already been pretrained on large scale text dataset such as Wikicorpus. Although the dataset involves entirely different text, lower-level features captured in the representations of the pretrained network (such as edge/texture detectors) are likely to remain useful for our own text dataset.\n",
        "\n",
        "While we primarily stick with default configurations in this Beginner tutorial, the Advanced tutorial covers various options that you can specify for greater control over the training process. With just a single call to AutoGluon’s fit function, AutoGluon will train many models with different hyperparameter configurations and return the best model.\n",
        "\n",
        "However, neural network training can be quite time-costly. To ensure quick runtimes, we tell AutoGluon to obey strict limits: num_training_epochs specifies how much computational effort can be devoted to training any single network, while time_limits in seconds specifies how much time fit has to return a model. For demo purposes, we specify only small values for time_limits, num_training_epochs:"
      ]
    },
    {
      "cell_type": "code",
      "metadata": {
        "id": "1CCIO9Yd5jd_",
        "colab_type": "code",
        "colab": {}
      },
      "source": [
        "predictor = task.fit(dataset, epochs=1)"
      ],
      "execution_count": 0,
      "outputs": []
    },
    {
      "cell_type": "markdown",
      "metadata": {
        "id": "M-OonexNuacI",
        "colab_type": "text"
      },
      "source": [
        "Within fit, the model with the best hyperparameter configuration is selected based on its validation accuracy after being trained on the data in the training split.\n",
        "\n",
        "The best Top-1 accuracy achieved on the validation set is:"
      ]
    },
    {
      "cell_type": "code",
      "metadata": {
        "id": "9ipTlSVl5lHf",
        "colab_type": "code",
        "colab": {}
      },
      "source": [
        "print('Top-1 val acc: %.3f' % predictor.results['best_reward'])"
      ],
      "execution_count": 0,
      "outputs": []
    },
    {
      "cell_type": "markdown",
      "metadata": {
        "id": "mOHU_e6XucV6",
        "colab_type": "text"
      },
      "source": [
        "Within fit, this model is also finally fitted on our entire dataset (i.e., merging training+validation) using the same optimal hyperparameter configuration. The resulting model is considered as final model to be applied to classify new text.\n",
        "\n",
        "We now construct a test dataset similarly as we did with the train dataset, and then evaluate the final model produced by fit on the test data:"
      ]
    },
    {
      "cell_type": "code",
      "metadata": {
        "id": "KP7bccuC5nOa",
        "colab_type": "code",
        "colab": {}
      },
      "source": [
        "test_acc = predictor.evaluate(dataset)\n",
        "print('Top-1 test acc: %.3f' % test_acc)"
      ],
      "execution_count": 0,
      "outputs": []
    },
    {
      "cell_type": "markdown",
      "metadata": {
        "id": "k_wYwYfpuesR",
        "colab_type": "text"
      },
      "source": [
        "Given an example sentence, we can easily use the final model to predict the label (and the conditional class-probability):"
      ]
    },
    {
      "cell_type": "code",
      "metadata": {
        "id": "WZsAYEQ-5pR4",
        "colab_type": "code",
        "colab": {}
      },
      "source": [
        "sentence = 'I feel this is awesome!'\n",
        "ind = predictor.predict(sentence)\n",
        "print('The input sentence sentiment is classified as [%d].' % ind.asscalar())"
      ],
      "execution_count": 0,
      "outputs": []
    },
    {
      "cell_type": "markdown",
      "metadata": {
        "id": "CkQoRSGOugfg",
        "colab_type": "text"
      },
      "source": [
        "The results object returned by fit contains summaries describing various aspects of the training process. For example, we can inspect the best hyperparameter configuration corresponding to the final model which achieved the above (best) results:"
      ]
    },
    {
      "cell_type": "code",
      "metadata": {
        "id": "ObZ8feP75qpr",
        "colab_type": "code",
        "colab": {}
      },
      "source": [
        "print('The best configuration is:')\n",
        "print(predictor.results['best_config'])"
      ],
      "execution_count": 0,
      "outputs": []
    }
  ]
}