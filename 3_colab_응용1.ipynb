{
  "nbformat": 4,
  "nbformat_minor": 0,
  "metadata": {
    "colab": {
      "name": "3. colab_응용1.ipynb",
      "provenance": [],
      "collapsed_sections": [],
      "authorship_tag": "ABX9TyN6rPpBb4x9KtLv+wypeX/+",
      "include_colab_link": true
    },
    "kernelspec": {
      "name": "python3",
      "display_name": "Python 3"
    }
  },
  "cells": [
    {
      "cell_type": "markdown",
      "metadata": {
        "id": "view-in-github",
        "colab_type": "text"
      },
      "source": [
        "<a href=\"https://colab.research.google.com/github/iskra3138/colab_seminar/blob/master/3_colab_%EC%9D%91%EC%9A%A91.ipynb\" target=\"_parent\"><img src=\"https://colab.research.google.com/assets/colab-badge.svg\" alt=\"Open In Colab\"/></a>"
      ]
    },
    {
      "cell_type": "markdown",
      "metadata": {
        "id": "EE0VlYcLa46p",
        "colab_type": "text"
      },
      "source": [
        "### 파일 올리기"
      ]
    },
    {
      "cell_type": "code",
      "metadata": {
        "id": "hi_Mpl01a31G",
        "colab_type": "code",
        "colab": {}
      },
      "source": [
        "from google.colab import files\n",
        "\n",
        "uploaded = files.upload()"
      ],
      "execution_count": 0,
      "outputs": []
    },
    {
      "cell_type": "markdown",
      "metadata": {
        "id": "jV8XqOrjcP5F",
        "colab_type": "text"
      },
      "source": [
        "### 파일 내려받기"
      ]
    },
    {
      "cell_type": "code",
      "metadata": {
        "id": "rCkiWZKdbESj",
        "colab_type": "code",
        "colab": {}
      },
      "source": [
        "from google.colab import files\n",
        "\n",
        "with open('example.txt', 'w') as f:\n",
        "  f.write('some content')\n",
        "\n",
        "files.download('example.txt')"
      ],
      "execution_count": 0,
      "outputs": []
    },
    {
      "cell_type": "markdown",
      "metadata": {
        "id": "BAW3rXuucyVj",
        "colab_type": "text"
      },
      "source": [
        "### 구글 드라이브 연결"
      ]
    },
    {
      "cell_type": "code",
      "metadata": {
        "id": "7ANy5x60cxUm",
        "colab_type": "code",
        "colab": {}
      },
      "source": [
        "from google.colab import drive\n",
        "drive.mount('/gdrive')"
      ],
      "execution_count": 0,
      "outputs": []
    },
    {
      "cell_type": "markdown",
      "metadata": {
        "id": "wgM6Kta9dLA6",
        "colab_type": "text"
      },
      "source": [
        "- Google Drive의 최상위 Directory는 '위에서 선언한 이름/My Drive'가 됨"
      ]
    },
    {
      "cell_type": "code",
      "metadata": {
        "id": "O0XOk1zacsML",
        "colab_type": "code",
        "colab": {}
      },
      "source": [
        "cd '/gdrive/My Drive/'"
      ],
      "execution_count": 0,
      "outputs": []
    },
    {
      "cell_type": "markdown",
      "metadata": {
        "id": "Feh698GZdn4Q",
        "colab_type": "text"
      },
      "source": [
        "- 파일 확인"
      ]
    },
    {
      "cell_type": "code",
      "metadata": {
        "id": "GR3B1wt5dPCH",
        "colab_type": "code",
        "colab": {}
      },
      "source": [
        "ls"
      ],
      "execution_count": 0,
      "outputs": []
    },
    {
      "cell_type": "markdown",
      "metadata": {
        "id": "E7pnubzMdrWx",
        "colab_type": "text"
      },
      "source": [
        "- 세로운 directory 생성"
      ]
    },
    {
      "cell_type": "code",
      "metadata": {
        "id": "XqTHudfddPod",
        "colab_type": "code",
        "colab": {}
      },
      "source": [
        "mkdir new"
      ],
      "execution_count": 0,
      "outputs": []
    },
    {
      "cell_type": "markdown",
      "metadata": {
        "id": "o43MV9aadwFr",
        "colab_type": "text"
      },
      "source": [
        "- Directory 이동"
      ]
    },
    {
      "cell_type": "code",
      "metadata": {
        "id": "uZPGTRoVdVAu",
        "colab_type": "code",
        "colab": {}
      },
      "source": [
        "cd new"
      ],
      "execution_count": 0,
      "outputs": []
    },
    {
      "cell_type": "markdown",
      "metadata": {
        "id": "IE2oUeyufhdD",
        "colab_type": "text"
      },
      "source": [
        "- 파일 생성"
      ]
    },
    {
      "cell_type": "code",
      "metadata": {
        "id": "QR3Xb69pfguk",
        "colab_type": "code",
        "colab": {}
      },
      "source": [
        "with open('drive_example.txt', 'w') as f:\n",
        "  f.write('some content')"
      ],
      "execution_count": 0,
      "outputs": []
    },
    {
      "cell_type": "code",
      "metadata": {
        "id": "D-JaE2Fbfn77",
        "colab_type": "code",
        "colab": {}
      },
      "source": [
        "ls"
      ],
      "execution_count": 0,
      "outputs": []
    },
    {
      "cell_type": "markdown",
      "metadata": {
        "id": "ssWfR1yiegRs",
        "colab_type": "text"
      },
      "source": [
        "### GCP 계정 연동"
      ]
    },
    {
      "cell_type": "code",
      "metadata": {
        "id": "Aj3CqGj_datH",
        "colab_type": "code",
        "colab": {}
      },
      "source": [
        "from google.colab import auth\n",
        "auth.authenticate_user()"
      ],
      "execution_count": 0,
      "outputs": []
    },
    {
      "cell_type": "markdown",
      "metadata": {
        "id": "FtwvmktLeoWU",
        "colab_type": "text"
      },
      "source": [
        "##### GCP project ID 확인"
      ]
    },
    {
      "cell_type": "code",
      "metadata": {
        "id": "aqjYyqqvelcX",
        "colab_type": "code",
        "colab": {}
      },
      "source": [
        "!gcloud projects list"
      ],
      "execution_count": 0,
      "outputs": []
    },
    {
      "cell_type": "markdown",
      "metadata": {
        "id": "AMfFUcBvewah",
        "colab_type": "text"
      },
      "source": [
        "##### GCP Bucket 생성"
      ]
    },
    {
      "cell_type": "code",
      "metadata": {
        "id": "BBynQKmieviu",
        "colab_type": "code",
        "colab": {}
      },
      "source": [
        "PROJECT = \"\" #@param {type:\"string\"}\n",
        "BUCKET = \"gs://\"  #@param {type:\"string\", default:\"jddj\"}\n",
        "# bucket 생성\n",
        "### option argument가 앞에오고 BUCKET이 제일 뒤로 가야 함\n",
        "!gsutil mb -p {PROJECT} {BUCKET}"
      ],
      "execution_count": 0,
      "outputs": []
    },
    {
      "cell_type": "markdown",
      "metadata": {
        "id": "NdxBSd1re8Rd",
        "colab_type": "text"
      },
      "source": [
        "##### GCP Bucket 목록 확인"
      ]
    },
    {
      "cell_type": "code",
      "metadata": {
        "id": "QeOQo-Qke4Cp",
        "colab_type": "code",
        "colab": {}
      },
      "source": [
        "# bucket 목록 확인\n",
        "!gsutil ls -p {PROJECT}"
      ],
      "execution_count": 0,
      "outputs": []
    },
    {
      "cell_type": "markdown",
      "metadata": {
        "id": "47vxVk0yfCXG",
        "colab_type": "text"
      },
      "source": [
        "##### 로컬 <-> 버킷 파일 복사"
      ]
    },
    {
      "cell_type": "code",
      "metadata": {
        "id": "Z_AvaceLfApA",
        "colab_type": "code",
        "colab": {}
      },
      "source": [
        "#!gsutil cp -r src_url dst_url"
      ],
      "execution_count": 0,
      "outputs": []
    },
    {
      "cell_type": "code",
      "metadata": {
        "id": "ce5W50KWf4wk",
        "colab_type": "code",
        "colab": {}
      },
      "source": [
        "!gsutil cp -r '/gdrive/My Drive/new/drive_example.txt' {BUCKET}"
      ],
      "execution_count": 0,
      "outputs": []
    },
    {
      "cell_type": "markdown",
      "metadata": {
        "id": "yP2Yscf5gTbp",
        "colab_type": "text"
      },
      "source": [
        "##### bucket 파일 확인"
      ]
    },
    {
      "cell_type": "code",
      "metadata": {
        "id": "a8ea7HBOgYsI",
        "colab_type": "code",
        "colab": {}
      },
      "source": [
        "!gsutil ls {BUCKET}"
      ],
      "execution_count": 0,
      "outputs": []
    },
    {
      "cell_type": "markdown",
      "metadata": {
        "id": "SqdnBjNAfRzq",
        "colab_type": "text"
      },
      "source": [
        "[gsutil api 설명] https://cloud.google.com/storage/docs/gsutil?hl=ko [gcloud api 설명] https://cloud.google.com/sdk/gcloud/reference/?hl=ko"
      ]
    },
    {
      "cell_type": "code",
      "metadata": {
        "id": "IeD3UhDlfUyf",
        "colab_type": "code",
        "colab": {}
      },
      "source": [
        ""
      ],
      "execution_count": 0,
      "outputs": []
    }
  ]
}