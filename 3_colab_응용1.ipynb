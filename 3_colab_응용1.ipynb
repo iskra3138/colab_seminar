{
  "nbformat": 4,
  "nbformat_minor": 0,
  "metadata": {
    "colab": {
      "name": "3. colab_응용1.ipynb",
      "provenance": [],
      "collapsed_sections": [],
      "authorship_tag": "ABX9TyN+srMqK5FLrpSTkesWro5x",
      "include_colab_link": true
    },
    "kernelspec": {
      "name": "python3",
      "display_name": "Python 3"
    }
  },
  "cells": [
    {
      "cell_type": "markdown",
      "metadata": {
        "id": "view-in-github",
        "colab_type": "text"
      },
      "source": [
        "<a href=\"https://colab.research.google.com/github/iskra3138/colab_seminar/blob/master/3_colab_%EC%9D%91%EC%9A%A91.ipynb\" target=\"_parent\"><img src=\"https://colab.research.google.com/assets/colab-badge.svg\" alt=\"Open In Colab\"/></a>"
      ]
    },
    {
      "cell_type": "markdown",
      "metadata": {
        "id": "EE0VlYcLa46p",
        "colab_type": "text"
      },
      "source": [
        "### 파일 올리기\n",
        "- 파일 올리기는 google.colab에서 files 를 import,한 후, files.upload() api를 통해 하나 이상의 파일들을 올릴 수 있습니다."
      ]
    },
    {
      "cell_type": "code",
      "metadata": {
        "id": "hi_Mpl01a31G",
        "colab_type": "code",
        "colab": {}
      },
      "source": [
        "from google.colab import files\n",
        "uploaded = files.upload()"
      ],
      "execution_count": 0,
      "outputs": []
    },
    {
      "cell_type": "code",
      "metadata": {
        "id": "UiAenhhMTGKL",
        "colab_type": "code",
        "colab": {}
      },
      "source": [
        "# 업로드된 파일을 확인\n",
        "ls"
      ],
      "execution_count": 0,
      "outputs": []
    },
    {
      "cell_type": "markdown",
      "metadata": {
        "id": "KIytJfyCTbGJ",
        "colab_type": "text"
      },
      "source": [
        "### Web상의 자료 내려받기\n",
        "- 인터넷 상의 자료는 Linux에서 하듯이 wget으로 받으면 됩니다.\n",
        "- github자료 역시 git clone으로 받으면 됩니다."
      ]
    },
    {
      "cell_type": "code",
      "metadata": {
        "id": "IFi58xfsTec7",
        "colab_type": "code",
        "colab": {}
      },
      "source": [
        "# MNist train data 내려받기\n",
        "!wget http://yann.lecun.com/exdb/mnist/train-images-idx3-ubyte.gz"
      ],
      "execution_count": 0,
      "outputs": []
    },
    {
      "cell_type": "code",
      "metadata": {
        "id": "pdzgyeXqTzT9",
        "colab_type": "code",
        "colab": {}
      },
      "source": [
        "# 파일 확인\n",
        "ls"
      ],
      "execution_count": 0,
      "outputs": []
    },
    {
      "cell_type": "code",
      "metadata": {
        "id": "crnq03JUVEye",
        "colab_type": "code",
        "colab": {}
      },
      "source": [
        "# SHAP github 내려받기\n",
        "!git clone https://github.com/slundberg/shap.git"
      ],
      "execution_count": 0,
      "outputs": []
    },
    {
      "cell_type": "code",
      "metadata": {
        "id": "1mZXHncaVQH2",
        "colab_type": "code",
        "colab": {}
      },
      "source": [
        "# 파일 확인\n",
        "ls"
      ],
      "execution_count": 0,
      "outputs": []
    },
    {
      "cell_type": "markdown",
      "metadata": {
        "id": "jV8XqOrjcP5F",
        "colab_type": "text"
      },
      "source": [
        "### 파일 내려받기\n",
        "- 파일 내려받기는 google.colab에서 files를 import한 후, files.download('file_name) api를 통해 'file_name'을 로컬컴퓨터 다운로드 폴더에 내려받을 수 있습니다. \n",
        "- 혹시 첫번째 실행에서 에러가 난다면 한 번 더 해보시고, 그래도 에러가 날 때 구글링"
      ]
    },
    {
      "cell_type": "code",
      "metadata": {
        "id": "rCkiWZKdbESj",
        "colab_type": "code",
        "colab": {}
      },
      "source": [
        "### download\n",
        "from google.colab import files\n",
        "\n",
        "with open('example.txt', 'w') as f:\n",
        "  f.write('some content')\n",
        "\n",
        "files.download('example.txt')"
      ],
      "execution_count": 0,
      "outputs": []
    },
    {
      "cell_type": "markdown",
      "metadata": {
        "id": "BAW3rXuucyVj",
        "colab_type": "text"
      },
      "source": [
        "### 구글 드라이브 연결"
      ]
    },
    {
      "cell_type": "code",
      "metadata": {
        "id": "7ANy5x60cxUm",
        "colab_type": "code",
        "colab": {}
      },
      "source": [
        "from google.colab import drive\n",
        "drive.mount('/gdrive')"
      ],
      "execution_count": 0,
      "outputs": []
    },
    {
      "cell_type": "markdown",
      "metadata": {
        "id": "wgM6Kta9dLA6",
        "colab_type": "text"
      },
      "source": [
        "- Google Drive의 최상위 Directory는 '위에서 선언한 이름/My Drive'가 됩니다."
      ]
    },
    {
      "cell_type": "code",
      "metadata": {
        "id": "O0XOk1zacsML",
        "colab_type": "code",
        "colab": {}
      },
      "source": [
        "cd '/gdrive/My Drive/'"
      ],
      "execution_count": 0,
      "outputs": []
    },
    {
      "cell_type": "markdown",
      "metadata": {
        "id": "Feh698GZdn4Q",
        "colab_type": "text"
      },
      "source": [
        "- 파일 확인"
      ]
    },
    {
      "cell_type": "code",
      "metadata": {
        "id": "GR3B1wt5dPCH",
        "colab_type": "code",
        "colab": {}
      },
      "source": [
        "ls"
      ],
      "execution_count": 0,
      "outputs": []
    },
    {
      "cell_type": "markdown",
      "metadata": {
        "id": "E7pnubzMdrWx",
        "colab_type": "text"
      },
      "source": [
        "- 세로운 directory 생성"
      ]
    },
    {
      "cell_type": "code",
      "metadata": {
        "id": "XqTHudfddPod",
        "colab_type": "code",
        "colab": {}
      },
      "source": [
        "mkdir new"
      ],
      "execution_count": 0,
      "outputs": []
    },
    {
      "cell_type": "markdown",
      "metadata": {
        "id": "o43MV9aadwFr",
        "colab_type": "text"
      },
      "source": [
        "- Directory 이동"
      ]
    },
    {
      "cell_type": "code",
      "metadata": {
        "id": "uZPGTRoVdVAu",
        "colab_type": "code",
        "colab": {}
      },
      "source": [
        "cd new"
      ],
      "execution_count": 0,
      "outputs": []
    },
    {
      "cell_type": "markdown",
      "metadata": {
        "id": "IE2oUeyufhdD",
        "colab_type": "text"
      },
      "source": [
        "- 파일 생성"
      ]
    },
    {
      "cell_type": "code",
      "metadata": {
        "id": "QR3Xb69pfguk",
        "colab_type": "code",
        "colab": {}
      },
      "source": [
        "with open('drive_example.txt', 'w') as f:\n",
        "  f.write('some content')"
      ],
      "execution_count": 0,
      "outputs": []
    },
    {
      "cell_type": "code",
      "metadata": {
        "id": "D-JaE2Fbfn77",
        "colab_type": "code",
        "colab": {}
      },
      "source": [
        "ls"
      ],
      "execution_count": 0,
      "outputs": []
    },
    {
      "cell_type": "markdown",
      "metadata": {
        "id": "ssWfR1yiegRs",
        "colab_type": "text"
      },
      "source": [
        "### GCP 계정 연동"
      ]
    },
    {
      "cell_type": "code",
      "metadata": {
        "id": "Aj3CqGj_datH",
        "colab_type": "code",
        "colab": {}
      },
      "source": [
        "from google.colab import auth\n",
        "auth.authenticate_user()"
      ],
      "execution_count": 0,
      "outputs": []
    },
    {
      "cell_type": "markdown",
      "metadata": {
        "id": "FtwvmktLeoWU",
        "colab_type": "text"
      },
      "source": [
        "##### GCP project ID 확인\n",
        "- CLI로 GCP에서 Storage공간인 Bucket을 생성하려면 Project ID가 필요합니다.\n",
        "- GCP 관련 CLI 명령은 gloud를 이용합니다.\n",
        "  - <https://cloud.google.com/sdk/gcloud/reference/?hl=ko?>"
      ]
    },
    {
      "cell_type": "code",
      "metadata": {
        "id": "aqjYyqqvelcX",
        "colab_type": "code",
        "colab": {}
      },
      "source": [
        "!gcloud projects list"
      ],
      "execution_count": 0,
      "outputs": []
    },
    {
      "cell_type": "markdown",
      "metadata": {
        "id": "AMfFUcBvewah",
        "colab_type": "text"
      },
      "source": [
        "##### GCP Bucket 생성\n",
        "- 최초 Bucket 생성 이후에는 Bucket name이 네트워크 드라이브 주소가 되므로 고유한 name을 지정해줘야 합니다. \n",
        "- 기존에 누군가 선언한 name가 중복 될 경우에는 생성되지 않습니다.\n",
        "- Bucket 관련 CLI 명령은 gsutil을 이용합니다.\n",
        "  - <https://cloud.google.com/storage/docs/gsutil?hl=ko>"
      ]
    },
    {
      "cell_type": "code",
      "metadata": {
        "id": "BBynQKmieviu",
        "colab_type": "code",
        "colab": {}
      },
      "source": [
        "PROJECT = \"\" #@param {type:\"string\"}\n",
        "BUCKET = \"gs://\"  #@param {type:\"string\", default:\"jddj\"}\n",
        "# bucket 생성\n",
        "### option argument가 앞에오고 BUCKET이 제일 뒤로 가야 함\n",
        "!gsutil mb -p {PROJECT} {BUCKET}"
      ],
      "execution_count": 0,
      "outputs": []
    },
    {
      "cell_type": "markdown",
      "metadata": {
        "id": "NdxBSd1re8Rd",
        "colab_type": "text"
      },
      "source": [
        "##### GCP Bucket 목록 확인"
      ]
    },
    {
      "cell_type": "code",
      "metadata": {
        "id": "QeOQo-Qke4Cp",
        "colab_type": "code",
        "colab": {}
      },
      "source": [
        "# bucket 목록 확인\n",
        "!gsutil ls -p {PROJECT}"
      ],
      "execution_count": 0,
      "outputs": []
    },
    {
      "cell_type": "markdown",
      "metadata": {
        "id": "47vxVk0yfCXG",
        "colab_type": "text"
      },
      "source": [
        "##### VM <-> 버킷 파일 복사"
      ]
    },
    {
      "cell_type": "code",
      "metadata": {
        "id": "Z_AvaceLfApA",
        "colab_type": "code",
        "colab": {}
      },
      "source": [
        "#!gsutil cp -r src_url dst_url"
      ],
      "execution_count": 0,
      "outputs": []
    },
    {
      "cell_type": "code",
      "metadata": {
        "id": "ce5W50KWf4wk",
        "colab_type": "code",
        "colab": {}
      },
      "source": [
        "!gsutil cp -r '/gdrive/My Drive/new/drive_example.txt' {BUCKET}"
      ],
      "execution_count": 0,
      "outputs": []
    },
    {
      "cell_type": "markdown",
      "metadata": {
        "id": "yP2Yscf5gTbp",
        "colab_type": "text"
      },
      "source": [
        "##### bucket 파일 확인"
      ]
    },
    {
      "cell_type": "code",
      "metadata": {
        "id": "a8ea7HBOgYsI",
        "colab_type": "code",
        "colab": {}
      },
      "source": [
        "!gsutil ls {BUCKET}"
      ],
      "execution_count": 0,
      "outputs": []
    },
    {
      "cell_type": "markdown",
      "metadata": {
        "id": "nueMd2tkg3ue",
        "colab_type": "text"
      },
      "source": [
        "![개념정리](https://github.com/iskra3138/colab_seminar/blob/master/colab_file_IO.jpg?raw=true)"
      ]
    },
    {
      "cell_type": "markdown",
      "metadata": {
        "id": "TwkMIsfQhzsi",
        "colab_type": "text"
      },
      "source": [
        "![](https://github.com/iskra3138/colab_seminar/blob/master/colab_file_IO.jpg)"
      ]
    },
    {
      "cell_type": "code",
      "metadata": {
        "id": "IeD3UhDlfUyf",
        "colab_type": "code",
        "colab": {}
      },
      "source": [
        ""
      ],
      "execution_count": 0,
      "outputs": []
    }
  ]
}