{
  "nbformat": 4,
  "nbformat_minor": 0,
  "metadata": {
    "colab": {
      "name": "autogluon_Image Classification-Search Space and HPO",
      "provenance": [],
      "collapsed_sections": [],
      "authorship_tag": "ABX9TyONAi+fus0YoOYgeUUEOIbM",
      "include_colab_link": true
    },
    "kernelspec": {
      "name": "python3",
      "display_name": "Python 3"
    },
    "accelerator": "GPU"
  },
  "cells": [
    {
      "cell_type": "markdown",
      "metadata": {
        "id": "view-in-github",
        "colab_type": "text"
      },
      "source": [
        "<a href=\"https://colab.research.google.com/github/iskra3138/colab_seminar/blob/master/autogluon_Image_Classification_Search_Space_and_HPO.ipynb\" target=\"_parent\"><img src=\"https://colab.research.google.com/assets/colab-badge.svg\" alt=\"Open In Colab\"/></a>"
      ]
    },
    {
      "cell_type": "code",
      "metadata": {
        "id": "BQmhYhOJpLsA",
        "colab_type": "code",
        "colab": {}
      },
      "source": [
        "## For P100\n",
        "!nvidia-smi"
      ],
      "execution_count": 0,
      "outputs": []
    },
    {
      "cell_type": "markdown",
      "metadata": {
        "id": "2p4eHrFt8OSn",
        "colab_type": "text"
      },
      "source": [
        "# AutoGluon 설치"
      ]
    },
    {
      "cell_type": "code",
      "metadata": {
        "id": "UTVtOQArpr-x",
        "colab_type": "code",
        "colab": {}
      },
      "source": [
        "!pip install --upgrade mxnet-cu100\n",
        "!pip install autogluon"
      ],
      "execution_count": 0,
      "outputs": []
    },
    {
      "cell_type": "markdown",
      "metadata": {
        "id": "gkc7dj8crkZH",
        "colab_type": "text"
      },
      "source": [
        "RESTART RUNTIME 버튼을 누르지 말고 아래 에러 해결을 위한 code cell 하나 더 실행하고 RESTART"
      ]
    },
    {
      "cell_type": "markdown",
      "metadata": {
        "id": "EJJcMrUKyRYj",
        "colab_type": "text"
      },
      "source": [
        "- task.fit 실행시 'ValueError: max() arg is an empty sequence' 발생 시 아래 3가지 셀 실행\n",
        "  - 출처 :<https://github.com/awslabs/autogluon/issues/163>"
      ]
    },
    {
      "cell_type": "code",
      "metadata": {
        "id": "S9HeUetOx23t",
        "colab_type": "code",
        "colab": {}
      },
      "source": [
        "!pip uninstall -y distributed\n",
        "!pip install distributed\n",
        "!pip install -U ipykernel"
      ],
      "execution_count": 0,
      "outputs": []
    },
    {
      "cell_type": "markdown",
      "metadata": {
        "id": "TDf1fMIKh3Lt",
        "colab_type": "text"
      },
      "source": [
        "- RESTART RUNTIME 버튼을 눌러서 런타임 다시 시작하고 아래 부터 실행"
      ]
    },
    {
      "cell_type": "markdown",
      "metadata": {
        "id": "Im7NgIo956Px",
        "colab_type": "text"
      },
      "source": [
        "# Image Classification - Search Space and HPO\n",
        "\n",
        "[출처] <https://autogluon.mxnet.io/tutorials/image_classification/hpo.html#image-classification-search-space-and-hpo>"
      ]
    },
    {
      "cell_type": "markdown",
      "metadata": {
        "id": "RfmZnZ98sClI",
        "colab_type": "text"
      },
      "source": [
        "While the [Image Classification - Quick Start](https://autogluon.mxnet.io/tutorials/image_classification/beginner.html#sec-imgquick) introduced basic usage of AutoGluon fit, evaluate, predict with default configurations, this tutorial dives into the various options that you can specify for more advanced control over the fitting process.\n",
        "\n",
        "These options include: - Defining the search space of various hyperparameter values for the training of neural networks - Specifying how to search through your choosen hyperparameter space - Specifying how to schedule jobs to train a network under a particular hyperparameter configuration.\n",
        "\n",
        "The advanced functionalities of AutoGluon enable you to use your external knowledge about your particular prediction problem and computing resources to guide the training process. If properly used, you may be able to achieve superior performance within less training time.\n",
        "\n",
        "**Tip**: If you are new to AutoGluon, review [Image Classification - Quick Start](https://autogluon.mxnet.io/tutorials/image_classification/beginner.html#sec-imgquick) to learn the basics of the AutoGluon API."
      ]
    },
    {
      "cell_type": "markdown",
      "metadata": {
        "id": "xCpMIZ5BsIQ2",
        "colab_type": "text"
      },
      "source": [
        "We begin by letting AutoGluon know that `ImageClassification </api/autogluon.task.html#autogluon.task.ImageClassification>`__ is the task of interest:"
      ]
    },
    {
      "cell_type": "code",
      "metadata": {
        "id": "697wD_uvsmZu",
        "colab_type": "code",
        "colab": {}
      },
      "source": [
        "import autogluon as ag\n",
        "from autogluon import ImageClassification as task"
      ],
      "execution_count": 0,
      "outputs": []
    },
    {
      "cell_type": "markdown",
      "metadata": {
        "id": "rGTeSY1Z8cZV",
        "colab_type": "text"
      },
      "source": [
        "### Create AutoGluon Dataset"
      ]
    },
    {
      "cell_type": "markdown",
      "metadata": {
        "id": "_5J43nAksPld",
        "colab_type": "text"
      },
      "source": [
        "Let’s first create the dataset using the same subset of the Shopee-IET dataset as the [Image Classification - Quick Start](https://autogluon.mxnet.io/tutorials/image_classification/beginner.html#sec-imgquick) tutorial. Recall that because we only specify the train_path, a 90/10 train/validation split is automatically performed."
      ]
    },
    {
      "cell_type": "code",
      "metadata": {
        "id": "BEpWwPXIspkl",
        "colab_type": "code",
        "colab": {}
      },
      "source": [
        "filename = ag.download('https://autogluon.s3.amazonaws.com/datasets/shopee-iet.zip')\n",
        "ag.unzip(filename)"
      ],
      "execution_count": 0,
      "outputs": []
    },
    {
      "cell_type": "markdown",
      "metadata": {
        "id": "XOujLtqVsXsp",
        "colab_type": "text"
      },
      "source": [
        "After the dataset is downloaded, we load it into a `Dataset </api/autogluon.task.html#autogluon.task.ImageClassification.Dataset>`__ object:"
      ]
    },
    {
      "cell_type": "code",
      "metadata": {
        "id": "yfy-Hb2xstFn",
        "colab_type": "code",
        "colab": {}
      },
      "source": [
        "dataset = task.Dataset('data/train')"
      ],
      "execution_count": 0,
      "outputs": []
    },
    {
      "cell_type": "markdown",
      "metadata": {
        "id": "bDzZpRH0J9cB",
        "colab_type": "text"
      },
      "source": [
        "### Specify which Networks to Try"
      ]
    },
    {
      "cell_type": "markdown",
      "metadata": {
        "id": "mgkVEeVFsZU4",
        "colab_type": "text"
      },
      "source": [
        "We start with specifying the pretrained neural network candidates. Given such a list, AutoGluon tries to train different networks from this list to identify the best-performing candidate. This is an example of a [autogluon.space.Categorical](https://autogluon.mxnet.io/api/autogluon.space.html#autogluon.space.Categorical) search space, in which there are a limited number of values to choose from."
      ]
    },
    {
      "cell_type": "code",
      "metadata": {
        "id": "Y6Vlg6PIKIxC",
        "colab_type": "code",
        "colab": {}
      },
      "source": [
        "import gluoncv as gcv\n",
        "\n",
        "@ag.func(\n",
        "    multiplier=ag.Categorical(0.25, 0.5),\n",
        ")\n",
        "def get_mobilenet(multiplier):\n",
        "    return gcv.model_zoo.MobileNetV2(multiplier=multiplier, classes=4)\n",
        "\n",
        "net = ag.space.Categorical('mobilenet0.25', get_mobilenet())\n",
        "print(net)"
      ],
      "execution_count": 0,
      "outputs": []
    },
    {
      "cell_type": "markdown",
      "metadata": {
        "id": "g_PxF1z3Kb1h",
        "colab_type": "text"
      },
      "source": [
        "### Specify the Optimizer and Its Search Space"
      ]
    },
    {
      "cell_type": "markdown",
      "metadata": {
        "id": "ByUTlXO5KdeV",
        "colab_type": "text"
      },
      "source": [
        "Similarly, we can manually specify the optimizer candidates. We can construct another search space to identify which optimizer works best for our task, and also identify the best hyperparameter configurations for this optimizer. Additionally, we can customize the optimizer-specific hyperparameters search spaces, such as learning rate and weight decay using [autogluon.space.Real](https://autogluon.mxnet.io/api/autogluon.space.html#autogluon.space.Real)."
      ]
    },
    {
      "cell_type": "code",
      "metadata": {
        "id": "yNJ01DpiKkKV",
        "colab_type": "code",
        "colab": {}
      },
      "source": [
        "from mxnet import optimizer as optim\n",
        "\n",
        "@ag.obj(\n",
        "    learning_rate=ag.space.Real(1e-4, 1e-2, log=True),\n",
        "    momentum=ag.space.Real(0.85, 0.95),\n",
        "    wd=ag.space.Real(1e-6, 1e-2, log=True)\n",
        ")\n",
        "class NAG(optim.NAG):\n",
        "    pass\n",
        "\n",
        "optimizer = NAG()\n",
        "print(optimizer)"
      ],
      "execution_count": 0,
      "outputs": []
    },
    {
      "cell_type": "markdown",
      "metadata": {
        "id": "HlsdR8LYK1aO",
        "colab_type": "text"
      },
      "source": [
        "### Search Algorithms"
      ]
    },
    {
      "cell_type": "markdown",
      "metadata": {
        "id": "vp-O2bW9K5KU",
        "colab_type": "text"
      },
      "source": [
        "n AutoGluon, **autogluon.searcher()** supports different search search_strategys for both hyperparameter optimization and architecture search. Beyond simply specifying the space of hyperparameter configurations to search over, you can also tell AutoGluon what strategy it should employ to actually search through this space. This process of finding good hyperparameters from a given search space is commonly referred to as hyperparameter optimization (HPO) or hyperparameter tuning. **autogluon.scheduler()** orchestrates how individual training jobs are scheduled. We currently support random search, Hyperband, and Bayesian Optimization. Although these are simple techniques, they can be surprisingly powerful when parallelized, which can be easily enabled in AutoGluon."
      ]
    },
    {
      "cell_type": "markdown",
      "metadata": {
        "id": "rzEIR9KjK5E0",
        "colab_type": "text"
      },
      "source": [
        "#### Bayesian Optimization"
      ]
    },
    {
      "cell_type": "markdown",
      "metadata": {
        "id": "NPrk_XgnK5AL",
        "colab_type": "text"
      },
      "source": [
        "Here is an example of using Bayesian Optimization using [autogluon.searcher.SKoptSearcher](https://autogluon.mxnet.io/api/autogluon.searcher.html#autogluon.searcher.SKoptSearcher).\n",
        "\n",
        "Bayesian Optimization fits a probabilistic surrogate model to estimate the function that relates each hyperparameter configuration to the resulting performance of a model trained under this hyperparameter configuration.\n",
        "\n",
        "You can specify what kind of surrogate model to use (e.g., Gaussian Process, Random Forest, etc.), in addition to which acquisition function to employ (e.g., Expected Improvement, Lower Confidence Bound, etc.). In the following, we tell fit to perform Bayesian optimization using a Random Forest surrogate model with acquisitions based on Expected Improvement. For more information, see [autogluon.searcher.SKoptSearcher](https://autogluon.mxnet.io/api/autogluon.searcher.html#autogluon.searcher.SKoptSearcher)."
      ]
    },
    {
      "cell_type": "code",
      "metadata": {
        "id": "_2_AOE2TLOHI",
        "colab_type": "code",
        "colab": {}
      },
      "source": [
        "time_limits = 2*60\n",
        "epochs = 2\n",
        "\n",
        "classifier = task.fit(dataset,\n",
        "                      net=net,\n",
        "                      optimizer=optimizer,\n",
        "                      search_strategy='skopt',\n",
        "                      search_options={'base_estimator': 'RF', 'acq_func': 'EI'},\n",
        "                      time_limits=time_limits,\n",
        "                      epochs=epochs,\n",
        "                      ngpus_per_trial=1)\n",
        "\n",
        "print('Top-1 val acc: %.3f' % classifier.results[classifier.results['reward_attr']])"
      ],
      "execution_count": 0,
      "outputs": []
    },
    {
      "cell_type": "markdown",
      "metadata": {
        "id": "pIW9ynx-Lljh",
        "colab_type": "text"
      },
      "source": [
        "Load the test dataset and evaluate:"
      ]
    },
    {
      "cell_type": "code",
      "metadata": {
        "id": "-gtsIe80suxv",
        "colab_type": "code",
        "colab": {}
      },
      "source": [
        "test_dataset = task.Dataset('data/test', train=False)\n",
        "\n",
        "test_acc = classifier.evaluate(test_dataset)\n",
        "print('Top-1 test acc: %.3f' % test_acc)"
      ],
      "execution_count": 0,
      "outputs": []
    },
    {
      "cell_type": "markdown",
      "metadata": {
        "id": "Hebr1xtHsbHt",
        "colab_type": "text"
      },
      "source": [
        "#### Hyperband Early Stopping"
      ]
    },
    {
      "cell_type": "markdown",
      "metadata": {
        "id": "mt8AbOPmLzRr",
        "colab_type": "text"
      },
      "source": [
        "AutoGluon currently supports scheduling trials in serial order and with early stopping (e.g., if the performance of the model early within training already looks bad, the trial may be terminated early to free up resources). Here is an example of using an early stopping scheduler [autogluon.scheduler.HyperbandScheduler](https://autogluon.mxnet.io/api/autogluon.scheduler.html#autogluon.scheduler.HyperbandScheduler):"
      ]
    },
    {
      "cell_type": "code",
      "metadata": {
        "id": "wq_4ZBEmtXrR",
        "colab_type": "code",
        "colab": {}
      },
      "source": [
        "search_strategy = 'hyperband'\n",
        "\n",
        "classifier = task.fit(dataset,\n",
        "                      net=net,\n",
        "                      optimizer=optimizer,\n",
        "                      lr_scheduler=ag.space.Categorical('poly', 'cosine'),\n",
        "                      search_strategy=search_strategy,\n",
        "                      epochs=epochs,\n",
        "                      num_trials=2,\n",
        "                      verbose=False,\n",
        "                      plot_results=True,\n",
        "                      ngpus_per_trial=1,\n",
        "                      grace_period=1)\n",
        "\n",
        "print('Top-1 val acc: %.3f' % classifier.results[classifier.results['reward_attr']])"
      ],
      "execution_count": 0,
      "outputs": []
    },
    {
      "cell_type": "markdown",
      "metadata": {
        "id": "vvxqjdzh8kQT",
        "colab_type": "text"
      },
      "source": [
        "The test top-1 accuracy are:"
      ]
    },
    {
      "cell_type": "code",
      "metadata": {
        "id": "KwzSa2JXtZ3l",
        "colab_type": "code",
        "colab": {}
      },
      "source": [
        "test_acc = classifier.evaluate(test_dataset)\n",
        "print('Top-1 test acc: %.3f' % test_acc)"
      ],
      "execution_count": 0,
      "outputs": []
    }
  ]
}