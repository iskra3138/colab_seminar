{
  "nbformat": 4,
  "nbformat_minor": 0,
  "metadata": {
    "colab": {
      "name": "colab에서 KorQuad 학습하기1-GPU.ipynb",
      "provenance": [],
      "collapsed_sections": [],
      "toc_visible": true,
      "include_colab_link": true
    },
    "kernelspec": {
      "name": "python3",
      "display_name": "Python 3"
    },
    "accelerator": "GPU"
  },
  "cells": [
    {
      "cell_type": "markdown",
      "metadata": {
        "id": "view-in-github",
        "colab_type": "text"
      },
      "source": [
        "<a href=\"https://colab.research.google.com/github/iskra3138/colab_seminar/blob/master/colab%EC%97%90%EC%84%9C_KorQuad_%ED%95%99%EC%8A%B5%ED%95%98%EA%B8%B01_GPU.ipynb\" target=\"_parent\"><img src=\"https://colab.research.google.com/assets/colab-badge.svg\" alt=\"Open In Colab\"/></a>"
      ]
    },
    {
      "cell_type": "markdown",
      "metadata": {
        "id": "yTIaApBbWg-M",
        "colab_type": "text"
      },
      "source": [
        "# Colab에서 GPU로 KoQuAD 학습하기 1\n",
        "- GPU instance와 Google Drive 활용\n",
        "- https://github.com/google-research/bert 의 학습 코드 사용\n",
        "- P100에서 2~3 시간 걸렸던 듯"
      ]
    },
    {
      "cell_type": "markdown",
      "metadata": {
        "id": "Ezmp4G_7WvFu",
        "colab_type": "text"
      },
      "source": [
        "### 할당받은 GPU 확인"
      ]
    },
    {
      "cell_type": "code",
      "metadata": {
        "id": "51k6sEHFWol9",
        "colab_type": "code",
        "colab": {}
      },
      "source": [
        "## p100 할당받을 때까지 런타임 초기화 시도 / 안되면 그냥~\n",
        "!nvidia-smi"
      ],
      "execution_count": 0,
      "outputs": []
    },
    {
      "cell_type": "markdown",
      "metadata": {
        "id": "eANUXqhsWyUq",
        "colab_type": "text"
      },
      "source": [
        "### Google Drive Mount"
      ]
    },
    {
      "cell_type": "code",
      "metadata": {
        "id": "XLIfMjIWWwR1",
        "colab_type": "code",
        "colab": {}
      },
      "source": [
        "from google.colab import drive\n",
        "drive.mount('/gdrive') # 'gdrive'라는 이름으로 Google Drive를 Mount하겠다!"
      ],
      "execution_count": 0,
      "outputs": []
    },
    {
      "cell_type": "markdown",
      "metadata": {
        "id": "0mG1d0hxYQYQ",
        "colab_type": "text"
      },
      "source": [
        "- Google Drive의 최상위 Directory는 '위에서 선언한 이름/My Drive'가 됨"
      ]
    },
    {
      "cell_type": "markdown",
      "metadata": {
        "id": "Q0M8uwNGW5Rj",
        "colab_type": "text"
      },
      "source": [
        "### 실험 공간 생성"
      ]
    },
    {
      "cell_type": "code",
      "metadata": {
        "id": "2G4cZES5XPPL",
        "colab_type": "code",
        "colab": {}
      },
      "source": [
        "# 실험을 위한 Directory 생성방법 1\n",
        "\n",
        "!mkdir '/gdrive/My Drive/KorQuAD'"
      ],
      "execution_count": 0,
      "outputs": []
    },
    {
      "cell_type": "code",
      "metadata": {
        "id": "DM78f7HB7-Pb",
        "colab_type": "code",
        "colab": {}
      },
      "source": [
        "# 실험을 위한 Directory 생성방법 2\n",
        "import os\n",
        "path='/gdrive/My Drive/KorQuAD'\n",
        "if not os.path.exists(path):\n",
        "  os.makedirs(path)"
      ],
      "execution_count": 0,
      "outputs": []
    },
    {
      "cell_type": "code",
      "metadata": {
        "id": "0r8g_5clXeBR",
        "colab_type": "code",
        "colab": {}
      },
      "source": [
        "# 실험 Directory로 이동 1\n",
        "cd '/gdrive/My Drive/KorQuAD'"
      ],
      "execution_count": 0,
      "outputs": []
    },
    {
      "cell_type": "code",
      "metadata": {
        "id": "ifXjI66K80ij",
        "colab_type": "code",
        "colab": {}
      },
      "source": [
        "# 실험 Directory로 이동 1\n",
        "os.chdir(path)"
      ],
      "execution_count": 0,
      "outputs": []
    },
    {
      "cell_type": "code",
      "metadata": {
        "id": "7ZPVHdCoXhHF",
        "colab_type": "code",
        "colab": {}
      },
      "source": [
        "# 현재 directory 확인 1\n",
        "pwd"
      ],
      "execution_count": 0,
      "outputs": []
    },
    {
      "cell_type": "code",
      "metadata": {
        "id": "JWJxjEQy87Z4",
        "colab_type": "code",
        "colab": {}
      },
      "source": [
        "# 현재 directory 확인 2\n",
        "os.getcwd()"
      ],
      "execution_count": 0,
      "outputs": []
    },
    {
      "cell_type": "markdown",
      "metadata": {
        "id": "SvyNczQsYwbL",
        "colab_type": "text"
      },
      "source": [
        "### 필요한 파일들 저장하기\n",
        "- 재 실험 시 실행할 필요 없음"
      ]
    },
    {
      "cell_type": "code",
      "metadata": {
        "id": "RJjaMaGJX0L2",
        "colab_type": "code",
        "colab": {}
      },
      "source": [
        "# pre-train된 모델 다운받기\n",
        "!wget https://storage.googleapis.com/bert_models/2018_11_23/multi_cased_L-12_H-768_A-12.zip"
      ],
      "execution_count": 0,
      "outputs": []
    },
    {
      "cell_type": "code",
      "metadata": {
        "id": "Kf7sC-z6ZRnD",
        "colab_type": "code",
        "colab": {}
      },
      "source": [
        "# 압축 풀고 압축파일 삭제\n",
        "!unzip multi_cased_L-12_H-768_A-12.zip -d pretrained_files\n",
        "!rm multi_cased_L-12_H-768_A-12.zip"
      ],
      "execution_count": 0,
      "outputs": []
    },
    {
      "cell_type": "code",
      "metadata": {
        "id": "Zevk_p6xX3WN",
        "colab_type": "code",
        "colab": {}
      },
      "source": [
        "## 압축 해제된 파일 확인\n",
        "ls pretrained_files/multi_cased_L-12_H-768_A-12/"
      ],
      "execution_count": 0,
      "outputs": []
    },
    {
      "cell_type": "code",
      "metadata": {
        "id": "SzDsZwFCX-QH",
        "colab_type": "code",
        "colab": {}
      },
      "source": [
        "# KorQuAD Data 다운받기\n",
        "\n",
        "!wget https://korquad.github.io/dataset/KorQuAD_v1.0_train.json\n",
        "!wget https://korquad.github.io/dataset/KorQuAD_v1.0_dev.json\n",
        "!wget https://korquad.github.io/dataset/evaluate-v1.0.py"
      ],
      "execution_count": 0,
      "outputs": []
    },
    {
      "cell_type": "code",
      "metadata": {
        "id": "GjmB3-boYATg",
        "colab_type": "code",
        "colab": {}
      },
      "source": [
        "## 파일 확인\n",
        "ls"
      ],
      "execution_count": 0,
      "outputs": []
    },
    {
      "cell_type": "code",
      "metadata": {
        "id": "XQO_9N6-ZX1t",
        "colab_type": "code",
        "colab": {}
      },
      "source": [
        "# 학습에 필요한 코드 다운받기\n",
        "!git clone https://github.com/google-research/bert.git ./bert_files"
      ],
      "execution_count": 0,
      "outputs": []
    },
    {
      "cell_type": "code",
      "metadata": {
        "id": "sS71OxFzZpd2",
        "colab_type": "code",
        "colab": {}
      },
      "source": [
        "# 코드 확인\n",
        "ls"
      ],
      "execution_count": 0,
      "outputs": []
    },
    {
      "cell_type": "code",
      "metadata": {
        "id": "boHxnEOSZAJD",
        "colab_type": "code",
        "colab": {}
      },
      "source": [
        "# 학습방법 1 : 샘플코드\n",
        "## 할당된 GPU가 메모리가 작다면(e.g P4) oom에러 발생\n",
        "!python ./bert_files/run_squad.py \\\n",
        "  --vocab_file=./pretrained_files/multi_cased_L-12_H-768_A-12/vocab.txt \\\n",
        "  --bert_config_file=./pretrained_files/multi_cased_L-12_H-768_A-12/bert_config.json \\\n",
        "  --init_checkpoint=./pretrained_files/multi_cased_L-12_H-768_A-12/bert_model.ckpt \\\n",
        "  --do_train=True \\\n",
        "  --train_file=./KorQuAD_v1.0_train.json \\\n",
        "  --do_predict=True \\\n",
        "  --predict_file=./KorQuAD_v1.0_dev.json \\\n",
        "  --train_batch_size=16 \\\n",
        "  --learning_rate=3e-5 \\\n",
        "  --num_train_epochs=2.0 \\\n",
        "  --max_seq_length=256 \\\n",
        "  --doc_stride=128 \\\n",
        "  --output_dir=./temp \\\n",
        "  --do_lower_case=False \\"
      ],
      "execution_count": 0,
      "outputs": []
    },
    {
      "cell_type": "code",
      "metadata": {
        "id": "kmIweIkw9bwd",
        "colab_type": "code",
        "colab": {}
      },
      "source": [
        "# 학습방법 2 : output이 많아서 크롬 메모리가 걱정되거나, 학습 중에 다른 짓을 하고 싶을 때는 background로 실행\n",
        "## output이 많고 오래 걸리는 작업이라면, 향후 로그 관리나, 메모리 등등에서 이 방법이 더 나은 듯\n",
        "!nohup python ./bert_files/run_squad.py \\\n",
        "  --vocab_file=./pretrained_files/multi_cased_L-12_H-768_A-12/vocab.txt \\\n",
        "  --bert_config_file=./pretrained_files/multi_cased_L-12_H-768_A-12/bert_config.json \\\n",
        "  --init_checkpoint=./pretrained_files/multi_cased_L-12_H-768_A-12/bert_model.ckpt \\\n",
        "  --do_train=True \\\n",
        "  --train_file=./KorQuAD_v1.0_train.json \\\n",
        "  --do_predict=True \\\n",
        "  --predict_file=./KorQuAD_v1.0_dev.json \\\n",
        "  --train_batch_size=16 \\\n",
        "  --learning_rate=3e-5 \\\n",
        "  --num_train_epochs=2.0 \\\n",
        "  --max_seq_length=256 \\\n",
        "  --doc_stride=128 \\\n",
        "  --output_dir=./temp \\\n",
        "  --do_lower_case=False \\\n",
        "  > ./log_gpu.txt &"
      ],
      "execution_count": 0,
      "outputs": []
    },
    {
      "cell_type": "code",
      "metadata": {
        "id": "oLQoZMpRBsNS",
        "colab_type": "code",
        "colab": {}
      },
      "source": [
        "## nohub으로 background 학습 중이라면 tail로 모니터링\n",
        "!tail -f log_gpu.txt"
      ],
      "execution_count": 0,
      "outputs": []
    },
    {
      "cell_type": "code",
      "metadata": {
        "id": "BWdEaeCRcCGD",
        "colab_type": "code",
        "colab": {}
      },
      "source": [
        "# 학습결과물 확인\n",
        "ls ./temp"
      ],
      "execution_count": 0,
      "outputs": []
    },
    {
      "cell_type": "code",
      "metadata": {
        "id": "cOmDBDtpaEED",
        "colab_type": "code",
        "colab": {}
      },
      "source": [
        "# 성능평가\n",
        "\n",
        "!python ./evaluate-v1.0.py ./KorQuAD_v1.0_dev.json ./temp/predictions.json"
      ],
      "execution_count": 0,
      "outputs": []
    },
    {
      "cell_type": "code",
      "metadata": {
        "id": "wtVsndpKiQWz",
        "colab_type": "code",
        "colab": {}
      },
      "source": [
        "# 구글 드라이브 용량이 부족하면 종료하고 별도로 드라이브 앱에서 휴지통도 비워줄 것!\n",
        "#rm -r '/gdrive/My Drive/KorQuAD'"
      ],
      "execution_count": 0,
      "outputs": []
    },
    {
      "cell_type": "markdown",
      "metadata": {
        "id": "EfmNCUaShzyO",
        "colab_type": "text"
      },
      "source": [
        "### nohup으로 log 파일을 만들었다면 local로 다운로드"
      ]
    },
    {
      "cell_type": "code",
      "metadata": {
        "id": "f_2iUBvmh18X",
        "colab_type": "code",
        "colab": {}
      },
      "source": [
        "from google.colab import files\n",
        "\n",
        "files.download('./log_gpu.txt')"
      ],
      "execution_count": 0,
      "outputs": []
    },
    {
      "cell_type": "markdown",
      "metadata": {
        "id": "hJgIRf7fcSKo",
        "colab_type": "text"
      },
      "source": [
        "## Clean Up\n",
        "Before running the next exercise, run the following cell to terminate the kernel and free memory resources:"
      ]
    },
    {
      "cell_type": "code",
      "metadata": {
        "id": "DLJCfaYsiVPU",
        "colab_type": "code",
        "colab": {}
      },
      "source": [
        "import os, signal\n",
        "os.kill(os.getpid(), signal.SIGKILL)"
      ],
      "execution_count": 0,
      "outputs": []
    }
  ]
}